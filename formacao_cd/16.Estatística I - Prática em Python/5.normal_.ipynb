{
 "cells": [
  {
   "cell_type": "code",
   "metadata": {
    "ExecuteTime": {
     "end_time": "2025-09-15T16:14:03.169008Z",
     "start_time": "2025-09-15T16:14:03.161097Z"
    }
   },
   "source": [
    "# Formação Cientista de Dados - Fernando Amaral e Jones Granatyr\n",
    "# Distribuição normal"
   ],
   "outputs": [],
   "execution_count": 1
  },
  {
   "cell_type": "code",
   "metadata": {
    "ExecuteTime": {
     "end_time": "2025-09-15T16:14:07.094696Z",
     "start_time": "2025-09-15T16:14:05.793790Z"
    }
   },
   "source": [
    "# Importação da função norm\n",
    "from scipy.stats import norm"
   ],
   "outputs": [],
   "execution_count": 2
  },
  {
   "cell_type": "code",
   "metadata": {
    "ExecuteTime": {
     "end_time": "2025-09-15T16:14:09.684246Z",
     "start_time": "2025-09-15T16:14:09.664075Z"
    }
   },
   "source": [
    "# Conjunto de objetos em uma cesta, a média é 8 e o desvio padrão é 2\n",
    "# Qual a probabilidade de tirar um objeto que peso é menor que 6 quilos?\n",
    "norm.cdf(6, 8, 2)"
   ],
   "outputs": [
    {
     "data": {
      "text/plain": [
       "np.float64(0.15865525393145707)"
      ]
     },
     "execution_count": 3,
     "metadata": {},
     "output_type": "execute_result"
    }
   ],
   "execution_count": 3
  },
  {
   "cell_type": "code",
   "metadata": {
    "ExecuteTime": {
     "end_time": "2025-09-15T16:14:12.294974Z",
     "start_time": "2025-09-15T16:14:12.286729Z"
    }
   },
   "source": [
    "# Qual a probabilidade de tirar um objeto que o peso á maior que 6 quilos?\n",
    "#norm.sf(6, 8, 2)\n",
    "1 - norm.cdf(6, 8, 2)"
   ],
   "outputs": [
    {
     "data": {
      "text/plain": [
       "np.float64(0.8413447460685429)"
      ]
     },
     "execution_count": 4,
     "metadata": {},
     "output_type": "execute_result"
    }
   ],
   "execution_count": 4
  },
  {
   "cell_type": "code",
   "metadata": {
    "ExecuteTime": {
     "end_time": "2025-09-15T16:14:14.379059Z",
     "start_time": "2025-09-15T16:14:14.366915Z"
    }
   },
   "source": [
    "# Qual a probabilidade de tirar um objeto que o peso é menor que 6 ou maior que 10 quilos?\n",
    "norm.cdf(6, 8, 2) + norm.sf(10, 8, 2)"
   ],
   "outputs": [
    {
     "data": {
      "text/plain": [
       "np.float64(0.31731050786291415)"
      ]
     },
     "execution_count": 5,
     "metadata": {},
     "output_type": "execute_result"
    }
   ],
   "execution_count": 5
  },
  {
   "cell_type": "code",
   "metadata": {
    "ExecuteTime": {
     "end_time": "2025-09-15T16:14:16.456569Z",
     "start_time": "2025-09-15T16:14:16.425664Z"
    }
   },
   "source": [
    "# Qual a probabilidade de tirar um objeto que o peso é menor que 10 e maior que 8 quilos?\n",
    "norm.cdf(10, 8, 2) - norm.cdf(8, 8, 2)"
   ],
   "outputs": [
    {
     "data": {
      "text/plain": [
       "np.float64(0.3413447460685429)"
      ]
     },
     "execution_count": 6,
     "metadata": {},
     "output_type": "execute_result"
    }
   ],
   "execution_count": 6
  },
  {
   "cell_type": "code",
   "execution_count": null,
   "metadata": {},
   "outputs": [],
   "source": []
  }
 ],
 "metadata": {
  "jupytext": {
   "cell_metadata_filter": "-all",
   "main_language": "python",
   "notebook_metadata_filter": "-all"
  },
  "kernelspec": {
   "display_name": "Python 3",
   "language": "python",
   "name": "python3"
  },
  "language_info": {
   "codemirror_mode": {
    "name": "ipython",
    "version": 3
   },
   "file_extension": ".py",
   "mimetype": "text/x-python",
   "name": "python",
   "nbconvert_exporter": "python",
   "pygments_lexer": "ipython3",
   "version": "3.7.6"
  }
 },
 "nbformat": 4,
 "nbformat_minor": 4
}
