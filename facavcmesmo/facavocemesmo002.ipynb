{
 "cells": [
  {
   "cell_type": "code",
   "id": "initial_id",
   "metadata": {
    "collapsed": true,
    "ExecuteTime": {
     "end_time": "2025-08-18T17:44:40.288315Z",
     "start_time": "2025-08-18T17:44:40.268673Z"
    }
   },
   "source": [
    "import pandas as pd\n",
    "import seaborn as srn\n",
    "import statistics as sts"
   ],
   "outputs": [],
   "execution_count": 42
  },
  {
   "metadata": {
    "ExecuteTime": {
     "end_time": "2025-08-18T17:44:40.350889Z",
     "start_time": "2025-08-18T17:44:40.333985Z"
    }
   },
   "cell_type": "code",
   "source": [
    "dataset = pd.read_csv(\"tempo.csv\", sep=\";\")\n",
    "print(dataset)"
   ],
   "id": "5ac7d51e689418cc",
   "outputs": [
    {
     "name": "stdout",
     "output_type": "stream",
     "text": [
      "   Aparencia  Temperatura  Umidade       Vento Jogar\n",
      "0        sol           85     85.0       FALSO   nao\n",
      "1        sol           80     90.0  VERDADEIRO   nao\n",
      "2    nublado           83     86.0       FALSO   sim\n",
      "3      chuva           70      NaN       FALSO   sim\n",
      "4      chuva           68     80.0       FALSO   sim\n",
      "5      chuva           65     70.0  VERDADEIRO   nao\n",
      "6      menos           64     65.0  VERDADEIRO   sim\n",
      "7        sol         1220     95.0       FALSO   nao\n",
      "8        sol           69     70.0       FALSO   sim\n",
      "9      chuva           75    200.0         NaN   sim\n",
      "10       sol           75     70.0  VERDADEIRO   sim\n",
      "11   nublado           72     90.0  VERDADEIRO   sim\n",
      "12   nublado           81     75.0       FALSO   sim\n",
      "13     chuva           71     91.0  VERDADEIRO   nao\n"
     ]
    }
   ],
   "execution_count": 43
  },
  {
   "metadata": {
    "ExecuteTime": {
     "end_time": "2025-08-18T17:44:40.400507Z",
     "start_time": "2025-08-18T17:44:40.392691Z"
    }
   },
   "cell_type": "code",
   "source": "print(dataset.shape)",
   "id": "c0c1bcbdd729d90f",
   "outputs": [
    {
     "name": "stdout",
     "output_type": "stream",
     "text": [
      "(14, 5)\n"
     ]
    }
   ],
   "execution_count": 44
  },
  {
   "metadata": {
    "ExecuteTime": {
     "end_time": "2025-08-18T17:53:14.577677Z",
     "start_time": "2025-08-18T17:53:14.567035Z"
    }
   },
   "cell_type": "code",
   "source": [
    "agrupado = dataset.groupby([\"Aparencia\"]).size()\n",
    "agrupado"
   ],
   "id": "c50669f21505fe0",
   "outputs": [
    {
     "data": {
      "text/plain": [
       "Aparencia\n",
       "chuva      5\n",
       "nublado    3\n",
       "sol        6\n",
       "dtype: int64"
      ]
     },
     "execution_count": 71,
     "metadata": {},
     "output_type": "execute_result"
    }
   ],
   "execution_count": 71
  },
  {
   "metadata": {
    "ExecuteTime": {
     "end_time": "2025-08-18T17:53:24.710091Z",
     "start_time": "2025-08-18T17:53:24.688195Z"
    }
   },
   "cell_type": "code",
   "source": "dataset.isna().sum()",
   "id": "c9a77669e875da53",
   "outputs": [
    {
     "data": {
      "text/plain": [
       "Aparencia      0\n",
       "Temperatura    0\n",
       "Umidade        0\n",
       "Vento          0\n",
       "Jogar          0\n",
       "dtype: int64"
      ]
     },
     "execution_count": 72,
     "metadata": {},
     "output_type": "execute_result"
    }
   ],
   "execution_count": 72
  },
  {
   "metadata": {
    "ExecuteTime": {
     "end_time": "2025-08-18T17:53:33.754566Z",
     "start_time": "2025-08-18T17:53:33.736150Z"
    }
   },
   "cell_type": "code",
   "source": "dataset[\"Umidade\"].describe()",
   "id": "76d2ff77dda0cec8",
   "outputs": [
    {
     "data": {
      "text/plain": [
       "count    14.000000\n",
       "mean     81.267857\n",
       "std       9.576847\n",
       "min      65.000000\n",
       "25%      71.250000\n",
       "50%      85.125000\n",
       "75%      89.000000\n",
       "max      95.000000\n",
       "Name: Umidade, dtype: float64"
      ]
     },
     "execution_count": 73,
     "metadata": {},
     "output_type": "execute_result"
    }
   ],
   "execution_count": 73
  },
  {
   "metadata": {
    "ExecuteTime": {
     "end_time": "2025-08-18T17:44:41.093011Z",
     "start_time": "2025-08-18T17:44:41.084527Z"
    }
   },
   "cell_type": "code",
   "source": [
    "mediana = sts.median(dataset[\"Umidade\"])\n",
    "mediana"
   ],
   "id": "2b4b90ed4c225deb",
   "outputs": [
    {
     "data": {
      "text/plain": [
       "85.5"
      ]
     },
     "execution_count": 48,
     "metadata": {},
     "output_type": "execute_result"
    }
   ],
   "execution_count": 48
  },
  {
   "metadata": {
    "ExecuteTime": {
     "end_time": "2025-08-18T17:44:41.288834Z",
     "start_time": "2025-08-18T17:44:41.279078Z"
    }
   },
   "cell_type": "code",
   "source": "dataset['Umidade'].fillna(mediana, inplace=True)",
   "id": "2b996660c0a89afe",
   "outputs": [
    {
     "name": "stderr",
     "output_type": "stream",
     "text": [
      "/tmp/ipykernel_112019/4003398129.py:1: FutureWarning: A value is trying to be set on a copy of a DataFrame or Series through chained assignment using an inplace method.\n",
      "The behavior will change in pandas 3.0. This inplace method will never work because the intermediate object on which we are setting values always behaves as a copy.\n",
      "\n",
      "For example, when doing 'df[col].method(value, inplace=True)', try using 'df.method({col: value}, inplace=True)' or df[col] = df[col].method(value) instead, to perform the operation inplace on the original object.\n",
      "\n",
      "\n",
      "  dataset['Umidade'].fillna(mediana, inplace=True)\n"
     ]
    }
   ],
   "execution_count": 49
  },
  {
   "metadata": {
    "ExecuteTime": {
     "end_time": "2025-08-18T17:44:41.364357Z",
     "start_time": "2025-08-18T17:44:41.355755Z"
    }
   },
   "cell_type": "code",
   "source": "dataset['Umidade'].isnull().sum()",
   "id": "cdeb2a33e021892",
   "outputs": [
    {
     "data": {
      "text/plain": [
       "np.int64(0)"
      ]
     },
     "execution_count": 50,
     "metadata": {},
     "output_type": "execute_result"
    }
   ],
   "execution_count": 50
  },
  {
   "metadata": {
    "ExecuteTime": {
     "end_time": "2025-08-18T17:44:41.421895Z",
     "start_time": "2025-08-18T17:44:41.411963Z"
    }
   },
   "cell_type": "code",
   "source": "dataset['Vento'].isnull().sum()",
   "id": "a0d3dde4925e6467",
   "outputs": [
    {
     "data": {
      "text/plain": [
       "np.int64(1)"
      ]
     },
     "execution_count": 51,
     "metadata": {},
     "output_type": "execute_result"
    }
   ],
   "execution_count": 51
  },
  {
   "metadata": {
    "ExecuteTime": {
     "end_time": "2025-08-18T17:56:39.066548Z",
     "start_time": "2025-08-18T17:56:39.057535Z"
    }
   },
   "cell_type": "code",
   "source": [
    "agrupado = dataset.groupby(['Vento']).size()\n",
    "agrupado"
   ],
   "id": "d66cdf216c812869",
   "outputs": [
    {
     "data": {
      "text/plain": [
       "Vento\n",
       "FALSO         8\n",
       "VERDADEIRO    6\n",
       "dtype: int64"
      ]
     },
     "execution_count": 78,
     "metadata": {},
     "output_type": "execute_result"
    }
   ],
   "execution_count": 78
  },
  {
   "metadata": {
    "ExecuteTime": {
     "end_time": "2025-08-18T17:56:33.111613Z",
     "start_time": "2025-08-18T17:56:33.094973Z"
    }
   },
   "cell_type": "code",
   "source": "dataset.loc[dataset['Vento'] == 'Falso', 'Vento'] = 'FALSO'",
   "id": "7aeaa759acc61cab",
   "outputs": [],
   "execution_count": 77
  },
  {
   "metadata": {
    "ExecuteTime": {
     "end_time": "2025-08-18T17:44:41.858200Z",
     "start_time": "2025-08-18T17:44:41.849741Z"
    }
   },
   "cell_type": "code",
   "source": "dataset['Vento'].isnull().sum()",
   "id": "fcc0d76d65d834aa",
   "outputs": [
    {
     "data": {
      "text/plain": [
       "np.int64(0)"
      ]
     },
     "execution_count": 54,
     "metadata": {},
     "output_type": "execute_result"
    }
   ],
   "execution_count": 54
  },
  {
   "metadata": {
    "ExecuteTime": {
     "end_time": "2025-08-18T17:44:41.925740Z",
     "start_time": "2025-08-18T17:44:41.913304Z"
    }
   },
   "cell_type": "code",
   "source": [
    "dataset.loc[dataset['Aparencia'] == 'menos', 'Aparencia'] = \"sol\"\n",
    "agrupado = dataset.groupby(['Aparencia']).size()\n",
    "agrupado"
   ],
   "id": "dcca1e431798b58d",
   "outputs": [
    {
     "data": {
      "text/plain": [
       "Aparencia\n",
       "chuva      5\n",
       "nublado    3\n",
       "sol        6\n",
       "dtype: int64"
      ]
     },
     "execution_count": 55,
     "metadata": {},
     "output_type": "execute_result"
    }
   ],
   "execution_count": 55
  },
  {
   "metadata": {
    "ExecuteTime": {
     "end_time": "2025-08-18T17:56:54.587736Z",
     "start_time": "2025-08-18T17:56:54.552069Z"
    }
   },
   "cell_type": "code",
   "source": "dataset['Temperatura'].describe()",
   "id": "4d2b3117d6752fcf",
   "outputs": [
    {
     "data": {
      "text/plain": [
       "count    14.000000\n",
       "mean     73.678571\n",
       "std       6.556286\n",
       "min      64.000000\n",
       "25%      69.250000\n",
       "50%      72.750000\n",
       "75%      78.750000\n",
       "max      85.000000\n",
       "Name: Temperatura, dtype: float64"
      ]
     },
     "execution_count": 79,
     "metadata": {},
     "output_type": "execute_result"
    }
   ],
   "execution_count": 79
  },
  {
   "metadata": {
    "ExecuteTime": {
     "end_time": "2025-08-18T17:44:42.561181Z",
     "start_time": "2025-08-18T17:44:42.542996Z"
    }
   },
   "cell_type": "code",
   "source": "dataset.loc[(dataset['Temperatura'] < -130) | (dataset['Temperatura'] > 130)]",
   "id": "cebe8ae775a4e995",
   "outputs": [
    {
     "data": {
      "text/plain": [
       "  Aparencia  Temperatura  Umidade  Vento Jogar\n",
       "7       sol         1220     95.0  FALSO   nao"
      ],
      "text/html": [
       "<div>\n",
       "<style scoped>\n",
       "    .dataframe tbody tr th:only-of-type {\n",
       "        vertical-align: middle;\n",
       "    }\n",
       "\n",
       "    .dataframe tbody tr th {\n",
       "        vertical-align: top;\n",
       "    }\n",
       "\n",
       "    .dataframe thead th {\n",
       "        text-align: right;\n",
       "    }\n",
       "</style>\n",
       "<table border=\"1\" class=\"dataframe\">\n",
       "  <thead>\n",
       "    <tr style=\"text-align: right;\">\n",
       "      <th></th>\n",
       "      <th>Aparencia</th>\n",
       "      <th>Temperatura</th>\n",
       "      <th>Umidade</th>\n",
       "      <th>Vento</th>\n",
       "      <th>Jogar</th>\n",
       "    </tr>\n",
       "  </thead>\n",
       "  <tbody>\n",
       "    <tr>\n",
       "      <th>7</th>\n",
       "      <td>sol</td>\n",
       "      <td>1220</td>\n",
       "      <td>95.0</td>\n",
       "      <td>FALSO</td>\n",
       "      <td>nao</td>\n",
       "    </tr>\n",
       "  </tbody>\n",
       "</table>\n",
       "</div>"
      ]
     },
     "execution_count": 57,
     "metadata": {},
     "output_type": "execute_result"
    }
   ],
   "execution_count": 57
  },
  {
   "metadata": {
    "ExecuteTime": {
     "end_time": "2025-08-18T17:44:42.758556Z",
     "start_time": "2025-08-18T17:44:42.750178Z"
    }
   },
   "cell_type": "code",
   "source": [
    "mediana = sts.median(dataset[\"Temperatura\"])\n",
    "mediana"
   ],
   "id": "77351bd9387b8e33",
   "outputs": [
    {
     "data": {
      "text/plain": [
       "73.5"
      ]
     },
     "execution_count": 58,
     "metadata": {},
     "output_type": "execute_result"
    }
   ],
   "execution_count": 58
  },
  {
   "metadata": {
    "ExecuteTime": {
     "end_time": "2025-08-18T17:44:42.904620Z",
     "start_time": "2025-08-18T17:44:42.897198Z"
    }
   },
   "cell_type": "code",
   "source": "dataset.loc[(dataset['Temperatura'] < -130) | (dataset['Temperatura'] > 130), 'Temperatura'] = mediana",
   "id": "228db16de428e35d",
   "outputs": [
    {
     "name": "stderr",
     "output_type": "stream",
     "text": [
      "/tmp/ipykernel_112019/1004128301.py:1: FutureWarning: Setting an item of incompatible dtype is deprecated and will raise an error in a future version of pandas. Value '73.5' has dtype incompatible with int64, please explicitly cast to a compatible dtype first.\n",
      "  dataset.loc[(dataset['Temperatura'] < -130) | (dataset['Temperatura'] > 130), 'Temperatura'] = mediana\n"
     ]
    }
   ],
   "execution_count": 59
  },
  {
   "metadata": {
    "ExecuteTime": {
     "end_time": "2025-08-18T17:44:42.984845Z",
     "start_time": "2025-08-18T17:44:42.965715Z"
    }
   },
   "cell_type": "code",
   "source": "dataset.loc[(dataset['Temperatura'] < -130) | (dataset['Temperatura'] > 130)]",
   "id": "3b35f7395b981a23",
   "outputs": [
    {
     "data": {
      "text/plain": [
       "Empty DataFrame\n",
       "Columns: [Aparencia, Temperatura, Umidade, Vento, Jogar]\n",
       "Index: []"
      ],
      "text/html": [
       "<div>\n",
       "<style scoped>\n",
       "    .dataframe tbody tr th:only-of-type {\n",
       "        vertical-align: middle;\n",
       "    }\n",
       "\n",
       "    .dataframe tbody tr th {\n",
       "        vertical-align: top;\n",
       "    }\n",
       "\n",
       "    .dataframe thead th {\n",
       "        text-align: right;\n",
       "    }\n",
       "</style>\n",
       "<table border=\"1\" class=\"dataframe\">\n",
       "  <thead>\n",
       "    <tr style=\"text-align: right;\">\n",
       "      <th></th>\n",
       "      <th>Aparencia</th>\n",
       "      <th>Temperatura</th>\n",
       "      <th>Umidade</th>\n",
       "      <th>Vento</th>\n",
       "      <th>Jogar</th>\n",
       "    </tr>\n",
       "  </thead>\n",
       "  <tbody>\n",
       "  </tbody>\n",
       "</table>\n",
       "</div>"
      ]
     },
     "execution_count": 60,
     "metadata": {},
     "output_type": "execute_result"
    }
   ],
   "execution_count": 60
  },
  {
   "metadata": {
    "ExecuteTime": {
     "end_time": "2025-08-18T17:44:43.156291Z",
     "start_time": "2025-08-18T17:44:43.134240Z"
    }
   },
   "cell_type": "code",
   "source": "dataset.loc[(dataset['Umidade'] < 0) | (dataset['Umidade'] > 100)]",
   "id": "7c1df1c3d4714863",
   "outputs": [
    {
     "data": {
      "text/plain": [
       "  Aparencia  Temperatura  Umidade  Vento Jogar\n",
       "9     chuva         75.0    200.0  Falso   sim"
      ],
      "text/html": [
       "<div>\n",
       "<style scoped>\n",
       "    .dataframe tbody tr th:only-of-type {\n",
       "        vertical-align: middle;\n",
       "    }\n",
       "\n",
       "    .dataframe tbody tr th {\n",
       "        vertical-align: top;\n",
       "    }\n",
       "\n",
       "    .dataframe thead th {\n",
       "        text-align: right;\n",
       "    }\n",
       "</style>\n",
       "<table border=\"1\" class=\"dataframe\">\n",
       "  <thead>\n",
       "    <tr style=\"text-align: right;\">\n",
       "      <th></th>\n",
       "      <th>Aparencia</th>\n",
       "      <th>Temperatura</th>\n",
       "      <th>Umidade</th>\n",
       "      <th>Vento</th>\n",
       "      <th>Jogar</th>\n",
       "    </tr>\n",
       "  </thead>\n",
       "  <tbody>\n",
       "    <tr>\n",
       "      <th>9</th>\n",
       "      <td>chuva</td>\n",
       "      <td>75.0</td>\n",
       "      <td>200.0</td>\n",
       "      <td>Falso</td>\n",
       "      <td>sim</td>\n",
       "    </tr>\n",
       "  </tbody>\n",
       "</table>\n",
       "</div>"
      ]
     },
     "execution_count": 61,
     "metadata": {},
     "output_type": "execute_result"
    }
   ],
   "execution_count": 61
  },
  {
   "metadata": {
    "ExecuteTime": {
     "end_time": "2025-08-18T17:44:43.380631Z",
     "start_time": "2025-08-18T17:44:43.370113Z"
    }
   },
   "cell_type": "code",
   "source": [
    "mediana = sts.median(dataset[\"Umidade\"])\n",
    "mediana"
   ],
   "id": "46e7c64cc6359c0d",
   "outputs": [
    {
     "data": {
      "text/plain": [
       "85.25"
      ]
     },
     "execution_count": 62,
     "metadata": {},
     "output_type": "execute_result"
    }
   ],
   "execution_count": 62
  },
  {
   "metadata": {
    "ExecuteTime": {
     "end_time": "2025-08-18T17:44:43.507906Z",
     "start_time": "2025-08-18T17:44:43.500870Z"
    }
   },
   "cell_type": "code",
   "source": "dataset.loc[(dataset['Umidade'] < 0) | (dataset['Umidade'] > 100), 'Umidade'] = mediana",
   "id": "49fa0f4d688845cc",
   "outputs": [],
   "execution_count": 63
  },
  {
   "metadata": {
    "ExecuteTime": {
     "end_time": "2025-08-18T17:44:43.608734Z",
     "start_time": "2025-08-18T17:44:43.586188Z"
    }
   },
   "cell_type": "code",
   "source": "dataset.loc[(dataset['Umidade'] < 0) | (dataset['Umidade'] > 100)]",
   "id": "99c14abb0e59b49e",
   "outputs": [
    {
     "data": {
      "text/plain": [
       "Empty DataFrame\n",
       "Columns: [Aparencia, Temperatura, Umidade, Vento, Jogar]\n",
       "Index: []"
      ],
      "text/html": [
       "<div>\n",
       "<style scoped>\n",
       "    .dataframe tbody tr th:only-of-type {\n",
       "        vertical-align: middle;\n",
       "    }\n",
       "\n",
       "    .dataframe tbody tr th {\n",
       "        vertical-align: top;\n",
       "    }\n",
       "\n",
       "    .dataframe thead th {\n",
       "        text-align: right;\n",
       "    }\n",
       "</style>\n",
       "<table border=\"1\" class=\"dataframe\">\n",
       "  <thead>\n",
       "    <tr style=\"text-align: right;\">\n",
       "      <th></th>\n",
       "      <th>Aparencia</th>\n",
       "      <th>Temperatura</th>\n",
       "      <th>Umidade</th>\n",
       "      <th>Vento</th>\n",
       "      <th>Jogar</th>\n",
       "    </tr>\n",
       "  </thead>\n",
       "  <tbody>\n",
       "  </tbody>\n",
       "</table>\n",
       "</div>"
      ]
     },
     "execution_count": 64,
     "metadata": {},
     "output_type": "execute_result"
    }
   ],
   "execution_count": 64
  },
  {
   "metadata": {
    "ExecuteTime": {
     "end_time": "2025-08-18T17:44:43.857096Z",
     "start_time": "2025-08-18T17:44:43.849487Z"
    }
   },
   "cell_type": "code",
   "source": "dataset.isnull().sum()",
   "id": "ef5bf580c78bc8a2",
   "outputs": [
    {
     "data": {
      "text/plain": [
       "Aparencia      0\n",
       "Temperatura    0\n",
       "Umidade        0\n",
       "Vento          0\n",
       "Jogar          0\n",
       "dtype: int64"
      ]
     },
     "execution_count": 65,
     "metadata": {},
     "output_type": "execute_result"
    }
   ],
   "execution_count": 65
  },
  {
   "metadata": {
    "ExecuteTime": {
     "end_time": "2025-08-18T17:44:44.114920Z",
     "start_time": "2025-08-18T17:44:44.104982Z"
    }
   },
   "cell_type": "code",
   "source": [
    "agrupado = dataset.groupby(['Jogar']).size()\n",
    "agrupado"
   ],
   "id": "45c3b233caab3d53",
   "outputs": [
    {
     "data": {
      "text/plain": [
       "Jogar\n",
       "nao    5\n",
       "sim    9\n",
       "dtype: int64"
      ]
     },
     "execution_count": 66,
     "metadata": {},
     "output_type": "execute_result"
    }
   ],
   "execution_count": 66
  },
  {
   "metadata": {
    "ExecuteTime": {
     "end_time": "2025-08-18T17:57:13.102048Z",
     "start_time": "2025-08-18T17:57:13.068716Z"
    }
   },
   "cell_type": "code",
   "source": "print(dataset)",
   "id": "fe9793a2e86ff2fa",
   "outputs": [
    {
     "name": "stdout",
     "output_type": "stream",
     "text": [
      "   Aparencia  Temperatura  Umidade       Vento Jogar\n",
      "0        sol         85.0    85.00       FALSO   nao\n",
      "1        sol         80.0    90.00  VERDADEIRO   nao\n",
      "2    nublado         83.0    86.00       FALSO   sim\n",
      "3      chuva         70.0    85.50       FALSO   sim\n",
      "4      chuva         68.0    80.00       FALSO   sim\n",
      "5      chuva         65.0    70.00  VERDADEIRO   nao\n",
      "6        sol         64.0    65.00  VERDADEIRO   sim\n",
      "7        sol         73.5    95.00       FALSO   nao\n",
      "8        sol         69.0    70.00       FALSO   sim\n",
      "9      chuva         75.0    85.25       FALSO   sim\n",
      "10       sol         75.0    70.00  VERDADEIRO   sim\n",
      "11   nublado         72.0    90.00  VERDADEIRO   sim\n",
      "12   nublado         81.0    75.00       FALSO   sim\n",
      "13     chuva         71.0    91.00  VERDADEIRO   nao\n"
     ]
    }
   ],
   "execution_count": 80
  },
  {
   "metadata": {
    "ExecuteTime": {
     "end_time": "2025-08-18T17:50:34.059834Z",
     "start_time": "2025-08-18T17:50:33.735440Z"
    }
   },
   "cell_type": "code",
   "source": "srn.histplot(dataset['Temperatura']).set_title('Temperatura')",
   "id": "4d0d20b52ab9e444",
   "outputs": [
    {
     "data": {
      "text/plain": [
       "Text(0.5, 1.0, 'Temperatura')"
      ]
     },
     "execution_count": 68,
     "metadata": {},
     "output_type": "execute_result"
    },
    {
     "data": {
      "text/plain": [
       "<Figure size 640x480 with 1 Axes>"
      ],
      "image/png": "[encoded data removed]"
     },
     "metadata": {},
     "output_type": "display_data"
    }
   ],
   "execution_count": 68
  },
  {
   "metadata": {
    "ExecuteTime": {
     "end_time": "2025-08-18T17:51:28.981242Z",
     "start_time": "2025-08-18T17:51:28.596962Z"
    }
   },
   "cell_type": "code",
   "source": "srn.histplot(dataset['Umidade']).set_title('Umidade')",
   "id": "72d9e676c05eb92",
   "outputs": [
    {
     "data": {
      "text/plain": [
       "Text(0.5, 1.0, 'Umidade')"
      ]
     },
     "execution_count": 69,
     "metadata": {},
     "output_type": "execute_result"
    },
    {
     "data": {
      "text/plain": [
       "<Figure size 640x480 with 1 Axes>"
      ],
      "image/png": "[encoded data removed]"
     },
     "metadata": {},
     "output_type": "display_data"
    }
   ],
   "execution_count": 69
  },
  {
   "metadata": {
    "ExecuteTime": {
     "end_time": "2025-08-18T17:52:45.924299Z",
     "start_time": "2025-08-18T17:52:45.609082Z"
    }
   },
   "cell_type": "code",
   "source": "srn.boxplot(dataset['Temperatura']).set_title('Temperatura')",
   "id": "cd0a1557abaf7652",
   "outputs": [
    {
     "data": {
      "text/plain": [
       "Text(0.5, 1.0, 'Temperatura')"
      ]
     },
     "execution_count": 70,
     "metadata": {},
     "output_type": "execute_result"
    },
    {
     "data": {
      "text/plain": [
       "<Figure size 640x480 with 1 Axes>"
      ],
      "image/png": "[encoded data removed]"
     },
     "metadata": {},
     "output_type": "display_data"
    }
   ],
   "execution_count": 70
  }
 ],
 "metadata": {
  "kernelspec": {
   "display_name": "Python 3",
   "language": "python",
   "name": "python3"
  },
  "language_info": {
   "codemirror_mode": {
    "name": "ipython",
    "version": 2
   },
   "file_extension": ".py",
   "mimetype": "text/x-python",
   "name": "python",
   "nbconvert_exporter": "python",
   "pygments_lexer": "ipython2",
   "version": "2.7.6"
  }
 },
 "nbformat": 4,
 "nbformat_minor": 5
}
