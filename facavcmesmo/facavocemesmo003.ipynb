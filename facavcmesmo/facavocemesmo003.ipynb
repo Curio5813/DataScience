{
 "cells": [
  {
   "cell_type": "code",
   "id": "initial_id",
   "metadata": {
    "collapsed": true,
    "ExecuteTime": {
     "end_time": "2025-08-22T16:03:33.580Z",
     "start_time": "2025-08-22T16:03:33.572457Z"
    }
   },
   "source": [
    "import pandas as pd\n",
    "import matplotlib.pyplot as plt\n",
    "import numpy as np\n",
    "import seaborn as snr"
   ],
   "outputs": [],
   "execution_count": 27
  },
  {
   "metadata": {
    "ExecuteTime": {
     "end_time": "2025-08-22T15:39:48.205297Z",
     "start_time": "2025-08-22T15:39:48.191864Z"
    }
   },
   "cell_type": "code",
   "source": [
    "base = pd.read_csv('dados.csv', sep=';')\n",
    "base.shape"
   ],
   "id": "7bbf12a503eb2244",
   "outputs": [
    {
     "data": {
      "text/plain": [
       "(187, 4)"
      ]
     },
     "execution_count": 5,
     "metadata": {},
     "output_type": "execute_result"
    }
   ],
   "execution_count": 5
  },
  {
   "metadata": {
    "ExecuteTime": {
     "end_time": "2025-08-22T15:39:51.016198Z",
     "start_time": "2025-08-22T15:39:50.995641Z"
    }
   },
   "cell_type": "code",
   "source": "base.head()",
   "id": "28346adef18c1431",
   "outputs": [
    {
     "data": {
      "text/plain": [
       "   CODIGO               MUNICIPIO       PIB  VALOREMPENHO\n",
       "0     106   SANTANA DO LIVRAMENTO  12240.76    1088666.10\n",
       "1     113            SANTO ANGELO  16575.82     800669.92\n",
       "2     118  SAO FRANCISCO DE ASSIS  12037.61     466122.80\n",
       "3      13         CACAPAVA DO SUL  13674.54     485535.86\n",
       "4     120             SAO GABRIEL  19912.38     533719.86"
      ],
      "text/html": [
       "<div>\n",
       "<style scoped>\n",
       "    .dataframe tbody tr th:only-of-type {\n",
       "        vertical-align: middle;\n",
       "    }\n",
       "\n",
       "    .dataframe tbody tr th {\n",
       "        vertical-align: top;\n",
       "    }\n",
       "\n",
       "    .dataframe thead th {\n",
       "        text-align: right;\n",
       "    }\n",
       "</style>\n",
       "<table border=\"1\" class=\"dataframe\">\n",
       "  <thead>\n",
       "    <tr style=\"text-align: right;\">\n",
       "      <th></th>\n",
       "      <th>CODIGO</th>\n",
       "      <th>MUNICIPIO</th>\n",
       "      <th>PIB</th>\n",
       "      <th>VALOREMPENHO</th>\n",
       "    </tr>\n",
       "  </thead>\n",
       "  <tbody>\n",
       "    <tr>\n",
       "      <th>0</th>\n",
       "      <td>106</td>\n",
       "      <td>SANTANA DO LIVRAMENTO</td>\n",
       "      <td>12240.76</td>\n",
       "      <td>1088666.10</td>\n",
       "    </tr>\n",
       "    <tr>\n",
       "      <th>1</th>\n",
       "      <td>113</td>\n",
       "      <td>SANTO ANGELO</td>\n",
       "      <td>16575.82</td>\n",
       "      <td>800669.92</td>\n",
       "    </tr>\n",
       "    <tr>\n",
       "      <th>2</th>\n",
       "      <td>118</td>\n",
       "      <td>SAO FRANCISCO DE ASSIS</td>\n",
       "      <td>12037.61</td>\n",
       "      <td>466122.80</td>\n",
       "    </tr>\n",
       "    <tr>\n",
       "      <th>3</th>\n",
       "      <td>13</td>\n",
       "      <td>CACAPAVA DO SUL</td>\n",
       "      <td>13674.54</td>\n",
       "      <td>485535.86</td>\n",
       "    </tr>\n",
       "    <tr>\n",
       "      <th>4</th>\n",
       "      <td>120</td>\n",
       "      <td>SAO GABRIEL</td>\n",
       "      <td>19912.38</td>\n",
       "      <td>533719.86</td>\n",
       "    </tr>\n",
       "  </tbody>\n",
       "</table>\n",
       "</div>"
      ]
     },
     "execution_count": 6,
     "metadata": {},
     "output_type": "execute_result"
    }
   ],
   "execution_count": 6
  },
  {
   "metadata": {
    "ExecuteTime": {
     "end_time": "2025-08-22T15:50:16.384021Z",
     "start_time": "2025-08-22T15:50:16.367336Z"
    }
   },
   "cell_type": "code",
   "source": [
    "agrupado = base.groupby(['VALOREMPENHO', 'PIB']).size()\n",
    "agrupado"
   ],
   "id": "911d371ec7204df2",
   "outputs": [
    {
     "data": {
      "text/plain": [
       "VALOREMPENHO  PIB      \n",
       "172.13        24363.31     1\n",
       "233.01        16876.33     1\n",
       "310.58        25938.38     1\n",
       "365.00        29654.02     1\n",
       "760.00        17213.98     2\n",
       "                          ..\n",
       "485535.86     13674.54     1\n",
       "533719.86     19912.38     1\n",
       "800669.92     16575.82     1\n",
       "1088666.10    12240.76     1\n",
       "1442759.82    223848.22    1\n",
       "Length: 177, dtype: int64"
      ]
     },
     "execution_count": 16,
     "metadata": {},
     "output_type": "execute_result"
    }
   ],
   "execution_count": 16
  },
  {
   "metadata": {
    "ExecuteTime": {
     "end_time": "2025-08-22T15:52:28.775115Z",
     "start_time": "2025-08-22T15:52:28.753533Z"
    }
   },
   "cell_type": "code",
   "source": "base['PIB'].describe()",
   "id": "db7aa19f9745eaf4",
   "outputs": [
    {
     "data": {
      "text/plain": [
       "count       187.000000\n",
       "mean      19808.741337\n",
       "std       16984.223244\n",
       "min        8236.630000\n",
       "25%       13621.455000\n",
       "50%       17206.190000\n",
       "75%       21429.165000\n",
       "max      223848.220000\n",
       "Name: PIB, dtype: float64"
      ]
     },
     "execution_count": 18,
     "metadata": {},
     "output_type": "execute_result"
    }
   ],
   "execution_count": 18
  },
  {
   "metadata": {
    "ExecuteTime": {
     "end_time": "2025-08-22T15:53:41.845955Z",
     "start_time": "2025-08-22T15:53:41.811887Z"
    }
   },
   "cell_type": "code",
   "source": "base['VALOREMPENHO'].describe()",
   "id": "77edfb70bf63b451",
   "outputs": [
    {
     "data": {
      "text/plain": [
       "count    1.870000e+02\n",
       "mean     1.299844e+05\n",
       "std      1.615491e+05\n",
       "min      1.721300e+02\n",
       "25%      5.251718e+04\n",
       "50%      8.422816e+04\n",
       "75%      1.538961e+05\n",
       "max      1.442760e+06\n",
       "Name: VALOREMPENHO, dtype: float64"
      ]
     },
     "execution_count": 19,
     "metadata": {},
     "output_type": "execute_result"
    }
   ],
   "execution_count": 19
  },
  {
   "metadata": {
    "ExecuteTime": {
     "end_time": "2025-08-22T16:02:05.526945Z",
     "start_time": "2025-08-22T16:02:05.492532Z"
    }
   },
   "cell_type": "code",
   "source": [
    "h = np.histogram(base.iloc[:, 2], bins='auto')\n",
    "h"
   ],
   "id": "e040912f0869b9fe",
   "outputs": [
    {
     "data": {
      "text/plain": [
       "(array([77, 73, 30,  3,  1,  0,  0,  1,  1,  0,  0,  0,  0,  0,  0,  0,  0,\n",
       "         0,  0,  0,  0,  0,  0,  0,  0,  0,  0,  1]),\n",
       " array([  8236.63      ,  15937.04392857,  23637.45785714,  31337.87178571,\n",
       "         39038.28571429,  46738.69964286,  54439.11357143,  62139.5275    ,\n",
       "         69839.94142857,  77540.35535714,  85240.76928571,  92941.18321429,\n",
       "        100641.59714286, 108342.01107143, 116042.425     , 123742.83892857,\n",
       "        131443.25285714, 139143.66678571, 146844.08071429, 154544.49464286,\n",
       "        162244.90857143, 169945.3225    , 177645.73642857, 185346.15035714,\n",
       "        193046.56428571, 200746.97821429, 208447.39214286, 216147.80607143,\n",
       "        223848.22      ]))"
      ]
     },
     "execution_count": 25,
     "metadata": {},
     "output_type": "execute_result"
    }
   ],
   "execution_count": 25
  },
  {
   "metadata": {
    "ExecuteTime": {
     "end_time": "2025-08-22T16:04:12.958998Z",
     "start_time": "2025-08-22T16:04:12.653609Z"
    }
   },
   "cell_type": "code",
   "source": [
    "plt.hist(base.iloc[:,2], bins = 6)\n",
    "plt.title('PIB Municípios Gaúchos')\n",
    "plt.ylabel('Município')\n",
    "plt.xlabel('PIB')"
   ],
   "id": "17395a53901c9778",
   "outputs": [
    {
     "data": {
      "text/plain": [
       "Text(0.5, 0, 'PIB')"
      ]
     },
     "execution_count": 28,
     "metadata": {},
     "output_type": "execute_result"
    },
    {
     "data": {
      "text/plain": [
       "<Figure size 640x480 with 1 Axes>"
      ],
      "image/png": "[encoded data removed]"
     },
     "metadata": {},
     "output_type": "display_data"
    }
   ],
   "execution_count": 28
  },
  {
   "metadata": {
    "ExecuteTime": {
     "end_time": "2025-08-22T16:08:06.479443Z",
     "start_time": "2025-08-22T16:08:06.142240Z"
    }
   },
   "cell_type": "code",
   "source": [
    "plt.hist(base.iloc[:,3], bins = 6)\n",
    "plt.title('Empenho Diário nos Municípios Gaúchos')\n",
    "plt.ylabel('Município')\n",
    "plt.xlabel('Valor Empenho')"
   ],
   "id": "d18fa0f6cefda709",
   "outputs": [
    {
     "data": {
      "text/plain": [
       "Text(0.5, 0, 'Valor Empenho')"
      ]
     },
     "execution_count": 29,
     "metadata": {},
     "output_type": "execute_result"
    },
    {
     "data": {
      "text/plain": [
       "<Figure size 640x480 with 1 Axes>"
      ],
      "image/png": "[encoded data removed]"
     },
     "metadata": {},
     "output_type": "display_data"
    }
   ],
   "execution_count": 29
  }
 ],
 "metadata": {
  "kernelspec": {
   "display_name": "Python 3",
   "language": "python",
   "name": "python3"
  },
  "language_info": {
   "codemirror_mode": {
    "name": "ipython",
    "version": 2
   },
   "file_extension": ".py",
   "mimetype": "text/x-python",
   "name": "python",
   "nbconvert_exporter": "python",
   "pygments_lexer": "ipython2",
   "version": "2.7.6"
  }
 },
 "nbformat": 4,
 "nbformat_minor": 5
}
