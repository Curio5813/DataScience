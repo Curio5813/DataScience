{
 "cells": [
  {
   "cell_type": "code",
   "id": "initial_id",
   "metadata": {
    "collapsed": true,
    "ExecuteTime": {
     "end_time": "2025-08-15T13:48:17.815854Z",
     "start_time": "2025-08-15T13:48:17.809134Z"
    }
   },
   "source": [
    "def amplitude(x):\n",
    "    \"\"\"\n",
    "    Faça um programa que tenha uma função chamada amplitude. A função deve receber uma lista e\n",
    "    imprimir a amplitude.\n",
    "    Crie também um código para testar sua função\n",
    "    :return:\n",
    "    \"\"\"\n",
    "    amp = abs(max(x) - min(x))\n",
    "    print(amp)\n",
    "\n",
    "lista = [1, 2, 3, 4, 5, 6, 7, 8, 9, 10]\n",
    "amplitude(lista)\n"
   ],
   "outputs": [
    {
     "name": "stdout",
     "output_type": "stream",
     "text": [
      "9\n"
     ]
    }
   ],
   "execution_count": 2
  },
  {
   "metadata": {
    "ExecuteTime": {
     "end_time": "2025-08-15T13:52:33.148729Z",
     "start_time": "2025-08-15T13:52:20.684505Z"
    }
   },
   "cell_type": "code",
   "source": [
    "def imprime_string_vertical(palavra):\n",
    "    \"\"\"\n",
    "    Faça uma função que receba uma string e imprima esta string na forma vertical\n",
    "    Por exemplo, se receber python, deve imprimir\n",
    "    p\n",
    "    y\n",
    "    t\n",
    "    h\n",
    "    o\n",
    "    n\n",
    "    Dica: uma string do python funciona como uma lista!\n",
    "    Crie também um código para testar sua função\n",
    "    :return:\n",
    "    \"\"\"\n",
    "    for i in palavra:\n",
    "        print(i)\n",
    "\n",
    "texto = input(\"Digite um palavra: \")\n",
    "imprime_string_vertical(texto)"
   ],
   "id": "6aceca2a419542a2",
   "outputs": [
    {
     "name": "stdout",
     "output_type": "stream",
     "text": [
      "M\n",
      "a\n",
      "c\n",
      "a\n",
      "c\n",
      "o\n",
      "s\n",
      " \n",
      "m\n",
      "e\n",
      " \n",
      "m\n",
      "o\n",
      "r\n",
      "d\n",
      "a\n",
      "m\n",
      "\n",
      "\n"
     ]
    }
   ],
   "execution_count": 3
  },
  {
   "metadata": {
    "ExecuteTime": {
     "end_time": "2025-08-15T13:58:05.484821Z",
     "start_time": "2025-08-15T13:58:00.766510Z"
    }
   },
   "cell_type": "code",
   "source": [
    "def transporte_cargas(kg):\n",
    "    \"\"\"\n",
    "    Crie um programa que leia o peso de uma carga em números inteiros. Se o peso for até 10 kg,\n",
    "    informe que o valor será de R$ 50,00. Entre 11 e 20 kg, informe que o valor será de R$ 80.\n",
    "    Se for maior que 20, informe que o transporte não é aceito. Teste vários pesos.\n",
    "    :return:\n",
    "    \"\"\"\n",
    "    if kg <= 10:\n",
    "        print(\"O valor do frete é de R$ 50,00\")\n",
    "    elif 10 < kg <= 20:\n",
    "        print(\"O valor do frete é de R$ 80,00\")\n",
    "    else:\n",
    "        print(\"Infelizmente não fazemos transporte de carga com mais de 20,00 Kg!\")\n",
    "\n",
    "\n",
    "carga = float(input(\"Qual o peso da carga? \"))\n",
    "transporte_cargas(carga)\n"
   ],
   "id": "2ff0b6b66bf990ec",
   "outputs": [
    {
     "name": "stdout",
     "output_type": "stream",
     "text": [
      "Infelizmente não fazemos transporte de carga com mais de 20,00 Kg!\n"
     ]
    }
   ],
   "execution_count": 7
  }
 ],
 "metadata": {
  "kernelspec": {
   "display_name": "Python 3",
   "language": "python",
   "name": "python3"
  },
  "language_info": {
   "codemirror_mode": {
    "name": "ipython",
    "version": 2
   },
   "file_extension": ".py",
   "mimetype": "text/x-python",
   "name": "python",
   "nbconvert_exporter": "python",
   "pygments_lexer": "ipython2",
   "version": "2.7.6"
  }
 },
 "nbformat": 4,
 "nbformat_minor": 5
}
