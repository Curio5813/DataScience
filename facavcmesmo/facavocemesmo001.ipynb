{
 "cells": [
  {
   "cell_type": "code",
   "id": "initial_id",
   "metadata": {
    "collapsed": true,
    "ExecuteTime": {
     "end_time": "2025-08-15T14:15:24.751637Z",
     "start_time": "2025-08-15T14:15:24.743400Z"
    }
   },
   "source": [
    "from random import randint\n",
    "\n",
    "def amplitude(x):\n",
    "    \"\"\"\n",
    "    Faça um programa que tenha uma função chamada amplitude. A função deve receber uma lista e\n",
    "    imprimir a amplitude.\n",
    "    Crie também um código para testar sua função\n",
    "    :return:\n",
    "    \"\"\"\n",
    "    amp = abs(max(x) - min(x))\n",
    "    print(amp)\n",
    "\n",
    "lista = [randint(1, 100) for i in range(10)]\n",
    "print(lista)\n",
    "amplitude(lista)\n"
   ],
   "outputs": [
    {
     "name": "stdout",
     "output_type": "stream",
     "text": [
      "[3, 7, 40, 12, 41, 81, 20, 22, 45, 38]\n",
      "78\n"
     ]
    }
   ],
   "execution_count": 29
  },
  {
   "metadata": {
    "ExecuteTime": {
     "end_time": "2025-08-15T14:10:56.036094Z",
     "start_time": "2025-08-15T14:10:53.088857Z"
    }
   },
   "cell_type": "code",
   "source": [
    "def imprime_string_vertical(palavra):\n",
    "    \"\"\"\n",
    "    Faça uma função que receba uma string e imprima esta string na forma vertical\n",
    "    Por exemplo, se receber python, deve imprimir\n",
    "    p\n",
    "    y\n",
    "    t\n",
    "    h\n",
    "    o\n",
    "    n\n",
    "    Dica: uma string do python funciona como uma lista!\n",
    "    Crie também um código para testar sua função\n",
    "    :return:\n",
    "    \"\"\"\n",
    "    for i in palavra:\n",
    "        print(i)\n",
    "\n",
    "texto = input(\"Digite um palavra: \")\n",
    "imprime_string_vertical(texto)"
   ],
   "id": "6aceca2a419542a2",
   "outputs": [
    {
     "ename": "KeyboardInterrupt",
     "evalue": "Interrupted by user",
     "output_type": "error",
     "traceback": [
      "\u001B[31m---------------------------------------------------------------------------\u001B[39m",
      "\u001B[31mKeyboardInterrupt\u001B[39m                         Traceback (most recent call last)",
      "\u001B[36mCell\u001B[39m\u001B[36m \u001B[39m\u001B[32mIn[21]\u001B[39m\u001B[32m, line 18\u001B[39m\n\u001B[32m     15\u001B[39m     \u001B[38;5;28;01mfor\u001B[39;00m i \u001B[38;5;129;01min\u001B[39;00m palavra:\n\u001B[32m     16\u001B[39m         \u001B[38;5;28mprint\u001B[39m(i)\n\u001B[32m---> \u001B[39m\u001B[32m18\u001B[39m texto = \u001B[38;5;28;43minput\u001B[39;49m\u001B[43m(\u001B[49m\u001B[33;43m\"\u001B[39;49m\u001B[33;43mDigite um palavra: \u001B[39;49m\u001B[33;43m\"\u001B[39;49m\u001B[43m)\u001B[49m\n\u001B[32m     19\u001B[39m imprime_string_vertical(texto)\n",
      "\u001B[36mFile \u001B[39m\u001B[32m~/Computacao/Python/DataScience/lib/python3.12/site-packages/ipykernel/kernelbase.py:1275\u001B[39m, in \u001B[36mKernel.raw_input\u001B[39m\u001B[34m(self, prompt)\u001B[39m\n\u001B[32m   1273\u001B[39m     msg = \u001B[33m\"\u001B[39m\u001B[33mraw_input was called, but this frontend does not support input requests.\u001B[39m\u001B[33m\"\u001B[39m\n\u001B[32m   1274\u001B[39m     \u001B[38;5;28;01mraise\u001B[39;00m StdinNotImplementedError(msg)\n\u001B[32m-> \u001B[39m\u001B[32m1275\u001B[39m \u001B[38;5;28;01mreturn\u001B[39;00m \u001B[38;5;28;43mself\u001B[39;49m\u001B[43m.\u001B[49m\u001B[43m_input_request\u001B[49m\u001B[43m(\u001B[49m\n\u001B[32m   1276\u001B[39m \u001B[43m    \u001B[49m\u001B[38;5;28;43mstr\u001B[39;49m\u001B[43m(\u001B[49m\u001B[43mprompt\u001B[49m\u001B[43m)\u001B[49m\u001B[43m,\u001B[49m\n\u001B[32m   1277\u001B[39m \u001B[43m    \u001B[49m\u001B[38;5;28;43mself\u001B[39;49m\u001B[43m.\u001B[49m\u001B[43m_parent_ident\u001B[49m\u001B[43m[\u001B[49m\u001B[33;43m\"\u001B[39;49m\u001B[33;43mshell\u001B[39;49m\u001B[33;43m\"\u001B[39;49m\u001B[43m]\u001B[49m\u001B[43m,\u001B[49m\n\u001B[32m   1278\u001B[39m \u001B[43m    \u001B[49m\u001B[38;5;28;43mself\u001B[39;49m\u001B[43m.\u001B[49m\u001B[43mget_parent\u001B[49m\u001B[43m(\u001B[49m\u001B[33;43m\"\u001B[39;49m\u001B[33;43mshell\u001B[39;49m\u001B[33;43m\"\u001B[39;49m\u001B[43m)\u001B[49m\u001B[43m,\u001B[49m\n\u001B[32m   1279\u001B[39m \u001B[43m    \u001B[49m\u001B[43mpassword\u001B[49m\u001B[43m=\u001B[49m\u001B[38;5;28;43;01mFalse\u001B[39;49;00m\u001B[43m,\u001B[49m\n\u001B[32m   1280\u001B[39m \u001B[43m\u001B[49m\u001B[43m)\u001B[49m\n",
      "\u001B[36mFile \u001B[39m\u001B[32m~/Computacao/Python/DataScience/lib/python3.12/site-packages/ipykernel/kernelbase.py:1320\u001B[39m, in \u001B[36mKernel._input_request\u001B[39m\u001B[34m(self, prompt, ident, parent, password)\u001B[39m\n\u001B[32m   1317\u001B[39m \u001B[38;5;28;01mexcept\u001B[39;00m \u001B[38;5;167;01mKeyboardInterrupt\u001B[39;00m:\n\u001B[32m   1318\u001B[39m     \u001B[38;5;66;03m# re-raise KeyboardInterrupt, to truncate traceback\u001B[39;00m\n\u001B[32m   1319\u001B[39m     msg = \u001B[33m\"\u001B[39m\u001B[33mInterrupted by user\u001B[39m\u001B[33m\"\u001B[39m\n\u001B[32m-> \u001B[39m\u001B[32m1320\u001B[39m     \u001B[38;5;28;01mraise\u001B[39;00m \u001B[38;5;167;01mKeyboardInterrupt\u001B[39;00m(msg) \u001B[38;5;28;01mfrom\u001B[39;00m\u001B[38;5;250m \u001B[39m\u001B[38;5;28;01mNone\u001B[39;00m\n\u001B[32m   1321\u001B[39m \u001B[38;5;28;01mexcept\u001B[39;00m \u001B[38;5;167;01mException\u001B[39;00m:\n\u001B[32m   1322\u001B[39m     \u001B[38;5;28mself\u001B[39m.log.warning(\u001B[33m\"\u001B[39m\u001B[33mInvalid Message:\u001B[39m\u001B[33m\"\u001B[39m, exc_info=\u001B[38;5;28;01mTrue\u001B[39;00m)\n",
      "\u001B[31mKeyboardInterrupt\u001B[39m: Interrupted by user"
     ]
    }
   ],
   "execution_count": 21
  },
  {
   "metadata": {
    "ExecuteTime": {
     "end_time": "2025-08-15T14:10:56.065915819Z",
     "start_time": "2025-08-15T13:58:00.766510Z"
    }
   },
   "cell_type": "code",
   "source": [
    "def transporte_cargas(kg):\n",
    "    \"\"\"\n",
    "    Crie um programa que leia o peso de uma carga em números inteiros. Se o peso for até 10 kg,\n",
    "    informe que o valor será de R$ 50,00. Entre 11 e 20 kg, informe que o valor será de R$ 80.\n",
    "    Se for maior que 20, informe que o transporte não é aceito. Teste vários pesos.\n",
    "    :return:\n",
    "    \"\"\"\n",
    "    if kg <= 10:\n",
    "        print(\"O valor do frete é de R$ 50,00\")\n",
    "    elif 10 < kg <= 20:\n",
    "        print(\"O valor do frete é de R$ 80,00\")\n",
    "    else:\n",
    "        print(\"Infelizmente não fazemos transporte de carga com mais de 20,00 Kg!\")\n",
    "\n",
    "\n",
    "carga = float(input(\"Qual o peso da carga? \"))\n",
    "transporte_cargas(carga)\n"
   ],
   "id": "2ff0b6b66bf990ec",
   "outputs": [
    {
     "name": "stdout",
     "output_type": "stream",
     "text": [
      "Infelizmente não fazemos transporte de carga com mais de 20,00 Kg!\n"
     ]
    }
   ],
   "execution_count": 7
  }
 ],
 "metadata": {
  "kernelspec": {
   "display_name": "Python 3",
   "language": "python",
   "name": "python3"
  },
  "language_info": {
   "codemirror_mode": {
    "name": "ipython",
    "version": 2
   },
   "file_extension": ".py",
   "mimetype": "text/x-python",
   "name": "python",
   "nbconvert_exporter": "python",
   "pygments_lexer": "ipython2",
   "version": "2.7.6"
  }
 },
 "nbformat": 4,
 "nbformat_minor": 5
}
