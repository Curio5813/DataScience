{
 "cells": [
  {
   "cell_type": "code",
   "metadata": {
    "ExecuteTime": {
     "end_time": "2025-08-22T15:19:20.063189Z",
     "start_time": "2025-08-22T15:19:20.057303Z"
    }
   },
   "source": [
    "# Formação Cientista de Dados - Fernando Amaral e Jones Granatyr\n",
    "# Gráfico de dispersão com seaborn"
   ],
   "outputs": [],
   "execution_count": 1
  },
  {
   "cell_type": "code",
   "metadata": {
    "ExecuteTime": {
     "end_time": "2025-08-22T15:19:27.791356Z",
     "start_time": "2025-08-22T15:19:27.785098Z"
    }
   },
   "source": [
    "# Importação das bibliotecas\n",
    "import pandas as pd\n",
    "import seaborn as srn\n",
    "import matplotlib.pyplot as plt"
   ],
   "outputs": [],
   "execution_count": 2
  },
  {
   "cell_type": "code",
   "metadata": {
    "ExecuteTime": {
     "end_time": "2025-08-22T15:20:26.807665Z",
     "start_time": "2025-08-22T15:20:26.772102Z"
    }
   },
   "source": [
    "# Carregamento da base de dados\n",
    "base = pd.read_csv('co2.csv')\n",
    "base.head()"
   ],
   "outputs": [
    {
     "data": {
      "text/plain": [
       "  Plant    Type   Treatment  conc  uptake\n",
       "0   Qn1  Quebec  nonchilled    95    16.0\n",
       "1   Qn1  Quebec  nonchilled   175    30.4\n",
       "2   Qn1  Quebec  nonchilled   250    34.8\n",
       "3   Qn1  Quebec  nonchilled   350    37.2\n",
       "4   Qn1  Quebec  nonchilled   500    35.3"
      ],
      "text/html": [
       "<div>\n",
       "<style scoped>\n",
       "    .dataframe tbody tr th:only-of-type {\n",
       "        vertical-align: middle;\n",
       "    }\n",
       "\n",
       "    .dataframe tbody tr th {\n",
       "        vertical-align: top;\n",
       "    }\n",
       "\n",
       "    .dataframe thead th {\n",
       "        text-align: right;\n",
       "    }\n",
       "</style>\n",
       "<table border=\"1\" class=\"dataframe\">\n",
       "  <thead>\n",
       "    <tr style=\"text-align: right;\">\n",
       "      <th></th>\n",
       "      <th>Plant</th>\n",
       "      <th>Type</th>\n",
       "      <th>Treatment</th>\n",
       "      <th>conc</th>\n",
       "      <th>uptake</th>\n",
       "    </tr>\n",
       "  </thead>\n",
       "  <tbody>\n",
       "    <tr>\n",
       "      <th>0</th>\n",
       "      <td>Qn1</td>\n",
       "      <td>Quebec</td>\n",
       "      <td>nonchilled</td>\n",
       "      <td>95</td>\n",
       "      <td>16.0</td>\n",
       "    </tr>\n",
       "    <tr>\n",
       "      <th>1</th>\n",
       "      <td>Qn1</td>\n",
       "      <td>Quebec</td>\n",
       "      <td>nonchilled</td>\n",
       "      <td>175</td>\n",
       "      <td>30.4</td>\n",
       "    </tr>\n",
       "    <tr>\n",
       "      <th>2</th>\n",
       "      <td>Qn1</td>\n",
       "      <td>Quebec</td>\n",
       "      <td>nonchilled</td>\n",
       "      <td>250</td>\n",
       "      <td>34.8</td>\n",
       "    </tr>\n",
       "    <tr>\n",
       "      <th>3</th>\n",
       "      <td>Qn1</td>\n",
       "      <td>Quebec</td>\n",
       "      <td>nonchilled</td>\n",
       "      <td>350</td>\n",
       "      <td>37.2</td>\n",
       "    </tr>\n",
       "    <tr>\n",
       "      <th>4</th>\n",
       "      <td>Qn1</td>\n",
       "      <td>Quebec</td>\n",
       "      <td>nonchilled</td>\n",
       "      <td>500</td>\n",
       "      <td>35.3</td>\n",
       "    </tr>\n",
       "  </tbody>\n",
       "</table>\n",
       "</div>"
      ]
     },
     "execution_count": 8,
     "metadata": {},
     "output_type": "execute_result"
    }
   ],
   "execution_count": 8
  },
  {
   "cell_type": "code",
   "metadata": {
    "ExecuteTime": {
     "end_time": "2025-08-22T15:22:08.304710Z",
     "start_time": "2025-08-22T15:22:07.873771Z"
    }
   },
   "source": [
    "# Gráfico de dispersão utilizando os atributos conc e uptake, agrupamento pelo type\n",
    "srn.scatterplot(base.conc, base.uptake, hue = base.Type)"
   ],
   "outputs": [
    {
     "ename": "ValueError",
     "evalue": "The following variable cannot be assigned with wide-form data: `hue`",
     "output_type": "error",
     "traceback": [
      "\u001B[31m---------------------------------------------------------------------------\u001B[39m",
      "\u001B[31mValueError\u001B[39m                                Traceback (most recent call last)",
      "\u001B[36mCell\u001B[39m\u001B[36m \u001B[39m\u001B[32mIn[11]\u001B[39m\u001B[32m, line 2\u001B[39m\n\u001B[32m      1\u001B[39m \u001B[38;5;66;03m# Gráfico de dispersão utilizando os atributos conc e uptake, agrupamento pelo type\u001B[39;00m\n\u001B[32m----> \u001B[39m\u001B[32m2\u001B[39m \u001B[43msrn\u001B[49m\u001B[43m.\u001B[49m\u001B[43mscatterplot\u001B[49m\u001B[43m(\u001B[49m\u001B[43mbase\u001B[49m\u001B[43m.\u001B[49m\u001B[43mconc\u001B[49m\u001B[43m,\u001B[49m\u001B[43m \u001B[49m\u001B[43mhue\u001B[49m\u001B[43m \u001B[49m\u001B[43m=\u001B[49m\u001B[43m \u001B[49m\u001B[43mbase\u001B[49m\u001B[43m.\u001B[49m\u001B[43mType\u001B[49m\u001B[43m)\u001B[49m\n",
      "\u001B[36mFile \u001B[39m\u001B[32m~/Computacao/Python/DataScience/lib/python3.12/site-packages/seaborn/relational.py:615\u001B[39m, in \u001B[36mscatterplot\u001B[39m\u001B[34m(data, x, y, hue, size, style, palette, hue_order, hue_norm, sizes, size_order, size_norm, markers, style_order, legend, ax, **kwargs)\u001B[39m\n\u001B[32m    606\u001B[39m \u001B[38;5;28;01mdef\u001B[39;00m\u001B[38;5;250m \u001B[39m\u001B[34mscatterplot\u001B[39m(\n\u001B[32m    607\u001B[39m     data=\u001B[38;5;28;01mNone\u001B[39;00m, *,\n\u001B[32m    608\u001B[39m     x=\u001B[38;5;28;01mNone\u001B[39;00m, y=\u001B[38;5;28;01mNone\u001B[39;00m, hue=\u001B[38;5;28;01mNone\u001B[39;00m, size=\u001B[38;5;28;01mNone\u001B[39;00m, style=\u001B[38;5;28;01mNone\u001B[39;00m,\n\u001B[32m   (...)\u001B[39m\u001B[32m    612\u001B[39m     **kwargs\n\u001B[32m    613\u001B[39m ):\n\u001B[32m--> \u001B[39m\u001B[32m615\u001B[39m     p = \u001B[43m_ScatterPlotter\u001B[49m\u001B[43m(\u001B[49m\n\u001B[32m    616\u001B[39m \u001B[43m        \u001B[49m\u001B[43mdata\u001B[49m\u001B[43m=\u001B[49m\u001B[43mdata\u001B[49m\u001B[43m,\u001B[49m\n\u001B[32m    617\u001B[39m \u001B[43m        \u001B[49m\u001B[43mvariables\u001B[49m\u001B[43m=\u001B[49m\u001B[38;5;28;43mdict\u001B[39;49m\u001B[43m(\u001B[49m\u001B[43mx\u001B[49m\u001B[43m=\u001B[49m\u001B[43mx\u001B[49m\u001B[43m,\u001B[49m\u001B[43m \u001B[49m\u001B[43my\u001B[49m\u001B[43m=\u001B[49m\u001B[43my\u001B[49m\u001B[43m,\u001B[49m\u001B[43m \u001B[49m\u001B[43mhue\u001B[49m\u001B[43m=\u001B[49m\u001B[43mhue\u001B[49m\u001B[43m,\u001B[49m\u001B[43m \u001B[49m\u001B[43msize\u001B[49m\u001B[43m=\u001B[49m\u001B[43msize\u001B[49m\u001B[43m,\u001B[49m\u001B[43m \u001B[49m\u001B[43mstyle\u001B[49m\u001B[43m=\u001B[49m\u001B[43mstyle\u001B[49m\u001B[43m)\u001B[49m\u001B[43m,\u001B[49m\n\u001B[32m    618\u001B[39m \u001B[43m        \u001B[49m\u001B[43mlegend\u001B[49m\u001B[43m=\u001B[49m\u001B[43mlegend\u001B[49m\n\u001B[32m    619\u001B[39m \u001B[43m    \u001B[49m\u001B[43m)\u001B[49m\n\u001B[32m    621\u001B[39m     p.map_hue(palette=palette, order=hue_order, norm=hue_norm)\n\u001B[32m    622\u001B[39m     p.map_size(sizes=sizes, order=size_order, norm=size_norm)\n",
      "\u001B[36mFile \u001B[39m\u001B[32m~/Computacao/Python/DataScience/lib/python3.12/site-packages/seaborn/relational.py:396\u001B[39m, in \u001B[36m_ScatterPlotter.__init__\u001B[39m\u001B[34m(self, data, variables, legend)\u001B[39m\n\u001B[32m    387\u001B[39m \u001B[38;5;28;01mdef\u001B[39;00m\u001B[38;5;250m \u001B[39m\u001B[34m__init__\u001B[39m(\u001B[38;5;28mself\u001B[39m, *, data=\u001B[38;5;28;01mNone\u001B[39;00m, variables={}, legend=\u001B[38;5;28;01mNone\u001B[39;00m):\n\u001B[32m    388\u001B[39m \n\u001B[32m    389\u001B[39m     \u001B[38;5;66;03m# TODO this is messy, we want the mapping to be agnostic about\u001B[39;00m\n\u001B[32m    390\u001B[39m     \u001B[38;5;66;03m# the kind of plot to draw, but for the time being we need to set\u001B[39;00m\n\u001B[32m    391\u001B[39m     \u001B[38;5;66;03m# this information so the SizeMapping can use it\u001B[39;00m\n\u001B[32m    392\u001B[39m     \u001B[38;5;28mself\u001B[39m._default_size_range = (\n\u001B[32m    393\u001B[39m         np.r_[\u001B[32m.5\u001B[39m, \u001B[32m2\u001B[39m] * np.square(mpl.rcParams[\u001B[33m\"\u001B[39m\u001B[33mlines.markersize\u001B[39m\u001B[33m\"\u001B[39m])\n\u001B[32m    394\u001B[39m     )\n\u001B[32m--> \u001B[39m\u001B[32m396\u001B[39m     \u001B[38;5;28;43msuper\u001B[39;49m\u001B[43m(\u001B[49m\u001B[43m)\u001B[49m\u001B[43m.\u001B[49m\u001B[34;43m__init__\u001B[39;49m\u001B[43m(\u001B[49m\u001B[43mdata\u001B[49m\u001B[43m=\u001B[49m\u001B[43mdata\u001B[49m\u001B[43m,\u001B[49m\u001B[43m \u001B[49m\u001B[43mvariables\u001B[49m\u001B[43m=\u001B[49m\u001B[43mvariables\u001B[49m\u001B[43m)\u001B[49m\n\u001B[32m    398\u001B[39m     \u001B[38;5;28mself\u001B[39m.legend = legend\n",
      "\u001B[36mFile \u001B[39m\u001B[32m~/Computacao/Python/DataScience/lib/python3.12/site-packages/seaborn/_base.py:634\u001B[39m, in \u001B[36mVectorPlotter.__init__\u001B[39m\u001B[34m(self, data, variables)\u001B[39m\n\u001B[32m    629\u001B[39m \u001B[38;5;66;03m# var_ordered is relevant only for categorical axis variables, and may\u001B[39;00m\n\u001B[32m    630\u001B[39m \u001B[38;5;66;03m# be better handled by an internal axis information object that tracks\u001B[39;00m\n\u001B[32m    631\u001B[39m \u001B[38;5;66;03m# such information and is set up by the scale_* methods. The analogous\u001B[39;00m\n\u001B[32m    632\u001B[39m \u001B[38;5;66;03m# information for numeric axes would be information about log scales.\u001B[39;00m\n\u001B[32m    633\u001B[39m \u001B[38;5;28mself\u001B[39m._var_ordered = {\u001B[33m\"\u001B[39m\u001B[33mx\u001B[39m\u001B[33m\"\u001B[39m: \u001B[38;5;28;01mFalse\u001B[39;00m, \u001B[33m\"\u001B[39m\u001B[33my\u001B[39m\u001B[33m\"\u001B[39m: \u001B[38;5;28;01mFalse\u001B[39;00m}  \u001B[38;5;66;03m# alt., used DefaultDict\u001B[39;00m\n\u001B[32m--> \u001B[39m\u001B[32m634\u001B[39m \u001B[38;5;28;43mself\u001B[39;49m\u001B[43m.\u001B[49m\u001B[43massign_variables\u001B[49m\u001B[43m(\u001B[49m\u001B[43mdata\u001B[49m\u001B[43m,\u001B[49m\u001B[43m \u001B[49m\u001B[43mvariables\u001B[49m\u001B[43m)\u001B[49m\n\u001B[32m    636\u001B[39m \u001B[38;5;66;03m# TODO Lots of tests assume that these are called to initialize the\u001B[39;00m\n\u001B[32m    637\u001B[39m \u001B[38;5;66;03m# mappings to default values on class initialization. I'd prefer to\u001B[39;00m\n\u001B[32m    638\u001B[39m \u001B[38;5;66;03m# move away from that and only have a mapping when explicitly called.\u001B[39;00m\n\u001B[32m    639\u001B[39m \u001B[38;5;28;01mfor\u001B[39;00m var \u001B[38;5;129;01min\u001B[39;00m [\u001B[33m\"\u001B[39m\u001B[33mhue\u001B[39m\u001B[33m\"\u001B[39m, \u001B[33m\"\u001B[39m\u001B[33msize\u001B[39m\u001B[33m\"\u001B[39m, \u001B[33m\"\u001B[39m\u001B[33mstyle\u001B[39m\u001B[33m\"\u001B[39m]:\n",
      "\u001B[36mFile \u001B[39m\u001B[32m~/Computacao/Python/DataScience/lib/python3.12/site-packages/seaborn/_base.py:673\u001B[39m, in \u001B[36mVectorPlotter.assign_variables\u001B[39m\u001B[34m(self, data, variables)\u001B[39m\n\u001B[32m    671\u001B[39m \u001B[38;5;28;01mif\u001B[39;00m x \u001B[38;5;129;01mis\u001B[39;00m \u001B[38;5;28;01mNone\u001B[39;00m \u001B[38;5;129;01mand\u001B[39;00m y \u001B[38;5;129;01mis\u001B[39;00m \u001B[38;5;28;01mNone\u001B[39;00m:\n\u001B[32m    672\u001B[39m     \u001B[38;5;28mself\u001B[39m.input_format = \u001B[33m\"\u001B[39m\u001B[33mwide\u001B[39m\u001B[33m\"\u001B[39m\n\u001B[32m--> \u001B[39m\u001B[32m673\u001B[39m     frame, names = \u001B[38;5;28;43mself\u001B[39;49m\u001B[43m.\u001B[49m\u001B[43m_assign_variables_wideform\u001B[49m\u001B[43m(\u001B[49m\u001B[43mdata\u001B[49m\u001B[43m,\u001B[49m\u001B[43m \u001B[49m\u001B[43m*\u001B[49m\u001B[43m*\u001B[49m\u001B[43mvariables\u001B[49m\u001B[43m)\u001B[49m\n\u001B[32m    674\u001B[39m \u001B[38;5;28;01melse\u001B[39;00m:\n\u001B[32m    675\u001B[39m     \u001B[38;5;66;03m# When dealing with long-form input, use the newer PlotData\u001B[39;00m\n\u001B[32m    676\u001B[39m     \u001B[38;5;66;03m# object (internal but introduced for the objects interface)\u001B[39;00m\n\u001B[32m    677\u001B[39m     \u001B[38;5;66;03m# to centralize / standardize data consumption logic.\u001B[39;00m\n\u001B[32m    678\u001B[39m     \u001B[38;5;28mself\u001B[39m.input_format = \u001B[33m\"\u001B[39m\u001B[33mlong\u001B[39m\u001B[33m\"\u001B[39m\n",
      "\u001B[36mFile \u001B[39m\u001B[32m~/Computacao/Python/DataScience/lib/python3.12/site-packages/seaborn/_base.py:723\u001B[39m, in \u001B[36mVectorPlotter._assign_variables_wideform\u001B[39m\u001B[34m(self, data, **kwargs)\u001B[39m\n\u001B[32m    721\u001B[39m     err = \u001B[33mf\u001B[39m\u001B[33m\"\u001B[39m\u001B[33mThe following variable\u001B[39m\u001B[38;5;132;01m{\u001B[39;00ms\u001B[38;5;132;01m}\u001B[39;00m\u001B[33m cannot be assigned with wide-form data: \u001B[39m\u001B[33m\"\u001B[39m\n\u001B[32m    722\u001B[39m     err += \u001B[33m\"\u001B[39m\u001B[33m, \u001B[39m\u001B[33m\"\u001B[39m.join(\u001B[33mf\u001B[39m\u001B[33m\"\u001B[39m\u001B[33m`\u001B[39m\u001B[38;5;132;01m{\u001B[39;00mv\u001B[38;5;132;01m}\u001B[39;00m\u001B[33m`\u001B[39m\u001B[33m\"\u001B[39m \u001B[38;5;28;01mfor\u001B[39;00m v \u001B[38;5;129;01min\u001B[39;00m assigned)\n\u001B[32m--> \u001B[39m\u001B[32m723\u001B[39m     \u001B[38;5;28;01mraise\u001B[39;00m \u001B[38;5;167;01mValueError\u001B[39;00m(err)\n\u001B[32m    725\u001B[39m \u001B[38;5;66;03m# Determine if the data object actually has any data in it\u001B[39;00m\n\u001B[32m    726\u001B[39m empty = data \u001B[38;5;129;01mis\u001B[39;00m \u001B[38;5;28;01mNone\u001B[39;00m \u001B[38;5;129;01mor\u001B[39;00m \u001B[38;5;129;01mnot\u001B[39;00m \u001B[38;5;28mlen\u001B[39m(data)\n",
      "\u001B[31mValueError\u001B[39m: The following variable cannot be assigned with wide-form data: `hue`"
     ]
    }
   ],
   "execution_count": 11
  },
  {
   "cell_type": "code",
   "metadata": {
    "ExecuteTime": {
     "end_time": "2025-08-22T15:20:05.337412Z",
     "start_time": "2025-08-22T15:20:05.329752Z"
    }
   },
   "source": [
    "# Seleção de registros específicos da base de dados (Quebec e Mississipi)\n",
    "q = base.loc[base['Type'] == 'Quebec']\n",
    "m = base.loc[base['Type'] == 'Mississippi']"
   ],
   "outputs": [],
   "execution_count": 7
  },
  {
   "cell_type": "code",
   "metadata": {
    "ExecuteTime": {
     "end_time": "2025-08-22T15:20:33.978849Z",
     "start_time": "2025-08-22T15:20:33.715736Z"
    }
   },
   "source": [
    "# Subgráfico (1 linha e duas colunas) mostrando gráficos sobre cada região\n",
    "plt.figure()\n",
    "plt.subplot(1,2,1)\n",
    "srn.scatterplot(q.conc, q.uptake).set_title('Quebec')\n",
    "plt.subplot(1,2,2)\n",
    "srn.scatterplot(m.conc, m.uptake).set_title('Mississippi')\n",
    "plt.tight_layout()"
   ],
   "outputs": [
    {
     "ename": "TypeError",
     "evalue": "scatterplot() takes from 0 to 1 positional arguments but 2 were given",
     "output_type": "error",
     "traceback": [
      "\u001B[31m---------------------------------------------------------------------------\u001B[39m",
      "\u001B[31mTypeError\u001B[39m                                 Traceback (most recent call last)",
      "\u001B[36mCell\u001B[39m\u001B[36m \u001B[39m\u001B[32mIn[10]\u001B[39m\u001B[32m, line 4\u001B[39m\n\u001B[32m      2\u001B[39m plt.figure()\n\u001B[32m      3\u001B[39m plt.subplot(\u001B[32m1\u001B[39m,\u001B[32m2\u001B[39m,\u001B[32m1\u001B[39m)\n\u001B[32m----> \u001B[39m\u001B[32m4\u001B[39m \u001B[43msrn\u001B[49m\u001B[43m.\u001B[49m\u001B[43mscatterplot\u001B[49m\u001B[43m(\u001B[49m\u001B[43mq\u001B[49m\u001B[43m.\u001B[49m\u001B[43mconc\u001B[49m\u001B[43m,\u001B[49m\u001B[43m \u001B[49m\u001B[43mq\u001B[49m\u001B[43m.\u001B[49m\u001B[43muptake\u001B[49m\u001B[43m)\u001B[49m.set_title(\u001B[33m'\u001B[39m\u001B[33mQuebec\u001B[39m\u001B[33m'\u001B[39m)\n\u001B[32m      5\u001B[39m plt.subplot(\u001B[32m1\u001B[39m,\u001B[32m2\u001B[39m,\u001B[32m2\u001B[39m)\n\u001B[32m      6\u001B[39m srn.scatterplot(m.conc, m.uptake).set_title(\u001B[33m'\u001B[39m\u001B[33mMississippi\u001B[39m\u001B[33m'\u001B[39m)\n",
      "\u001B[31mTypeError\u001B[39m: scatterplot() takes from 0 to 1 positional arguments but 2 were given"
     ]
    },
    {
     "data": {
      "text/plain": [
       "<Figure size 640x480 with 1 Axes>"
      ],
      "image/png": "[encoded data removed]"
     },
     "metadata": {},
     "output_type": "display_data"
    }
   ],
   "execution_count": 10
  },
  {
   "cell_type": "code",
   "execution_count": null,
   "metadata": {},
   "outputs": [],
   "source": [
    "# Refrigerado e não refrigerado\n",
    "ch = base.loc[base['Treatment'] == 'chilled']\n",
    "nc = base.loc[base['Treatment'] == 'nonchilled']"
   ]
  },
  {
   "cell_type": "code",
   "execution_count": null,
   "metadata": {},
   "outputs": [],
   "source": [
    "# Gráfico somente com 'chilled' e 'nonchilled'\n",
    "plt.figure()\n",
    "plt.subplot(1,2,1)\n",
    "srn.scatterplot(ch.conc, ch.uptake).set_title('Chilled')\n",
    "plt.subplot(1,2,2)\n",
    "srn.scatterplot(nc.conc, nc.uptake).set_title('Non chilled')\n",
    "plt.tight_layout()"
   ]
  },
  {
   "cell_type": "code",
   "execution_count": null,
   "metadata": {},
   "outputs": [],
   "source": [
    "# Carregamento de outro arquivo, cancer de esofago\n",
    "base2 = pd.read_csv('esoph.csv')\n",
    "base2"
   ]
  },
  {
   "cell_type": "code",
   "execution_count": null,
   "metadata": {},
   "outputs": [],
   "source": [
    "# Gráfico entre os atributos 'alcgp' e 'ncontrols'\n",
    "srn.catplot(x = 'alcgp', y = 'ncontrols', data = base2, jitter = False)"
   ]
  },
  {
   "cell_type": "code",
   "execution_count": null,
   "metadata": {},
   "outputs": [],
   "source": [
    "# Gráfico entre os atributos 'alcgp' e 'ncontrols', com agrupamento\n",
    "srn.catplot(x = 'alcgp', y = 'ncontrols', data = base2, col = 'tobgp')"
   ]
  },
  {
   "cell_type": "code",
   "execution_count": null,
   "metadata": {},
   "outputs": [],
   "source": []
  }
 ],
 "metadata": {
  "jupytext": {
   "cell_metadata_filter": "-all",
   "main_language": "python",
   "notebook_metadata_filter": "-all"
  },
  "kernelspec": {
   "display_name": "Python 3",
   "language": "python",
   "name": "python3"
  },
  "language_info": {
   "codemirror_mode": {
    "name": "ipython",
    "version": 3
   },
   "file_extension": ".py",
   "mimetype": "text/x-python",
   "name": "python",
   "nbconvert_exporter": "python",
   "pygments_lexer": "ipython3",
   "version": "3.7.6"
  }
 },
 "nbformat": 4,
 "nbformat_minor": 4
}
