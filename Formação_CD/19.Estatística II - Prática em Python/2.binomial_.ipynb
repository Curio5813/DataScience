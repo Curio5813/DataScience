{
 "cells": [
  {
   "cell_type": "code",
   "metadata": {
    "ExecuteTime": {
     "end_time": "2025-09-30T14:40:59.734048Z",
     "start_time": "2025-09-30T14:40:59.729579Z"
    }
   },
   "source": [
    "# Formação Cientista de Dados - Fernando Amaral e Jones Granatyr\n",
    "# Distribuição binomianl"
   ],
   "outputs": [],
   "execution_count": 1
  },
  {
   "cell_type": "code",
   "metadata": {
    "ExecuteTime": {
     "end_time": "2025-09-30T14:41:01.485921Z",
     "start_time": "2025-09-30T14:41:00.155465Z"
    }
   },
   "source": [
    "# Importação da função binom\n",
    "from scipy.stats import binom"
   ],
   "outputs": [],
   "execution_count": 2
  },
  {
   "cell_type": "code",
   "metadata": {
    "ExecuteTime": {
     "end_time": "2025-09-30T14:42:02.829375Z",
     "start_time": "2025-09-30T14:42:02.816593Z"
    }
   },
   "source": [
    "# Jogar uma moeda 5 vezes, qual a probabilidade de dar cara 3 vezes?\n",
    "# eventos , experimentos, probabilidades\n",
    "prob = binom.pmf(3, 5, 0.5)\n",
    "prob"
   ],
   "outputs": [
    {
     "data": {
      "text/plain": [
       "np.float64(0.31249999999999983)"
      ]
     },
     "execution_count": 10,
     "metadata": {},
     "output_type": "execute_result"
    }
   ],
   "execution_count": 10
  },
  {
   "cell_type": "code",
   "metadata": {
    "ExecuteTime": {
     "end_time": "2025-09-30T14:41:09.961230Z",
     "start_time": "2025-09-30T14:41:09.936236Z"
    }
   },
   "source": [
    "# Passar por 4 sinais de 4 tempos, qual a probabilidade de pegar sinal verde\n",
    "# nenhuma, 1, 2, 3 ou 4 vezes seguidas?\n",
    "binom.pmf(0, 4, 0.25) + binom.pmf(1, 4, 0.25) + binom.pmf(2, 4, 0.25) + binom.pmf(3, 4, 0.25) + binom.pmf(4, 4, 0.25)"
   ],
   "outputs": [
    {
     "data": {
      "text/plain": [
       "np.float64(1.0000000000000002)"
      ]
     },
     "execution_count": 5,
     "metadata": {},
     "output_type": "execute_result"
    }
   ],
   "execution_count": 5
  },
  {
   "cell_type": "code",
   "metadata": {
    "ExecuteTime": {
     "end_time": "2025-09-30T14:41:12.471088Z",
     "start_time": "2025-09-30T14:41:12.461311Z"
    }
   },
   "source": [
    "# E se forem sinais de dois tempos?\n",
    "binom.pmf(4, 4, 0.5)"
   ],
   "outputs": [
    {
     "data": {
      "text/plain": [
       "np.float64(0.0625)"
      ]
     },
     "execution_count": 6,
     "metadata": {},
     "output_type": "execute_result"
    }
   ],
   "execution_count": 6
  },
  {
   "cell_type": "code",
   "metadata": {
    "ExecuteTime": {
     "end_time": "2025-09-30T14:41:15.747084Z",
     "start_time": "2025-09-30T14:41:15.726330Z"
    }
   },
   "source": [
    "# Probabilidade acumulativa\n",
    "binom.cdf(4, 4, 0.25)"
   ],
   "outputs": [
    {
     "data": {
      "text/plain": [
       "np.float64(1.0)"
      ]
     },
     "execution_count": 8,
     "metadata": {},
     "output_type": "execute_result"
    }
   ],
   "execution_count": 8
  },
  {
   "cell_type": "code",
   "metadata": {
    "ExecuteTime": {
     "end_time": "2025-09-30T14:41:13.964057Z",
     "start_time": "2025-09-30T14:41:13.951884Z"
    }
   },
   "source": [
    "# Concurso com 12 questões, qual a probabilidade de acertar 7 questões considerando\n",
    "# que cada questão tem 4 alternativas?\n",
    "binom.pmf(7, 12, 0.25) "
   ],
   "outputs": [
    {
     "data": {
      "text/plain": [
       "np.float64(0.011471271514892587)"
      ]
     },
     "execution_count": 7,
     "metadata": {},
     "output_type": "execute_result"
    }
   ],
   "execution_count": 7
  },
  {
   "cell_type": "code",
   "metadata": {
    "ExecuteTime": {
     "end_time": "2025-09-30T14:41:19.241084Z",
     "start_time": "2025-09-30T14:41:19.226141Z"
    }
   },
   "source": [
    "# Probabilidade de acertar as 12 questões\n",
    "binom.pmf(12, 12, 0.25) "
   ],
   "outputs": [
    {
     "data": {
      "text/plain": [
       "np.float64(5.960464477539063e-08)"
      ]
     },
     "execution_count": 9,
     "metadata": {},
     "output_type": "execute_result"
    }
   ],
   "execution_count": 9
  },
  {
   "cell_type": "code",
   "execution_count": null,
   "metadata": {},
   "outputs": [],
   "source": []
  }
 ],
 "metadata": {
  "jupytext": {
   "cell_metadata_filter": "-all",
   "main_language": "python",
   "notebook_metadata_filter": "-all"
  },
  "kernelspec": {
   "display_name": "Python 3",
   "language": "python",
   "name": "python3"
  },
  "language_info": {
   "codemirror_mode": {
    "name": "ipython",
    "version": 3
   },
   "file_extension": ".py",
   "mimetype": "text/x-python",
   "name": "python",
   "nbconvert_exporter": "python",
   "pygments_lexer": "ipython3",
   "version": "3.7.6"
  }
 },
 "nbformat": 4,
 "nbformat_minor": 4
}
