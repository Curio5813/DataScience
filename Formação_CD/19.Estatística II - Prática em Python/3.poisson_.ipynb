{
 "cells": [
  {
   "cell_type": "code",
   "metadata": {
    "ExecuteTime": {
     "end_time": "2025-09-30T14:36:41.181120Z",
     "start_time": "2025-09-30T14:36:41.175181Z"
    }
   },
   "source": [
    "# Formação Cientista de Dados - Fernando Amaral e Jones Granatyr\n",
    "# Distribuição de Poisson"
   ],
   "outputs": [],
   "execution_count": 1
  },
  {
   "cell_type": "code",
   "metadata": {
    "ExecuteTime": {
     "end_time": "2025-09-30T14:36:44.091989Z",
     "start_time": "2025-09-30T14:36:42.841769Z"
    }
   },
   "source": [
    "# Importação da função\n",
    "from scipy.stats import poisson"
   ],
   "outputs": [],
   "execution_count": 2
  },
  {
   "cell_type": "markdown",
   "metadata": {},
   "source": [
    "Média de acidentes de carro é 2 por dia"
   ]
  },
  {
   "cell_type": "code",
   "metadata": {
    "ExecuteTime": {
     "end_time": "2025-09-30T14:36:46.744928Z",
     "start_time": "2025-09-30T14:36:46.718468Z"
    }
   },
   "source": [
    "# Qual a probabilidade de ocorrerem 3 acidentes no dia?\n",
    "poisson.pmf(3, 2)"
   ],
   "outputs": [
    {
     "data": {
      "text/plain": [
       "np.float64(0.18044704431548356)"
      ]
     },
     "execution_count": 3,
     "metadata": {},
     "output_type": "execute_result"
    }
   ],
   "execution_count": 3
  },
  {
   "cell_type": "code",
   "metadata": {
    "ExecuteTime": {
     "end_time": "2025-09-30T14:36:48.407473Z",
     "start_time": "2025-09-30T14:36:48.387588Z"
    }
   },
   "source": [
    "# Qual a probabilidade de ocorrerem 3 ou menos acidentes no dia?\n",
    "poisson.cdf(3, 2)"
   ],
   "outputs": [
    {
     "data": {
      "text/plain": [
       "np.float64(0.857123460498547)"
      ]
     },
     "execution_count": 4,
     "metadata": {},
     "output_type": "execute_result"
    }
   ],
   "execution_count": 4
  },
  {
   "cell_type": "code",
   "metadata": {
    "ExecuteTime": {
     "end_time": "2025-09-30T14:36:50.013411Z",
     "start_time": "2025-09-30T14:36:50.006300Z"
    }
   },
   "source": [
    "# Qual a probabilidade de ocorrerem mais de 3 acidentes no dia?\n",
    "poisson.sf(3, 2)"
   ],
   "outputs": [
    {
     "data": {
      "text/plain": [
       "np.float64(0.14287653950145296)"
      ]
     },
     "execution_count": 5,
     "metadata": {},
     "output_type": "execute_result"
    }
   ],
   "execution_count": 5
  },
  {
   "cell_type": "code",
   "metadata": {
    "ExecuteTime": {
     "end_time": "2025-09-30T14:36:51.688521Z",
     "start_time": "2025-09-30T14:36:51.674673Z"
    }
   },
   "source": [
    "poisson.cdf(3, 2) + poisson.sf(3, 2)"
   ],
   "outputs": [
    {
     "data": {
      "text/plain": [
       "np.float64(1.0)"
      ]
     },
     "execution_count": 6,
     "metadata": {},
     "output_type": "execute_result"
    }
   ],
   "execution_count": 6
  },
  {
   "cell_type": "code",
   "execution_count": null,
   "metadata": {},
   "outputs": [],
   "source": []
  }
 ],
 "metadata": {
  "jupytext": {
   "cell_metadata_filter": "-all",
   "main_language": "python",
   "notebook_metadata_filter": "-all"
  },
  "kernelspec": {
   "display_name": "Python 3",
   "language": "python",
   "name": "python3"
  },
  "language_info": {
   "codemirror_mode": {
    "name": "ipython",
    "version": 3
   },
   "file_extension": ".py",
   "mimetype": "text/x-python",
   "name": "python",
   "nbconvert_exporter": "python",
   "pygments_lexer": "ipython3",
   "version": "3.7.6"
  }
 },
 "nbformat": 4,
 "nbformat_minor": 4
}
