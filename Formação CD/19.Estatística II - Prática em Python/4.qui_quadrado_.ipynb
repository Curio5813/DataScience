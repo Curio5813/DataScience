{
 "cells": [
  {
   "cell_type": "code",
   "metadata": {
    "ExecuteTime": {
     "end_time": "2025-09-30T14:50:22.561320Z",
     "start_time": "2025-09-30T14:50:22.557105Z"
    }
   },
   "source": [
    "# Formação Cientista de Dados - Fernando Amaral e Jones Granatyr\n",
    "# Qui Quadrado"
   ],
   "outputs": [],
   "execution_count": 1
  },
  {
   "cell_type": "code",
   "metadata": {
    "ExecuteTime": {
     "end_time": "2025-09-30T14:50:24.859916Z",
     "start_time": "2025-09-30T14:50:23.661527Z"
    }
   },
   "source": [
    "# Importação das funções, chi2_contingency porque temos 2 categorias\n",
    "import numpy as np\n",
    "from scipy.stats import chi2_contingency"
   ],
   "outputs": [],
   "execution_count": 2
  },
  {
   "cell_type": "code",
   "metadata": {
    "ExecuteTime": {
     "end_time": "2025-09-30T14:50:30.616824Z",
     "start_time": "2025-09-30T14:50:30.605788Z"
    }
   },
   "source": [
    "# Criação da matriz com os dados e execução do teste\n",
    "novela = np.array([[19, 6], [43, 32]])\n",
    "novela"
   ],
   "outputs": [
    {
     "data": {
      "text/plain": [
       "array([[19,  6],\n",
       "       [43, 32]])"
      ]
     },
     "execution_count": 4,
     "metadata": {},
     "output_type": "execute_result"
    }
   ],
   "execution_count": 4
  },
  {
   "cell_type": "code",
   "metadata": {
    "ExecuteTime": {
     "end_time": "2025-09-30T14:50:33.917114Z",
     "start_time": "2025-09-30T14:50:33.889670Z"
    }
   },
   "source": [
    "#segundo valor é o pvalue\n",
    "#Valor de p é maior que 0,05 não há evidências de diferença significativa (hipótese nula): não há diferença significativa\n",
    "chi2_contingency(novela)"
   ],
   "outputs": [
    {
     "data": {
      "text/plain": [
       "Chi2ContingencyResult(statistic=np.float64(2.037351443123939), pvalue=np.float64(0.15347667161786666), dof=1, expected_freq=array([[15.5,  9.5],\n",
       "       [46.5, 28.5]]))"
      ]
     },
     "execution_count": 5,
     "metadata": {},
     "output_type": "execute_result"
    }
   ],
   "execution_count": 5
  },
  {
   "cell_type": "code",
   "metadata": {
    "ExecuteTime": {
     "end_time": "2025-09-30T14:50:36.218637Z",
     "start_time": "2025-09-30T14:50:36.202956Z"
    }
   },
   "source": [
    "novela2 = np.array([[22, 3], [43, 32]])\n",
    "novela2"
   ],
   "outputs": [
    {
     "data": {
      "text/plain": [
       "array([[22,  3],\n",
       "       [43, 32]])"
      ]
     },
     "execution_count": 6,
     "metadata": {},
     "output_type": "execute_result"
    }
   ],
   "execution_count": 6
  },
  {
   "cell_type": "code",
   "metadata": {
    "ExecuteTime": {
     "end_time": "2025-09-30T14:50:38.395384Z",
     "start_time": "2025-09-30T14:50:38.370509Z"
    }
   },
   "source": [
    "#agora valor de p menor que 0,05, podemos rejeitar a hipótese nula em favor da hipótese alternativa: há diferença significativa\n",
    "chi2_contingency(novela2)"
   ],
   "outputs": [
    {
     "data": {
      "text/plain": [
       "Chi2ContingencyResult(statistic=np.float64(6.461538461538461), pvalue=np.float64(0.011023416388221425), dof=1, expected_freq=array([[16.25,  8.75],\n",
       "       [48.75, 26.25]]))"
      ]
     },
     "execution_count": 7,
     "metadata": {},
     "output_type": "execute_result"
    }
   ],
   "execution_count": 7
  },
  {
   "cell_type": "code",
   "execution_count": null,
   "metadata": {},
   "outputs": [],
   "source": []
  }
 ],
 "metadata": {
  "jupytext": {
   "cell_metadata_filter": "-all",
   "main_language": "python",
   "notebook_metadata_filter": "-all"
  },
  "kernelspec": {
   "display_name": "Python 3",
   "language": "python",
   "name": "python3"
  },
  "language_info": {
   "codemirror_mode": {
    "name": "ipython",
    "version": 3
   },
   "file_extension": ".py",
   "mimetype": "text/x-python",
   "name": "python",
   "nbconvert_exporter": "python",
   "pygments_lexer": "ipython3",
   "version": "3.7.6"
  }
 },
 "nbformat": 4,
 "nbformat_minor": 4
}
