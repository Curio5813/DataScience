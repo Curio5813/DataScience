{
 "cells": [
  {
   "cell_type": "code",
   "id": "initial_id",
   "metadata": {
    "collapsed": true,
    "ExecuteTime": {
     "end_time": "2025-10-09T13:46:20.583777Z",
     "start_time": "2025-10-09T13:46:17.822244Z"
    }
   },
   "source": [
    "import numpy as np\n",
    "import pandas as pd\n",
    "from scipy import stats\n",
    "import matplotlib.pyplot as plt"
   ],
   "outputs": [],
   "execution_count": 1
  },
  {
   "metadata": {},
   "cell_type": "code",
   "outputs": [],
   "execution_count": null,
   "source": [
    "# Taxas de Rendimento Escolar (2013 a 2023) - INEP\n",
    "# Estes dados representam a primeira parte do trabalho final da disciplina de Probabilidade e Estatística do Bacharelado Interdisciplinar em Ciência e Tecnologia da Universidade Federal de São Paulo (UNIFESP).\n",
    "\n",
    "# O conjunto de dados inclui informações sobre as taxas de rendimento escolar (aprovação, reprovação e abandono) por Unidade Federativa/Região, Administração (Estadual, Federal, Municipal, Privada, Pública), Localização (Urbana, Rural), Etapa e Nível de Ensino.\n",
    "\n",
    "# Os dados podem ser baixados no site do INEP (Instituto Nacional de Estudos e Pesquisas Educacionais Anísio Teixeira) através do seguinte link: Taxas de Rendimento Escolar\n",
    "\n",
    "# Expressamos nossa gratidão aos membros Andrezza, Anthony, Pedro Tamashiro, Gustavo e Diogo do grupo \"Cenário Pós-Pandêmico: Taxa de Aprovação dos Alunos do Ensino Médio Pré e Pós-Crise Global\" pela recomendação deste conjunto de dados.\n",
    "\n",
    "# Na próxima fase, pretendemos correlacionar a taxa de abandono escolar com a renda média nas Unidades Geográficas do Brasil. O conjunto de dados para essa análise está disponível em: Taxa de Abandono Escolar por Renda Média (Brasil 2013-2023)."
   ],
   "id": "5bd130684d034a95"
  },
  {
   "metadata": {
    "ExecuteTime": {
     "end_time": "2025-10-09T13:48:34.982514Z",
     "start_time": "2025-10-09T13:48:34.835526Z"
    }
   },
   "cell_type": "code",
   "source": [
    "dataset = pd.read_csv(\"taxas_de_rendimento_escolar_2013_2023_INEP.csv\")\n",
    "print(dataset.shape)\n",
    "dataset.head()"
   ],
   "id": "653c6222c4609b11",
   "outputs": [
    {
     "name": "stdout",
     "output_type": "stream",
     "text": [
      "(6440, 59)\n"
     ]
    },
    {
     "data": {
      "text/plain": [
       "    Ano Unidade_Geografica  Regiao Localizacao Dependencia_Administrativa  \\\n",
       "0  2013              Norte  Brasil       Total                      Total   \n",
       "1  2013              Norte  Brasil       Total                    Pública   \n",
       "2  2013              Norte  Brasil       Total                    Privada   \n",
       "3  2013              Norte  Brasil       Total                  Municipal   \n",
       "4  2013              Norte  Brasil       Total                    Federal   \n",
       "\n",
       "   Taxa_Aprovacao_Total_EF  Taxa_Aprovacao_Anos_Iniciais_EF  \\\n",
       "0                     85.7                             88.6   \n",
       "1                     84.8                             87.8   \n",
       "2                     96.8                             98.1   \n",
       "3                     85.1                             87.0   \n",
       "4                     89.3                             95.3   \n",
       "\n",
       "   Taxa_Aprovacao_Anos_Finais_EF  Taxa_Aprovacao_1_Ano_EF  \\\n",
       "0                           81.7                     96.5   \n",
       "1                           80.6                     96.4   \n",
       "2                           94.9                     98.1   \n",
       "3                           80.8                     96.2   \n",
       "4                           86.1                     99.3   \n",
       "\n",
       "   Taxa_Aprovacao_2_Ano_EF  ...  Taxa_Abandono_6_Ano_EF  \\\n",
       "0                     93.2  ...                     6.4   \n",
       "1                     92.7  ...                     6.8   \n",
       "2                     98.3  ...                     0.3   \n",
       "3                     92.1  ...                     7.9   \n",
       "4                     98.4  ...                     0.0   \n",
       "\n",
       "   Taxa_Abandono_7_Ano_EF  Taxa_Abandono_8_Ano_EF  Taxa_Abandono_9_Ano_EF  \\\n",
       "0                     5.8                     5.6                     5.7   \n",
       "1                     6.3                     6.1                     6.2   \n",
       "2                     0.4                     0.3                     0.3   \n",
       "3                     7.0                     6.7                     6.4   \n",
       "4                     0.0                     0.2                     0.0   \n",
       "\n",
       "   Taxa_Abandono_Total_EM  Taxa_Abandono_1_Ano_EM  Taxa_Abandono_2_Ano_EM  \\\n",
       "0                    13.4                    16.1                    12.7   \n",
       "1                    14.4                    17.2                    13.7   \n",
       "2                     0.8                     0.9                     0.7   \n",
       "3                     1.8                     1.6                     3.1   \n",
       "4                     3.3                     3.2                     4.7   \n",
       "\n",
       "   Taxa_Abandono_3_Ano_EM  Taxa_Abandono_4_Ano_EM  \\\n",
       "0                    10.2                     3.4   \n",
       "1                    11.0                     3.4   \n",
       "2                     0.7                     4.9   \n",
       "3                     0.0                     NaN   \n",
       "4                     1.5                     4.0   \n",
       "\n",
       "   Taxa_Abandono_Nao_Seriado_EM  \n",
       "0                          17.3  \n",
       "1                          17.6  \n",
       "2                           0.0  \n",
       "3                           NaN  \n",
       "4                           2.3  \n",
       "\n",
       "[5 rows x 59 columns]"
      ],
      "text/html": [
       "<div>\n",
       "<style scoped>\n",
       "    .dataframe tbody tr th:only-of-type {\n",
       "        vertical-align: middle;\n",
       "    }\n",
       "\n",
       "    .dataframe tbody tr th {\n",
       "        vertical-align: top;\n",
       "    }\n",
       "\n",
       "    .dataframe thead th {\n",
       "        text-align: right;\n",
       "    }\n",
       "</style>\n",
       "<table border=\"1\" class=\"dataframe\">\n",
       "  <thead>\n",
       "    <tr style=\"text-align: right;\">\n",
       "      <th></th>\n",
       "      <th>Ano</th>\n",
       "      <th>Unidade_Geografica</th>\n",
       "      <th>Regiao</th>\n",
       "      <th>Localizacao</th>\n",
       "      <th>Dependencia_Administrativa</th>\n",
       "      <th>Taxa_Aprovacao_Total_EF</th>\n",
       "      <th>Taxa_Aprovacao_Anos_Iniciais_EF</th>\n",
       "      <th>Taxa_Aprovacao_Anos_Finais_EF</th>\n",
       "      <th>Taxa_Aprovacao_1_Ano_EF</th>\n",
       "      <th>Taxa_Aprovacao_2_Ano_EF</th>\n",
       "      <th>...</th>\n",
       "      <th>Taxa_Abandono_6_Ano_EF</th>\n",
       "      <th>Taxa_Abandono_7_Ano_EF</th>\n",
       "      <th>Taxa_Abandono_8_Ano_EF</th>\n",
       "      <th>Taxa_Abandono_9_Ano_EF</th>\n",
       "      <th>Taxa_Abandono_Total_EM</th>\n",
       "      <th>Taxa_Abandono_1_Ano_EM</th>\n",
       "      <th>Taxa_Abandono_2_Ano_EM</th>\n",
       "      <th>Taxa_Abandono_3_Ano_EM</th>\n",
       "      <th>Taxa_Abandono_4_Ano_EM</th>\n",
       "      <th>Taxa_Abandono_Nao_Seriado_EM</th>\n",
       "    </tr>\n",
       "  </thead>\n",
       "  <tbody>\n",
       "    <tr>\n",
       "      <th>0</th>\n",
       "      <td>2013</td>\n",
       "      <td>Norte</td>\n",
       "      <td>Brasil</td>\n",
       "      <td>Total</td>\n",
       "      <td>Total</td>\n",
       "      <td>85.7</td>\n",
       "      <td>88.6</td>\n",
       "      <td>81.7</td>\n",
       "      <td>96.5</td>\n",
       "      <td>93.2</td>\n",
       "      <td>...</td>\n",
       "      <td>6.4</td>\n",
       "      <td>5.8</td>\n",
       "      <td>5.6</td>\n",
       "      <td>5.7</td>\n",
       "      <td>13.4</td>\n",
       "      <td>16.1</td>\n",
       "      <td>12.7</td>\n",
       "      <td>10.2</td>\n",
       "      <td>3.4</td>\n",
       "      <td>17.3</td>\n",
       "    </tr>\n",
       "    <tr>\n",
       "      <th>1</th>\n",
       "      <td>2013</td>\n",
       "      <td>Norte</td>\n",
       "      <td>Brasil</td>\n",
       "      <td>Total</td>\n",
       "      <td>Pública</td>\n",
       "      <td>84.8</td>\n",
       "      <td>87.8</td>\n",
       "      <td>80.6</td>\n",
       "      <td>96.4</td>\n",
       "      <td>92.7</td>\n",
       "      <td>...</td>\n",
       "      <td>6.8</td>\n",
       "      <td>6.3</td>\n",
       "      <td>6.1</td>\n",
       "      <td>6.2</td>\n",
       "      <td>14.4</td>\n",
       "      <td>17.2</td>\n",
       "      <td>13.7</td>\n",
       "      <td>11.0</td>\n",
       "      <td>3.4</td>\n",
       "      <td>17.6</td>\n",
       "    </tr>\n",
       "    <tr>\n",
       "      <th>2</th>\n",
       "      <td>2013</td>\n",
       "      <td>Norte</td>\n",
       "      <td>Brasil</td>\n",
       "      <td>Total</td>\n",
       "      <td>Privada</td>\n",
       "      <td>96.8</td>\n",
       "      <td>98.1</td>\n",
       "      <td>94.9</td>\n",
       "      <td>98.1</td>\n",
       "      <td>98.3</td>\n",
       "      <td>...</td>\n",
       "      <td>0.3</td>\n",
       "      <td>0.4</td>\n",
       "      <td>0.3</td>\n",
       "      <td>0.3</td>\n",
       "      <td>0.8</td>\n",
       "      <td>0.9</td>\n",
       "      <td>0.7</td>\n",
       "      <td>0.7</td>\n",
       "      <td>4.9</td>\n",
       "      <td>0.0</td>\n",
       "    </tr>\n",
       "    <tr>\n",
       "      <th>3</th>\n",
       "      <td>2013</td>\n",
       "      <td>Norte</td>\n",
       "      <td>Brasil</td>\n",
       "      <td>Total</td>\n",
       "      <td>Municipal</td>\n",
       "      <td>85.1</td>\n",
       "      <td>87.0</td>\n",
       "      <td>80.8</td>\n",
       "      <td>96.2</td>\n",
       "      <td>92.1</td>\n",
       "      <td>...</td>\n",
       "      <td>7.9</td>\n",
       "      <td>7.0</td>\n",
       "      <td>6.7</td>\n",
       "      <td>6.4</td>\n",
       "      <td>1.8</td>\n",
       "      <td>1.6</td>\n",
       "      <td>3.1</td>\n",
       "      <td>0.0</td>\n",
       "      <td>NaN</td>\n",
       "      <td>NaN</td>\n",
       "    </tr>\n",
       "    <tr>\n",
       "      <th>4</th>\n",
       "      <td>2013</td>\n",
       "      <td>Norte</td>\n",
       "      <td>Brasil</td>\n",
       "      <td>Total</td>\n",
       "      <td>Federal</td>\n",
       "      <td>89.3</td>\n",
       "      <td>95.3</td>\n",
       "      <td>86.1</td>\n",
       "      <td>99.3</td>\n",
       "      <td>98.4</td>\n",
       "      <td>...</td>\n",
       "      <td>0.0</td>\n",
       "      <td>0.0</td>\n",
       "      <td>0.2</td>\n",
       "      <td>0.0</td>\n",
       "      <td>3.3</td>\n",
       "      <td>3.2</td>\n",
       "      <td>4.7</td>\n",
       "      <td>1.5</td>\n",
       "      <td>4.0</td>\n",
       "      <td>2.3</td>\n",
       "    </tr>\n",
       "  </tbody>\n",
       "</table>\n",
       "<p>5 rows × 59 columns</p>\n",
       "</div>"
      ]
     },
     "execution_count": 2,
     "metadata": {},
     "output_type": "execute_result"
    }
   ],
   "execution_count": 2
  },
  {
   "metadata": {
    "ExecuteTime": {
     "end_time": "2025-10-09T14:19:44.448001Z",
     "start_time": "2025-10-09T14:19:44.364534Z"
    }
   },
   "cell_type": "code",
   "source": [
    "data_edu_ne = dataset[(dataset['Unidade_Geografica'] == 'Nordeste') & (dataset['Taxa_Aprovacao_Total_EF'] >= 80.0) & (dataset['Dependencia_Administrativa'] == 'Municipal')]\n",
    "print(data_edu_ne.shape)\n",
    "data_edu_ne.head()"
   ],
   "id": "afc852053b74a386",
   "outputs": [
    {
     "name": "stdout",
     "output_type": "stream",
     "text": [
      "(33, 59)\n"
     ]
    },
    {
     "data": {
      "text/plain": [
       "      Ano Unidade_Geografica  Regiao Localizacao Dependencia_Administrativa  \\\n",
       "21   2013           Nordeste  Brasil       Total                  Municipal   \n",
       "27   2013           Nordeste  Brasil       Rural                  Municipal   \n",
       "33   2013           Nordeste  Brasil      Urbana                  Municipal   \n",
       "622  2014           Nordeste  Brasil       Total                  Municipal   \n",
       "628  2014           Nordeste  Brasil       Rural                  Municipal   \n",
       "\n",
       "     Taxa_Aprovacao_Total_EF  Taxa_Aprovacao_Anos_Iniciais_EF  \\\n",
       "21                      84.3                             88.1   \n",
       "27                      85.8                             88.4   \n",
       "33                      83.4                             87.9   \n",
       "622                     84.1                             87.9   \n",
       "628                     85.4                             88.1   \n",
       "\n",
       "     Taxa_Aprovacao_Anos_Finais_EF  Taxa_Aprovacao_1_Ano_EF  \\\n",
       "21                            78.4                     96.7   \n",
       "27                            80.9                     97.0   \n",
       "33                            77.2                     96.5   \n",
       "622                           78.4                     96.9   \n",
       "628                           80.5                     97.2   \n",
       "\n",
       "     Taxa_Aprovacao_2_Ano_EF  ...  Taxa_Abandono_6_Ano_EF  \\\n",
       "21                      94.9  ...                     7.1   \n",
       "27                      95.0  ...                     6.7   \n",
       "33                      94.8  ...                     7.4   \n",
       "622                     95.6  ...                     7.0   \n",
       "628                     95.8  ...                     6.7   \n",
       "\n",
       "     Taxa_Abandono_7_Ano_EF  Taxa_Abandono_8_Ano_EF  Taxa_Abandono_9_Ano_EF  \\\n",
       "21                      6.4                     6.1                     5.8   \n",
       "27                      6.1                     6.3                     5.5   \n",
       "33                      6.7                     6.0                     5.9   \n",
       "622                     6.4                     6.0                     5.8   \n",
       "628                     5.9                     6.0                     5.7   \n",
       "\n",
       "     Taxa_Abandono_Total_EM  Taxa_Abandono_1_Ano_EM  Taxa_Abandono_2_Ano_EM  \\\n",
       "21                     15.5                    23.7                    13.8   \n",
       "27                     12.2                    16.5                    11.4   \n",
       "33                     17.9                    29.8                    15.6   \n",
       "622                    15.7                    21.5                    15.7   \n",
       "628                    14.3                    18.7                    13.7   \n",
       "\n",
       "     Taxa_Abandono_3_Ano_EM  Taxa_Abandono_4_Ano_EM  \\\n",
       "21                      8.8                     7.2   \n",
       "27                      6.7                    13.1   \n",
       "33                     10.3                     5.7   \n",
       "622                    10.0                    11.3   \n",
       "628                     8.1                    16.0   \n",
       "\n",
       "     Taxa_Abandono_Nao_Seriado_EM  \n",
       "21                            NaN  \n",
       "27                            NaN  \n",
       "33                            NaN  \n",
       "622                          20.8  \n",
       "628                          22.2  \n",
       "\n",
       "[5 rows x 59 columns]"
      ],
      "text/html": [
       "<div>\n",
       "<style scoped>\n",
       "    .dataframe tbody tr th:only-of-type {\n",
       "        vertical-align: middle;\n",
       "    }\n",
       "\n",
       "    .dataframe tbody tr th {\n",
       "        vertical-align: top;\n",
       "    }\n",
       "\n",
       "    .dataframe thead th {\n",
       "        text-align: right;\n",
       "    }\n",
       "</style>\n",
       "<table border=\"1\" class=\"dataframe\">\n",
       "  <thead>\n",
       "    <tr style=\"text-align: right;\">\n",
       "      <th></th>\n",
       "      <th>Ano</th>\n",
       "      <th>Unidade_Geografica</th>\n",
       "      <th>Regiao</th>\n",
       "      <th>Localizacao</th>\n",
       "      <th>Dependencia_Administrativa</th>\n",
       "      <th>Taxa_Aprovacao_Total_EF</th>\n",
       "      <th>Taxa_Aprovacao_Anos_Iniciais_EF</th>\n",
       "      <th>Taxa_Aprovacao_Anos_Finais_EF</th>\n",
       "      <th>Taxa_Aprovacao_1_Ano_EF</th>\n",
       "      <th>Taxa_Aprovacao_2_Ano_EF</th>\n",
       "      <th>...</th>\n",
       "      <th>Taxa_Abandono_6_Ano_EF</th>\n",
       "      <th>Taxa_Abandono_7_Ano_EF</th>\n",
       "      <th>Taxa_Abandono_8_Ano_EF</th>\n",
       "      <th>Taxa_Abandono_9_Ano_EF</th>\n",
       "      <th>Taxa_Abandono_Total_EM</th>\n",
       "      <th>Taxa_Abandono_1_Ano_EM</th>\n",
       "      <th>Taxa_Abandono_2_Ano_EM</th>\n",
       "      <th>Taxa_Abandono_3_Ano_EM</th>\n",
       "      <th>Taxa_Abandono_4_Ano_EM</th>\n",
       "      <th>Taxa_Abandono_Nao_Seriado_EM</th>\n",
       "    </tr>\n",
       "  </thead>\n",
       "  <tbody>\n",
       "    <tr>\n",
       "      <th>21</th>\n",
       "      <td>2013</td>\n",
       "      <td>Nordeste</td>\n",
       "      <td>Brasil</td>\n",
       "      <td>Total</td>\n",
       "      <td>Municipal</td>\n",
       "      <td>84.3</td>\n",
       "      <td>88.1</td>\n",
       "      <td>78.4</td>\n",
       "      <td>96.7</td>\n",
       "      <td>94.9</td>\n",
       "      <td>...</td>\n",
       "      <td>7.1</td>\n",
       "      <td>6.4</td>\n",
       "      <td>6.1</td>\n",
       "      <td>5.8</td>\n",
       "      <td>15.5</td>\n",
       "      <td>23.7</td>\n",
       "      <td>13.8</td>\n",
       "      <td>8.8</td>\n",
       "      <td>7.2</td>\n",
       "      <td>NaN</td>\n",
       "    </tr>\n",
       "    <tr>\n",
       "      <th>27</th>\n",
       "      <td>2013</td>\n",
       "      <td>Nordeste</td>\n",
       "      <td>Brasil</td>\n",
       "      <td>Rural</td>\n",
       "      <td>Municipal</td>\n",
       "      <td>85.8</td>\n",
       "      <td>88.4</td>\n",
       "      <td>80.9</td>\n",
       "      <td>97.0</td>\n",
       "      <td>95.0</td>\n",
       "      <td>...</td>\n",
       "      <td>6.7</td>\n",
       "      <td>6.1</td>\n",
       "      <td>6.3</td>\n",
       "      <td>5.5</td>\n",
       "      <td>12.2</td>\n",
       "      <td>16.5</td>\n",
       "      <td>11.4</td>\n",
       "      <td>6.7</td>\n",
       "      <td>13.1</td>\n",
       "      <td>NaN</td>\n",
       "    </tr>\n",
       "    <tr>\n",
       "      <th>33</th>\n",
       "      <td>2013</td>\n",
       "      <td>Nordeste</td>\n",
       "      <td>Brasil</td>\n",
       "      <td>Urbana</td>\n",
       "      <td>Municipal</td>\n",
       "      <td>83.4</td>\n",
       "      <td>87.9</td>\n",
       "      <td>77.2</td>\n",
       "      <td>96.5</td>\n",
       "      <td>94.8</td>\n",
       "      <td>...</td>\n",
       "      <td>7.4</td>\n",
       "      <td>6.7</td>\n",
       "      <td>6.0</td>\n",
       "      <td>5.9</td>\n",
       "      <td>17.9</td>\n",
       "      <td>29.8</td>\n",
       "      <td>15.6</td>\n",
       "      <td>10.3</td>\n",
       "      <td>5.7</td>\n",
       "      <td>NaN</td>\n",
       "    </tr>\n",
       "    <tr>\n",
       "      <th>622</th>\n",
       "      <td>2014</td>\n",
       "      <td>Nordeste</td>\n",
       "      <td>Brasil</td>\n",
       "      <td>Total</td>\n",
       "      <td>Municipal</td>\n",
       "      <td>84.1</td>\n",
       "      <td>87.9</td>\n",
       "      <td>78.4</td>\n",
       "      <td>96.9</td>\n",
       "      <td>95.6</td>\n",
       "      <td>...</td>\n",
       "      <td>7.0</td>\n",
       "      <td>6.4</td>\n",
       "      <td>6.0</td>\n",
       "      <td>5.8</td>\n",
       "      <td>15.7</td>\n",
       "      <td>21.5</td>\n",
       "      <td>15.7</td>\n",
       "      <td>10.0</td>\n",
       "      <td>11.3</td>\n",
       "      <td>20.8</td>\n",
       "    </tr>\n",
       "    <tr>\n",
       "      <th>628</th>\n",
       "      <td>2014</td>\n",
       "      <td>Nordeste</td>\n",
       "      <td>Brasil</td>\n",
       "      <td>Rural</td>\n",
       "      <td>Municipal</td>\n",
       "      <td>85.4</td>\n",
       "      <td>88.1</td>\n",
       "      <td>80.5</td>\n",
       "      <td>97.2</td>\n",
       "      <td>95.8</td>\n",
       "      <td>...</td>\n",
       "      <td>6.7</td>\n",
       "      <td>5.9</td>\n",
       "      <td>6.0</td>\n",
       "      <td>5.7</td>\n",
       "      <td>14.3</td>\n",
       "      <td>18.7</td>\n",
       "      <td>13.7</td>\n",
       "      <td>8.1</td>\n",
       "      <td>16.0</td>\n",
       "      <td>22.2</td>\n",
       "    </tr>\n",
       "  </tbody>\n",
       "</table>\n",
       "<p>5 rows × 59 columns</p>\n",
       "</div>"
      ]
     },
     "execution_count": 24,
     "metadata": {},
     "output_type": "execute_result"
    }
   ],
   "execution_count": 24
  },
  {
   "metadata": {
    "ExecuteTime": {
     "end_time": "2025-10-09T14:19:52.282837Z",
     "start_time": "2025-10-09T14:19:52.239371Z"
    }
   },
   "cell_type": "code",
   "source": [
    "nono_ano_EF = data_edu_ne['Taxa_Aprovacao_9_Ano_EF']\n",
    "media = np.mean(nono_ano_EF)\n",
    "mediana = np.median(nono_ano_EF)\n",
    "quartis = np.quantile(nono_ano_EF, [0, 0.25, 0.5, 0.75, 1])\n",
    "desvio_padrao = np.std(nono_ano_EF, ddof=1)\n",
    "variancia = np.var(nono_ano_EF, ddof=1)\n",
    "print(f\"Média: {media:.2f}\")\n",
    "print(f\"Mediana: {mediana:.2f}\")\n",
    "print(f\"Quartis: {quartis}\")\n",
    "print(f\"Desvio-Padrão: {desvio_padrao:.2f}\")\n",
    "print(f\"Variância: {variancia:.2f}\")"
   ],
   "id": "b68c54db8cc49b16",
   "outputs": [
    {
     "name": "stdout",
     "output_type": "stream",
     "text": [
      "Média: 90.95\n",
      "Mediana: 90.10\n",
      "Quartis: [85.1 88.4 90.1 94.7 98.1]\n",
      "Desvio-Padrão: 3.76\n",
      "Variância: 14.13\n"
     ]
    }
   ],
   "execution_count": 25
  },
  {
   "metadata": {
    "ExecuteTime": {
     "end_time": "2025-10-09T14:19:57.284408Z",
     "start_time": "2025-10-09T14:19:57.045878Z"
    }
   },
   "cell_type": "code",
   "source": [
    "# Teste de Normalidade\n",
    "# Histograma\n",
    "\n",
    "plt.hist(nono_ano_EF, bins=20)\n",
    "plt.title(\"Educação do Ensino Fundamental no Nordeste - Taxas de Aprovação\")\n",
    "plt.show()\n"
   ],
   "id": "d3962dbb5551c333",
   "outputs": [
    {
     "data": {
      "text/plain": [
       "<Figure size 640x480 with 1 Axes>"
      ],
      "image/png": "[encoded data removed]"
     },
     "metadata": {},
     "output_type": "display_data"
    }
   ],
   "execution_count": 26
  },
  {
   "metadata": {
    "ExecuteTime": {
     "end_time": "2025-10-09T14:20:01.743463Z",
     "start_time": "2025-10-09T14:20:01.484583Z"
    }
   },
   "cell_type": "code",
   "source": [
    "# Teste de Normalidade\n",
    "# Geração Q-Q Plot\n",
    "\n",
    "fig, ax = plt.subplots()\n",
    "stats.probplot(nono_ano_EF, fit=True,   plot=ax)\n",
    "plt.show()"
   ],
   "id": "616892f74b4e7f8e",
   "outputs": [
    {
     "data": {
      "text/plain": [
       "<Figure size 640x480 with 1 Axes>"
      ],
      "image/png": "[encoded data removed]"
     },
     "metadata": {},
     "output_type": "display_data"
    }
   ],
   "execution_count": 27
  },
  {
   "metadata": {
    "ExecuteTime": {
     "end_time": "2025-10-09T14:20:20.025089Z",
     "start_time": "2025-10-09T14:20:20.017866Z"
    }
   },
   "cell_type": "code",
   "source": [
    "# Teste de Normalidade\n",
    "# Execução do Teste de Shapiro-Wilk\n",
    "# p > 0.05 para Hipótese Nula\n",
    "\n",
    "stats.shapiro(nono_ano_EF)"
   ],
   "id": "f674e19b7ecc1bf8",
   "outputs": [
    {
     "data": {
      "text/plain": [
       "ShapiroResult(statistic=np.float64(0.9523311910094154), pvalue=np.float64(0.15556800202607218))"
      ]
     },
     "execution_count": 28,
     "metadata": {},
     "output_type": "execute_result"
    }
   ],
   "execution_count": 28
  },
  {
   "metadata": {},
   "cell_type": "code",
   "outputs": [],
   "execution_count": null,
   "source": "# Pelo Teste de Shapiro-Wilk, e no Gráfico do Q-Q Plot, não há como rejeitar a Hipótese Nula, ou seja, os dados estão distribuídos normalmente. Conclusão, a média de aprovação dos alunos do 9º do ensino fundamental da rede municipal é de 90.95%, ou seja, de 10 alunos da rede pública municipal do Nordeste Brasileiro, em média 9 alunos são aprovados, segundo dados do INEP.",
   "id": "8d6b198ab4805d05"
  },
  {
   "metadata": {
    "ExecuteTime": {
     "end_time": "2025-10-09T14:37:18.154508Z",
     "start_time": "2025-10-09T14:37:18.142379Z"
    }
   },
   "cell_type": "code",
   "source": [
    "# Qual a probabilidade de a taxa de aprovação ser menor que 80% dos alunos do 9º do ensino fundamental da rede municipal do Nordeste Brasileiro.\n",
    "\n",
    "taxa_aprovacao = 80.0\n",
    "prob = stats.norm.cdf(taxa_aprovacao, media, desvio_padrao)\n",
    "print(f\"Probabilidade: {prob * 100:.2f}%\")\n"
   ],
   "id": "d53aed778f64902f",
   "outputs": [
    {
     "name": "stdout",
     "output_type": "stream",
     "text": [
      "Probabilidade: 0.18%\n"
     ]
    }
   ],
   "execution_count": 41
  },
  {
   "metadata": {
    "ExecuteTime": {
     "end_time": "2025-10-09T14:44:52.835173Z",
     "start_time": "2025-10-09T14:44:52.821456Z"
    }
   },
   "cell_type": "code",
   "source": "# Esse alto índice de aprovação tem relação com as diversas políticas públicas adotadas, principalmente pelo Governo Federal, de evitar a evasão escolar, como por exemplo, o Bolsa Família. No entanto, a defasagem de aprendizagem é enorme. Muitos alunos saem do Ensino Fundamental mal sabendo ler e escrever e com déficit enorme em matemática. Daí se tira outra conclusão de que os altos índices de aprovação no Ensino Fundamental não tem correlação com a aprendizagem dos alunos, o que indica uma desqualificação dos quadros técnicos dos professores dessas redes de Ensino. Estima-se que 30% da população brasileira é analfabeta funcional, ou seja, leem mas não entendem do que leram.",
   "id": "159cc7bbcd8f7007",
   "outputs": [],
   "execution_count": 42
  }
 ],
 "metadata": {
  "kernelspec": {
   "display_name": "Python 3",
   "language": "python",
   "name": "python3"
  },
  "language_info": {
   "codemirror_mode": {
    "name": "ipython",
    "version": 2
   },
   "file_extension": ".py",
   "mimetype": "text/x-python",
   "name": "python",
   "nbconvert_exporter": "python",
   "pygments_lexer": "ipython2",
   "version": "2.7.6"
  }
 },
 "nbformat": 4,
 "nbformat_minor": 5
}
