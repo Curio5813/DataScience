{
 "cells": [
  {
   "metadata": {
    "ExecuteTime": {
     "end_time": "2025-09-18T14:57:02.459262Z",
     "start_time": "2025-09-18T14:56:59.489590Z"
    }
   },
   "cell_type": "code",
   "source": [
    "import pandas as pd\n",
    "import numpy as np\n",
    "from scipy import stats\n",
    "from scipy.stats import norm\n",
    "import matplotlib.pyplot as plt"
   ],
   "id": "230ed9f87981f006",
   "outputs": [],
   "execution_count": 1
  },
  {
   "cell_type": "code",
   "execution_count": null,
   "id": "initial_id",
   "metadata": {
    "collapsed": true
   },
   "outputs": [],
   "source": "# Since I haven’t opened the file yet, I’ll base the description on what these Spotify datasets usually include (like track name, artist, popularity score, and audio features such as danceability, energy, loudness, valence, tempo, etc.)."
  },
  {
   "metadata": {
    "ExecuteTime": {
     "end_time": "2025-09-18T15:03:11.220982Z",
     "start_time": "2025-09-18T15:03:11.133459Z"
    }
   },
   "cell_type": "code",
   "source": [
    "dataset = pd.read_csv(\"Popular_Spotify_Songs.csv\", sep=\",\", encoding=\"latin1\")\n",
    "print(dataset.shape)\n",
    "dataset.head()\n"
   ],
   "id": "4024bc811c1d5a1",
   "outputs": [
    {
     "name": "stdout",
     "output_type": "stream",
     "text": [
      "(953, 24)\n"
     ]
    },
    {
     "data": {
      "text/plain": [
       "                            track_name    artist(s)_name  artist_count  \\\n",
       "0  Seven (feat. Latto) (Explicit Ver.)  Latto, Jung Kook             2   \n",
       "1                                 LALA       Myke Towers             1   \n",
       "2                              vampire    Olivia Rodrigo             1   \n",
       "3                         Cruel Summer      Taylor Swift             1   \n",
       "4                       WHERE SHE GOES         Bad Bunny             1   \n",
       "\n",
       "   released_year  released_month  released_day  in_spotify_playlists  \\\n",
       "0           2023               7            14                   553   \n",
       "1           2023               3            23                  1474   \n",
       "2           2023               6            30                  1397   \n",
       "3           2019               8            23                  7858   \n",
       "4           2023               5            18                  3133   \n",
       "\n",
       "   in_spotify_charts    streams  in_apple_playlists  ...  bpm key   mode  \\\n",
       "0                147  141381703                  43  ...  125   B  Major   \n",
       "1                 48  133716286                  48  ...   92  C#  Major   \n",
       "2                113  140003974                  94  ...  138   F  Major   \n",
       "3                100  800840817                 116  ...  170   A  Major   \n",
       "4                 50  303236322                  84  ...  144   A  Minor   \n",
       "\n",
       "  danceability_%  valence_% energy_% acousticness_%  instrumentalness_%  \\\n",
       "0             80         89       83             31                   0   \n",
       "1             71         61       74              7                   0   \n",
       "2             51         32       53             17                   0   \n",
       "3             55         58       72             11                   0   \n",
       "4             65         23       80             14                  63   \n",
       "\n",
       "   liveness_%  speechiness_%  \n",
       "0           8              4  \n",
       "1          10              4  \n",
       "2          31              6  \n",
       "3          11             15  \n",
       "4          11              6  \n",
       "\n",
       "[5 rows x 24 columns]"
      ],
      "text/html": [
       "<div>\n",
       "<style scoped>\n",
       "    .dataframe tbody tr th:only-of-type {\n",
       "        vertical-align: middle;\n",
       "    }\n",
       "\n",
       "    .dataframe tbody tr th {\n",
       "        vertical-align: top;\n",
       "    }\n",
       "\n",
       "    .dataframe thead th {\n",
       "        text-align: right;\n",
       "    }\n",
       "</style>\n",
       "<table border=\"1\" class=\"dataframe\">\n",
       "  <thead>\n",
       "    <tr style=\"text-align: right;\">\n",
       "      <th></th>\n",
       "      <th>track_name</th>\n",
       "      <th>artist(s)_name</th>\n",
       "      <th>artist_count</th>\n",
       "      <th>released_year</th>\n",
       "      <th>released_month</th>\n",
       "      <th>released_day</th>\n",
       "      <th>in_spotify_playlists</th>\n",
       "      <th>in_spotify_charts</th>\n",
       "      <th>streams</th>\n",
       "      <th>in_apple_playlists</th>\n",
       "      <th>...</th>\n",
       "      <th>bpm</th>\n",
       "      <th>key</th>\n",
       "      <th>mode</th>\n",
       "      <th>danceability_%</th>\n",
       "      <th>valence_%</th>\n",
       "      <th>energy_%</th>\n",
       "      <th>acousticness_%</th>\n",
       "      <th>instrumentalness_%</th>\n",
       "      <th>liveness_%</th>\n",
       "      <th>speechiness_%</th>\n",
       "    </tr>\n",
       "  </thead>\n",
       "  <tbody>\n",
       "    <tr>\n",
       "      <th>0</th>\n",
       "      <td>Seven (feat. Latto) (Explicit Ver.)</td>\n",
       "      <td>Latto, Jung Kook</td>\n",
       "      <td>2</td>\n",
       "      <td>2023</td>\n",
       "      <td>7</td>\n",
       "      <td>14</td>\n",
       "      <td>553</td>\n",
       "      <td>147</td>\n",
       "      <td>141381703</td>\n",
       "      <td>43</td>\n",
       "      <td>...</td>\n",
       "      <td>125</td>\n",
       "      <td>B</td>\n",
       "      <td>Major</td>\n",
       "      <td>80</td>\n",
       "      <td>89</td>\n",
       "      <td>83</td>\n",
       "      <td>31</td>\n",
       "      <td>0</td>\n",
       "      <td>8</td>\n",
       "      <td>4</td>\n",
       "    </tr>\n",
       "    <tr>\n",
       "      <th>1</th>\n",
       "      <td>LALA</td>\n",
       "      <td>Myke Towers</td>\n",
       "      <td>1</td>\n",
       "      <td>2023</td>\n",
       "      <td>3</td>\n",
       "      <td>23</td>\n",
       "      <td>1474</td>\n",
       "      <td>48</td>\n",
       "      <td>133716286</td>\n",
       "      <td>48</td>\n",
       "      <td>...</td>\n",
       "      <td>92</td>\n",
       "      <td>C#</td>\n",
       "      <td>Major</td>\n",
       "      <td>71</td>\n",
       "      <td>61</td>\n",
       "      <td>74</td>\n",
       "      <td>7</td>\n",
       "      <td>0</td>\n",
       "      <td>10</td>\n",
       "      <td>4</td>\n",
       "    </tr>\n",
       "    <tr>\n",
       "      <th>2</th>\n",
       "      <td>vampire</td>\n",
       "      <td>Olivia Rodrigo</td>\n",
       "      <td>1</td>\n",
       "      <td>2023</td>\n",
       "      <td>6</td>\n",
       "      <td>30</td>\n",
       "      <td>1397</td>\n",
       "      <td>113</td>\n",
       "      <td>140003974</td>\n",
       "      <td>94</td>\n",
       "      <td>...</td>\n",
       "      <td>138</td>\n",
       "      <td>F</td>\n",
       "      <td>Major</td>\n",
       "      <td>51</td>\n",
       "      <td>32</td>\n",
       "      <td>53</td>\n",
       "      <td>17</td>\n",
       "      <td>0</td>\n",
       "      <td>31</td>\n",
       "      <td>6</td>\n",
       "    </tr>\n",
       "    <tr>\n",
       "      <th>3</th>\n",
       "      <td>Cruel Summer</td>\n",
       "      <td>Taylor Swift</td>\n",
       "      <td>1</td>\n",
       "      <td>2019</td>\n",
       "      <td>8</td>\n",
       "      <td>23</td>\n",
       "      <td>7858</td>\n",
       "      <td>100</td>\n",
       "      <td>800840817</td>\n",
       "      <td>116</td>\n",
       "      <td>...</td>\n",
       "      <td>170</td>\n",
       "      <td>A</td>\n",
       "      <td>Major</td>\n",
       "      <td>55</td>\n",
       "      <td>58</td>\n",
       "      <td>72</td>\n",
       "      <td>11</td>\n",
       "      <td>0</td>\n",
       "      <td>11</td>\n",
       "      <td>15</td>\n",
       "    </tr>\n",
       "    <tr>\n",
       "      <th>4</th>\n",
       "      <td>WHERE SHE GOES</td>\n",
       "      <td>Bad Bunny</td>\n",
       "      <td>1</td>\n",
       "      <td>2023</td>\n",
       "      <td>5</td>\n",
       "      <td>18</td>\n",
       "      <td>3133</td>\n",
       "      <td>50</td>\n",
       "      <td>303236322</td>\n",
       "      <td>84</td>\n",
       "      <td>...</td>\n",
       "      <td>144</td>\n",
       "      <td>A</td>\n",
       "      <td>Minor</td>\n",
       "      <td>65</td>\n",
       "      <td>23</td>\n",
       "      <td>80</td>\n",
       "      <td>14</td>\n",
       "      <td>63</td>\n",
       "      <td>11</td>\n",
       "      <td>6</td>\n",
       "    </tr>\n",
       "  </tbody>\n",
       "</table>\n",
       "<p>5 rows × 24 columns</p>\n",
       "</div>"
      ]
     },
     "execution_count": 7,
     "metadata": {},
     "output_type": "execute_result"
    }
   ],
   "execution_count": 7
  },
  {
   "metadata": {
    "ExecuteTime": {
     "end_time": "2025-09-18T15:32:25.715008Z",
     "start_time": "2025-09-18T15:32:25.683485Z"
    }
   },
   "cell_type": "code",
   "source": [
    "# Tratando os dados:\n",
    "\n",
    "# Função que transforma em número e substitui erros pela mediana\n",
    "def to_numeric_with_median(df, col):\n",
    "    df[col] = pd.to_numeric(df[col], errors=\"coerce\")  # converte inválidos para NaN\n",
    "    median_value = df[col].median()  # calcula mediana ignorando NaN\n",
    "    df[col].fillna(median_value)  # substitui NaN pela mediana\n",
    "    return df\n",
    "\n",
    "# Aplica nas colunas desejadas\n",
    "dataset = to_numeric_with_median(dataset, \"in_spotify_playlists\")\n",
    "dataset = to_numeric_with_median(dataset, \"streams\")\n",
    "\n",
    "# Filtra as músicas por quantidades em playlist no spotify, em mais de 10_000 playlists.\n",
    "musicas = dataset[(dataset['in_spotify_playlists'] >= 10_000)]\n",
    "print(musicas.shape)"
   ],
   "id": "84ddc559458db82",
   "outputs": [
    {
     "name": "stdout",
     "output_type": "stream",
     "text": [
      "(135, 24)\n"
     ]
    }
   ],
   "execution_count": 38
  },
  {
   "metadata": {
    "ExecuteTime": {
     "end_time": "2025-09-18T15:49:00.235999Z",
     "start_time": "2025-09-18T15:49:00.224944Z"
    }
   },
   "cell_type": "code",
   "source": [
    "# Calcular as medidas de centralidade da nota do primeiro período.\n",
    "streams = musicas['streams']\n",
    "media = np.mean(streams)\n",
    "mediana = np.median(streams)\n",
    "quartis = np.quantile(streams, [0, 0.25, 0.5, 0.75, 1])\n",
    "desvio_padrao = np.std(streams)\n",
    "variancia = np.var(streams)\n",
    "print(f\"Média: {media:.2f}\")\n",
    "print(f\"Médiana: {mediana:.2f}\")\n",
    "print(f\"Quartis: {quartis}\")\n",
    "print(f\"Desvio Padrão: {desvio_padrao:.2f}\")\n",
    "print(f\"Variância: {variancia:.2f}\")"
   ],
   "id": "e6f9344a034095bf",
   "outputs": [
    {
     "name": "stdout",
     "output_type": "stream",
     "text": [
      "Média: 1547081234.50\n",
      "Médiana: 1457139296.00\n",
      "Quartis: [3.89771964e+08 1.10151935e+09 1.45713930e+09 1.91364408e+09\n",
      " 3.70389507e+09]\n",
      "Desvio Padrão: 647797680.32\n",
      "Variância: 419641834628180864.00\n"
     ]
    }
   ],
   "execution_count": 59
  },
  {
   "metadata": {
    "ExecuteTime": {
     "end_time": "2025-09-18T15:47:51.005478Z",
     "start_time": "2025-09-18T15:47:50.766481Z"
    }
   },
   "cell_type": "code",
   "source": [
    "# Teste de Normalidade - Histograma\n",
    "plt.hist(streams, bins=20)\n",
    "plt.title('Quantidade de Streams (em >= 10.000 Playlists do Spotify)')\n",
    "plt.show()"
   ],
   "id": "6242f4cad919cdbc",
   "outputs": [
    {
     "data": {
      "text/plain": [
       "<Figure size 640x480 with 1 Axes>"
      ],
      "image/png": "[encoded data removed]"
     },
     "metadata": {},
     "output_type": "display_data"
    }
   ],
   "execution_count": 52
  },
  {
   "metadata": {
    "ExecuteTime": {
     "end_time": "2025-09-18T15:47:58.775295Z",
     "start_time": "2025-09-18T15:47:58.560040Z"
    }
   },
   "cell_type": "code",
   "source": [
    "# Teste de Normalidade - Q-Q Plot\n",
    "fig, ax = plt.subplots()\n",
    "stats.probplot(streams, fit=True, plot=ax)\n",
    "plt.show()"
   ],
   "id": "fcd14f7b45bac062",
   "outputs": [
    {
     "data": {
      "text/plain": [
       "<Figure size 640x480 with 1 Axes>"
      ],
      "image/png": "[encoded data removed]"
     },
     "metadata": {},
     "output_type": "display_data"
    }
   ],
   "execution_count": 53
  },
  {
   "metadata": {
    "ExecuteTime": {
     "end_time": "2025-09-18T15:49:02.242810Z",
     "start_time": "2025-09-18T15:49:02.233399Z"
    }
   },
   "cell_type": "code",
   "source": [
    "# Teste de Normalidade Shapiro-Wilker (considerando p = 0.01 como hipótese nula)\n",
    "stats.shapiro(streams)"
   ],
   "id": "79b995ab69ffccac",
   "outputs": [
    {
     "data": {
      "text/plain": [
       "ShapiroResult(statistic=np.float64(0.973859153151955), pvalue=np.float64(0.010583774475898595))"
      ]
     },
     "execution_count": 60,
     "metadata": {},
     "output_type": "execute_result"
    }
   ],
   "execution_count": 60
  },
  {
   "metadata": {
    "ExecuteTime": {
     "end_time": "2025-09-18T15:49:03.604807Z",
     "start_time": "2025-09-18T15:49:03.600050Z"
    }
   },
   "cell_type": "code",
   "source": "# Pelos Teste de Normalidade verifica que a amostra do dataset estão distribuídos normalmente em torno da média. Se verifica que quanto maior a quantidade de musicas contidas em playlist dos usuários maior a quantidade de streams delas.",
   "id": "d03d918b9eeeef18",
   "outputs": [],
   "execution_count": 61
  },
  {
   "metadata": {
    "ExecuteTime": {
     "end_time": "2025-09-18T15:37:28.422810Z",
     "start_time": "2025-09-18T15:37:28.407598Z"
    }
   },
   "cell_type": "code",
   "source": [
    "# Considerando que os dados estão normalmente distribuídos, vamos achar a probabilidade de uma música ter mais de 1 bilhão de streams.\n",
    "print(f\"A probabilidade é de: {norm.sf(1_000_000_000, media, desvio_padrao) * 100:.2f}%\")"
   ],
   "id": "94fb1406bf150323",
   "outputs": [
    {
     "name": "stdout",
     "output_type": "stream",
     "text": [
      "A probabilidade é de: 80.08%\n"
     ]
    }
   ],
   "execution_count": 45
  },
  {
   "metadata": {
    "ExecuteTime": {
     "end_time": "2025-09-18T15:40:17.133466Z",
     "start_time": "2025-09-18T15:40:17.117095Z"
    }
   },
   "cell_type": "code",
   "source": [
    "# Considerando que os dados estão normalmente distribuídos, vamos achar a probabilidade de uma música ter menos de 1 bilhões de streams.\n",
    "print(f\"A probabilidade é de: {norm.cdf(1_000_000_000, media, desvio_padrao) * 100:.2f}%\")"
   ],
   "id": "b9326ffcddbaad8",
   "outputs": [
    {
     "name": "stdout",
     "output_type": "stream",
     "text": [
      "A probabilidade é de: 19.92%\n"
     ]
    }
   ],
   "execution_count": 50
  },
  {
   "metadata": {
    "ExecuteTime": {
     "end_time": "2025-09-18T15:43:18.488458Z",
     "start_time": "2025-09-18T15:43:18.479453Z"
    }
   },
   "cell_type": "code",
   "source": [
    "# Considerando que os dados estão normalmente distribuídos, vamos achar a probabilidade de uma música ter mais de 500 milhões e menos de 1 bilhão de streams.\n",
    "print(f\"A probabilidade é de: {(norm.cdf(1_000_000_000, media, desvio_padrao) - norm.cdf(500_000_000, media, desvio_padrao)) * 100:.2f}%\")\n"
   ],
   "id": "15161fb188ad31c9",
   "outputs": [
    {
     "name": "stdout",
     "output_type": "stream",
     "text": [
      "A probabilidade é de: 14.62%\n"
     ]
    }
   ],
   "execution_count": 51
  },
  {
   "metadata": {
    "ExecuteTime": {
     "end_time": "2025-09-18T15:49:52.034939Z",
     "start_time": "2025-09-18T15:49:52.030107Z"
    }
   },
   "cell_type": "code",
   "source": "# Constata-se que quando uma música no spotify estão em mais de 10 mil playlist de usuários temos mais de 80% de chance de essa música já ter sido ouvida mais de 1 bilhão de vezes.",
   "id": "5d21498cfe269210",
   "outputs": [],
   "execution_count": 62
  }
 ],
 "metadata": {
  "kernelspec": {
   "display_name": "Python 3",
   "language": "python",
   "name": "python3"
  },
  "language_info": {
   "codemirror_mode": {
    "name": "ipython",
    "version": 2
   },
   "file_extension": ".py",
   "mimetype": "text/x-python",
   "name": "python",
   "nbconvert_exporter": "python",
   "pygments_lexer": "ipython2",
   "version": "2.7.6"
  }
 },
 "nbformat": 4,
 "nbformat_minor": 5
}
