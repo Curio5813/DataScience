{
 "cells": [
  {
   "cell_type": "code",
   "id": "initial_id",
   "metadata": {
    "collapsed": true,
    "ExecuteTime": {
     "end_time": "2025-10-17T13:09:58.811132Z",
     "start_time": "2025-10-17T13:09:55.480329Z"
    }
   },
   "source": [
    "from statistics import quantiles\n",
    "\n",
    "import numpy as np\n",
    "import pandas as pd\n",
    "from scipy import stats\n",
    "import matplotlib.pyplot as plt\n",
    "from sklearn.linear_model import LinearRegression\n",
    "from yellowbrick.regressor import ResidualsPlot"
   ],
   "outputs": [],
   "execution_count": 1
  },
  {
   "metadata": {},
   "cell_type": "code",
   "outputs": [],
   "execution_count": null,
   "source": [
    "# How Education Drives Economic Growth\n",
    "\n",
    "# This dataset explores the relationship between education and economic performance across countries and continents. It combines key indicators such as literacy rates, physician density, GDP metrics, and unemployment to uncover patterns and insights into how human capital contributes to national prosperity."
   ],
   "id": "6c0baae66f30aa4e"
  },
  {
   "metadata": {
    "ExecuteTime": {
     "end_time": "2025-10-17T13:11:06.884918Z",
     "start_time": "2025-10-17T13:11:06.791862Z"
    }
   },
   "cell_type": "code",
   "source": [
    "dataset = pd.read_csv('education_economy_data.csv')\n",
    "print(dataset.shape)\n",
    "dataset.head()"
   ],
   "id": "9b8f69510ae9a4ad",
   "outputs": [
    {
     "name": "stdout",
     "output_type": "stream",
     "text": [
      "(191, 9)\n"
     ]
    },
    {
     "data": {
      "text/plain": [
       "       Country  Literacy Rate  Physician Density  GDP (Current USD)  \\\n",
       "0  Afghanistan           43.0               0.28       1.723305e+10   \n",
       "1      Albania           98.1               1.20       2.354718e+10   \n",
       "2      Algeria           81.4               1.72       2.476260e+11   \n",
       "3      Andorra          100.0               3.33       3.785067e+09   \n",
       "4       Angola           71.1               0.21       8.482465e+10   \n",
       "\n",
       "   GDP Growth (% Annual)  GDP per Capita (Current USD)  \\\n",
       "0               2.710887                    415.707417   \n",
       "1               3.936625                   8575.171134   \n",
       "2               4.100000                   5364.027950   \n",
       "3               2.583555                  46812.448450   \n",
       "4               1.001289                   2308.159767   \n",
       "\n",
       "  GDP per Capita Category  Unemployment Rate (%) Continent  \n",
       "0                Very Low                 13.991      Asia  \n",
       "1                     Mid                 10.108    Europe  \n",
       "2                     Low                 11.701    Africa  \n",
       "3                    High                  3.700    Europe  \n",
       "4                     Low                 14.537    Africa  "
      ],
      "text/html": [
       "<div>\n",
       "<style scoped>\n",
       "    .dataframe tbody tr th:only-of-type {\n",
       "        vertical-align: middle;\n",
       "    }\n",
       "\n",
       "    .dataframe tbody tr th {\n",
       "        vertical-align: top;\n",
       "    }\n",
       "\n",
       "    .dataframe thead th {\n",
       "        text-align: right;\n",
       "    }\n",
       "</style>\n",
       "<table border=\"1\" class=\"dataframe\">\n",
       "  <thead>\n",
       "    <tr style=\"text-align: right;\">\n",
       "      <th></th>\n",
       "      <th>Country</th>\n",
       "      <th>Literacy Rate</th>\n",
       "      <th>Physician Density</th>\n",
       "      <th>GDP (Current USD)</th>\n",
       "      <th>GDP Growth (% Annual)</th>\n",
       "      <th>GDP per Capita (Current USD)</th>\n",
       "      <th>GDP per Capita Category</th>\n",
       "      <th>Unemployment Rate (%)</th>\n",
       "      <th>Continent</th>\n",
       "    </tr>\n",
       "  </thead>\n",
       "  <tbody>\n",
       "    <tr>\n",
       "      <th>0</th>\n",
       "      <td>Afghanistan</td>\n",
       "      <td>43.0</td>\n",
       "      <td>0.28</td>\n",
       "      <td>1.723305e+10</td>\n",
       "      <td>2.710887</td>\n",
       "      <td>415.707417</td>\n",
       "      <td>Very Low</td>\n",
       "      <td>13.991</td>\n",
       "      <td>Asia</td>\n",
       "    </tr>\n",
       "    <tr>\n",
       "      <th>1</th>\n",
       "      <td>Albania</td>\n",
       "      <td>98.1</td>\n",
       "      <td>1.20</td>\n",
       "      <td>2.354718e+10</td>\n",
       "      <td>3.936625</td>\n",
       "      <td>8575.171134</td>\n",
       "      <td>Mid</td>\n",
       "      <td>10.108</td>\n",
       "      <td>Europe</td>\n",
       "    </tr>\n",
       "    <tr>\n",
       "      <th>2</th>\n",
       "      <td>Algeria</td>\n",
       "      <td>81.4</td>\n",
       "      <td>1.72</td>\n",
       "      <td>2.476260e+11</td>\n",
       "      <td>4.100000</td>\n",
       "      <td>5364.027950</td>\n",
       "      <td>Low</td>\n",
       "      <td>11.701</td>\n",
       "      <td>Africa</td>\n",
       "    </tr>\n",
       "    <tr>\n",
       "      <th>3</th>\n",
       "      <td>Andorra</td>\n",
       "      <td>100.0</td>\n",
       "      <td>3.33</td>\n",
       "      <td>3.785067e+09</td>\n",
       "      <td>2.583555</td>\n",
       "      <td>46812.448450</td>\n",
       "      <td>High</td>\n",
       "      <td>3.700</td>\n",
       "      <td>Europe</td>\n",
       "    </tr>\n",
       "    <tr>\n",
       "      <th>4</th>\n",
       "      <td>Angola</td>\n",
       "      <td>71.1</td>\n",
       "      <td>0.21</td>\n",
       "      <td>8.482465e+10</td>\n",
       "      <td>1.001289</td>\n",
       "      <td>2308.159767</td>\n",
       "      <td>Low</td>\n",
       "      <td>14.537</td>\n",
       "      <td>Africa</td>\n",
       "    </tr>\n",
       "  </tbody>\n",
       "</table>\n",
       "</div>"
      ]
     },
     "execution_count": 2,
     "metadata": {},
     "output_type": "execute_result"
    }
   ],
   "execution_count": 2
  },
  {
   "metadata": {
    "ExecuteTime": {
     "end_time": "2025-10-17T13:28:58.818307Z",
     "start_time": "2025-10-17T13:28:58.804807Z"
    }
   },
   "cell_type": "code",
   "source": [
    "taxa_alfabetismo_per_capita = dataset[dataset['GDP per Capita (Current USD)'] >= 35_000]\n",
    "\n",
    "print(taxa_alfabetismo_per_capita.shape)"
   ],
   "id": "7f266d4e1cdda1e4",
   "outputs": [
    {
     "name": "stdout",
     "output_type": "stream",
     "text": [
      "(30, 9)\n"
     ]
    }
   ],
   "execution_count": 20
  },
  {
   "metadata": {
    "ExecuteTime": {
     "end_time": "2025-10-17T13:29:06.037428Z",
     "start_time": "2025-10-17T13:29:05.990120Z"
    }
   },
   "cell_type": "code",
   "source": [
    "numeros_alfabetizados = taxa_alfabetismo_per_capita['Literacy Rate']\n",
    "\n",
    "q1 = numeros_alfabetizados.quantile(0.25)\n",
    "q3 = numeros_alfabetizados.quantile(0.75)\n",
    "\n",
    "entre_quartis = numeros_alfabetizados[(numeros_alfabetizados >= q1) & (numeros_alfabetizados <= q3)]\n",
    "\n",
    "media = np.mean(numeros_alfabetizados)\n",
    "mediana = np.median(numeros_alfabetizados)\n",
    "quartis = np.quantile(numeros_alfabetizados, [0.25, 0.50, 0.75, 1])\n",
    "desvio_padrao = np.std(numeros_alfabetizados)\n",
    "variancia = np.var(numeros_alfabetizados)\n",
    "\n",
    "print(f\"Média: {media:.2f}\")\n",
    "print(f\"Mediana: {mediana:.2f}\")\n",
    "print(f\"Quartis: {quartis}\")\n",
    "print(f\"Desvio-Padrão: {desvio_padrao:.2f}\")\n",
    "print(f\"Variância: {variancia:.2f}\")"
   ],
   "id": "7a83c684440fa202",
   "outputs": [
    {
     "name": "stdout",
     "output_type": "stream",
     "text": [
      "Média: 98.65\n",
      "Mediana: 99.00\n",
      "Quartis: [ 99.  99.  99. 100.]\n",
      "Desvio-Padrão: 1.23\n",
      "Variância: 1.51\n"
     ]
    }
   ],
   "execution_count": 22
  },
  {
   "metadata": {
    "ExecuteTime": {
     "end_time": "2025-10-17T13:29:09.730541Z",
     "start_time": "2025-10-17T13:29:09.500727Z"
    }
   },
   "cell_type": "code",
   "source": [
    "# Testando Normalidade - Histograma\n",
    "\n",
    "plt.hist(numeros_alfabetizados, bins=20)\n",
    "plt.title(\"Histograma de Alfabetismo\")\n",
    "plt.show()"
   ],
   "id": "f50418ec94ffa708",
   "outputs": [
    {
     "data": {
      "text/plain": [
       "<Figure size 800x550 with 1 Axes>"
      ],
      "image/png": "[encoded data removed]"
     },
     "metadata": {},
     "output_type": "display_data"
    }
   ],
   "execution_count": 23
  },
  {
   "metadata": {
    "ExecuteTime": {
     "end_time": "2025-10-17T13:29:17.468710Z",
     "start_time": "2025-10-17T13:29:17.229520Z"
    }
   },
   "cell_type": "code",
   "source": [
    "# Teste de Normailidade - Gráfico Q-Q Plot\n",
    "\n",
    "fig, ax = plt.subplots()\n",
    "stats.probplot(numeros_alfabetizados, fit=True,   plot=ax)\n",
    "plt.show()"
   ],
   "id": "e1805303f0b138fa",
   "outputs": [
    {
     "data": {
      "text/plain": [
       "<Figure size 800x550 with 1 Axes>"
      ],
      "image/png": "[encoded data removed]"
     },
     "metadata": {},
     "output_type": "display_data"
    }
   ],
   "execution_count": 24
  },
  {
   "metadata": {
    "ExecuteTime": {
     "end_time": "2025-10-17T13:29:23.580855Z",
     "start_time": "2025-10-17T13:29:23.570804Z"
    }
   },
   "cell_type": "code",
   "source": [
    "# Teste de Normalidade - Shapiro\n",
    "\n",
    "stats.shapiro(numeros_alfabetizados)"
   ],
   "id": "2ae34ec07b9dc2c7",
   "outputs": [
    {
     "data": {
      "text/plain": [
       "ShapiroResult(statistic=np.float64(0.7437581225423892), pvalue=np.float64(7.230754559265781e-06))"
      ]
     },
     "execution_count": 25,
     "metadata": {},
     "output_type": "execute_result"
    }
   ],
   "execution_count": 25
  },
  {
   "metadata": {},
   "cell_type": "code",
   "outputs": [],
   "execution_count": null,
   "source": "# Pelo Teste de Normalidade a distribuição de taxa de alfabetização com relação ao PIB per capita não estão distribuídos normalmente. Rejeita-se a hipótese nula.",
   "id": "4f4944a7c54054e2"
  }
 ],
 "metadata": {
  "kernelspec": {
   "display_name": "Python 3",
   "language": "python",
   "name": "python3"
  },
  "language_info": {
   "codemirror_mode": {
    "name": "ipython",
    "version": 2
   },
   "file_extension": ".py",
   "mimetype": "text/x-python",
   "name": "python",
   "nbconvert_exporter": "python",
   "pygments_lexer": "ipython2",
   "version": "2.7.6"
  }
 },
 "nbformat": 4,
 "nbformat_minor": 5
}
