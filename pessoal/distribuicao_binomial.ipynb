{
 "cells": [
  {
   "metadata": {
    "ExecuteTime": {
     "end_time": "2025-09-25T16:54:10.895289Z",
     "start_time": "2025-09-25T16:54:10.888723Z"
    }
   },
   "cell_type": "code",
   "source": [
    "# Achar a probabilidade de tirar o número cinco ou o número seis três vezes em 6 lançamentos de um dado não viciado.\n",
    "from scipy import stats"
   ],
   "id": "e2faeb4976c15246",
   "outputs": [],
   "execution_count": 22
  },
  {
   "metadata": {
    "ExecuteTime": {
     "end_time": "2025-09-25T16:54:27.940977Z",
     "start_time": "2025-09-25T16:54:27.924560Z"
    }
   },
   "cell_type": "code",
   "source": [
    "n = 6 # Número de lançamentos do dado.\n",
    "k = 3 # Número de acertos.\n",
    "p = 2/6 # Probabilidade de cada eveneto (tiras 5 ou 6).\n",
    "probabilidade = stats.binom.pmf(k, n, p)\n",
    "print(f\"{probabilidade * 100:.2f}%\")"
   ],
   "id": "457ff87bc46b9e58",
   "outputs": [
    {
     "name": "stdout",
     "output_type": "stream",
     "text": [
      "1.78%\n"
     ]
    }
   ],
   "execution_count": 25
  },
  {
   "metadata": {
    "ExecuteTime": {
     "end_time": "2025-09-25T16:54:08.088950Z",
     "start_time": "2025-09-25T16:54:08.073038Z"
    }
   },
   "cell_type": "code",
   "source": "# Um fator a ser observado é que quando maior o número de eventos a probabilidade de acerta exatemente 3 vezes é próxima de zero, ou seja, é muito imporovável que lançado-se 100 vezes um dado não viciado, acerta exatemente 3 vezes, ou seja, só 3 vezes, é muito improvável. Daí calcula-se os valores em torno da média, ou seja, o Valor Esperado.",
   "id": "dc9a3f39e289d679",
   "outputs": [],
   "execution_count": 21
  }
 ],
 "metadata": {
  "kernelspec": {
   "name": "python3",
   "language": "python",
   "display_name": "Python 3 (ipykernel)"
  }
 },
 "nbformat": 4,
 "nbformat_minor": 5
}
