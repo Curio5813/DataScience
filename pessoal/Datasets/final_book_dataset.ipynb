{
 "cells": [
  {
   "metadata": {
    "ExecuteTime": {
     "end_time": "2025-09-17T14:12:43.291870Z",
     "start_time": "2025-09-17T14:12:40.425338Z"
    }
   },
   "cell_type": "code",
   "source": [
    "import pandas as pd\n",
    "import numpy as np\n",
    "from scipy import stats\n",
    "from scipy.stats import norm, skewnorm\n",
    "import matplotlib.pyplot as plt\n"
   ],
   "id": "96201bf280c891b0",
   "outputs": [],
   "execution_count": 1
  },
  {
   "metadata": {
    "ExecuteTime": {
     "end_time": "2025-09-17T14:12:45.344172Z",
     "start_time": "2025-09-17T14:12:45.336229Z"
    }
   },
   "cell_type": "code",
   "source": "# The dataset was obtained through web scraping from Amazon. More than 1700 books were scraped, fetching the most important information for each book. Duplicated were deleted, each column was formatted and made easy to use for data analysis purposes. Rows containing a lot of missing values were deleted, and in some cases, were filled with an appropriate value based on the column. Thus, the total number of books passed from 1788 to 946. The dataset contains 946 books obtained from scraping Amazon books related to data science, statistics, data analysis, Python, deep learning, and machine learning. There are 18 columns:",
   "id": "e92fdf2812572a71",
   "outputs": [],
   "execution_count": 2
  },
  {
   "metadata": {
    "ExecuteTime": {
     "end_time": "2025-09-17T15:10:52.557614Z",
     "start_time": "2025-09-17T15:10:52.485848Z"
    }
   },
   "cell_type": "code",
   "source": [
    "dataset = pd.read_csv('final_book_dataset.csv', sep=',')\n",
    "print(dataset.shape)\n",
    "dataset.head()"
   ],
   "id": "a175d4a08686cd44",
   "outputs": [
    {
     "name": "stdout",
     "output_type": "stream",
     "text": [
      "(830, 19)\n"
     ]
    },
    {
     "data": {
      "text/plain": [
       "                                               title  \\\n",
       "0  Data Analysis Using R (Low Priced Edition): A ...   \n",
       "1  Head First Data Analysis: A learner's guide to...   \n",
       "2  Guerrilla Data Analysis Using Microsoft Excel:...   \n",
       "3  Python for Data Analysis: Data Wrangling with ...   \n",
       "4  Excel Data Analysis For Dummies (For Dummies (...   \n",
       "\n",
       "                               author  price price (including used books)  \\\n",
       "0                 [ Dr Dhaval Maheta]   6.75                         6.75   \n",
       "1                                 NaN  33.72               21.49 - 33.72    \n",
       "2  [ Oz du Soleil,  and , Bill Jelen]  32.07                        32.07   \n",
       "3                 [ William McKinney]  53.99                        53.99   \n",
       "4                   [ Paul McFedries]  24.49                        24.49   \n",
       "\n",
       "  pages  avg_reviews n_reviews star5 star4 star3 star2 star1  \\\n",
       "0   500          4.4        23   55%   39%    6%   NaN   NaN   \n",
       "1   484          4.3       124   61%   20%    9%    4%    6%   \n",
       "2   274          4.7        10   87%   13%   NaN   NaN   NaN   \n",
       "3   547          4.6     1,686   75%   16%    5%    2%    2%   \n",
       "4   368          3.9        12   52%   17%   10%   10%   10%   \n",
       "\n",
       "                  dimensions       weight language  \\\n",
       "0     8.5 x 1.01 x 11 inches  2.53 pounds  English   \n",
       "1     8 x 0.98 x 9.25 inches  1.96 pounds  English   \n",
       "2  8.25 x 0.6 x 10.75 inches   1.4 pounds  English   \n",
       "3     7 x 1.11 x 9.19 inches  1.47 pounds  English   \n",
       "4  7.38 x 0.83 x 9.25 inches   1.3 pounds  English   \n",
       "\n",
       "                                           publisher         ISBN_13  \\\n",
       "0     Notion Press Media Pvt Ltd (November 22, 2021)  978-1685549596   \n",
       "1      O'Reilly Media; 1st edition (August 18, 2009)  978-0596153939   \n",
       "2  Holy Macro! Books; Third edition (August 1, 2022)  978-1615470747   \n",
       "3    O'Reilly Media; 2nd edition (November 14, 2017)  978-1491957660   \n",
       "4        For Dummies; 5th edition (February 3, 2022)  978-1119844426   \n",
       "\n",
       "                                                link  \\\n",
       "0  /Data-Analysis-Using-Low-Priced/dp/1685549594/...   \n",
       "1  /Head-First-Data-Analysis-statistics/dp/059615...   \n",
       "2  /Guerrilla-Analysis-Using-Microsoft-Excel/dp/1...   \n",
       "3  /Python-Data-Analysis-Wrangling-IPython/dp/149...   \n",
       "4  /Excel-Data-Analysis-Dummies-Computer/dp/11198...   \n",
       "\n",
       "                                       complete_link  \n",
       "0  https://www.amazon.com/Data-Analysis-Using-Low...  \n",
       "1  https://www.amazon.com/Head-First-Data-Analysi...  \n",
       "2  https://www.amazon.com/Guerrilla-Analysis-Usin...  \n",
       "3  https://www.amazon.com/Python-Data-Analysis-Wr...  \n",
       "4  https://www.amazon.com/Excel-Data-Analysis-Dum...  "
      ],
      "text/html": [
       "<div>\n",
       "<style scoped>\n",
       "    .dataframe tbody tr th:only-of-type {\n",
       "        vertical-align: middle;\n",
       "    }\n",
       "\n",
       "    .dataframe tbody tr th {\n",
       "        vertical-align: top;\n",
       "    }\n",
       "\n",
       "    .dataframe thead th {\n",
       "        text-align: right;\n",
       "    }\n",
       "</style>\n",
       "<table border=\"1\" class=\"dataframe\">\n",
       "  <thead>\n",
       "    <tr style=\"text-align: right;\">\n",
       "      <th></th>\n",
       "      <th>title</th>\n",
       "      <th>author</th>\n",
       "      <th>price</th>\n",
       "      <th>price (including used books)</th>\n",
       "      <th>pages</th>\n",
       "      <th>avg_reviews</th>\n",
       "      <th>n_reviews</th>\n",
       "      <th>star5</th>\n",
       "      <th>star4</th>\n",
       "      <th>star3</th>\n",
       "      <th>star2</th>\n",
       "      <th>star1</th>\n",
       "      <th>dimensions</th>\n",
       "      <th>weight</th>\n",
       "      <th>language</th>\n",
       "      <th>publisher</th>\n",
       "      <th>ISBN_13</th>\n",
       "      <th>link</th>\n",
       "      <th>complete_link</th>\n",
       "    </tr>\n",
       "  </thead>\n",
       "  <tbody>\n",
       "    <tr>\n",
       "      <th>0</th>\n",
       "      <td>Data Analysis Using R (Low Priced Edition): A ...</td>\n",
       "      <td>[ Dr Dhaval Maheta]</td>\n",
       "      <td>6.75</td>\n",
       "      <td>6.75</td>\n",
       "      <td>500</td>\n",
       "      <td>4.4</td>\n",
       "      <td>23</td>\n",
       "      <td>55%</td>\n",
       "      <td>39%</td>\n",
       "      <td>6%</td>\n",
       "      <td>NaN</td>\n",
       "      <td>NaN</td>\n",
       "      <td>8.5 x 1.01 x 11 inches</td>\n",
       "      <td>2.53 pounds</td>\n",
       "      <td>English</td>\n",
       "      <td>Notion Press Media Pvt Ltd (November 22, 2021)</td>\n",
       "      <td>978-1685549596</td>\n",
       "      <td>/Data-Analysis-Using-Low-Priced/dp/1685549594/...</td>\n",
       "      <td>https://www.amazon.com/Data-Analysis-Using-Low...</td>\n",
       "    </tr>\n",
       "    <tr>\n",
       "      <th>1</th>\n",
       "      <td>Head First Data Analysis: A learner's guide to...</td>\n",
       "      <td>NaN</td>\n",
       "      <td>33.72</td>\n",
       "      <td>21.49 - 33.72</td>\n",
       "      <td>484</td>\n",
       "      <td>4.3</td>\n",
       "      <td>124</td>\n",
       "      <td>61%</td>\n",
       "      <td>20%</td>\n",
       "      <td>9%</td>\n",
       "      <td>4%</td>\n",
       "      <td>6%</td>\n",
       "      <td>8 x 0.98 x 9.25 inches</td>\n",
       "      <td>1.96 pounds</td>\n",
       "      <td>English</td>\n",
       "      <td>O'Reilly Media; 1st edition (August 18, 2009)</td>\n",
       "      <td>978-0596153939</td>\n",
       "      <td>/Head-First-Data-Analysis-statistics/dp/059615...</td>\n",
       "      <td>https://www.amazon.com/Head-First-Data-Analysi...</td>\n",
       "    </tr>\n",
       "    <tr>\n",
       "      <th>2</th>\n",
       "      <td>Guerrilla Data Analysis Using Microsoft Excel:...</td>\n",
       "      <td>[ Oz du Soleil,  and , Bill Jelen]</td>\n",
       "      <td>32.07</td>\n",
       "      <td>32.07</td>\n",
       "      <td>274</td>\n",
       "      <td>4.7</td>\n",
       "      <td>10</td>\n",
       "      <td>87%</td>\n",
       "      <td>13%</td>\n",
       "      <td>NaN</td>\n",
       "      <td>NaN</td>\n",
       "      <td>NaN</td>\n",
       "      <td>8.25 x 0.6 x 10.75 inches</td>\n",
       "      <td>1.4 pounds</td>\n",
       "      <td>English</td>\n",
       "      <td>Holy Macro! Books; Third edition (August 1, 2022)</td>\n",
       "      <td>978-1615470747</td>\n",
       "      <td>/Guerrilla-Analysis-Using-Microsoft-Excel/dp/1...</td>\n",
       "      <td>https://www.amazon.com/Guerrilla-Analysis-Usin...</td>\n",
       "    </tr>\n",
       "    <tr>\n",
       "      <th>3</th>\n",
       "      <td>Python for Data Analysis: Data Wrangling with ...</td>\n",
       "      <td>[ William McKinney]</td>\n",
       "      <td>53.99</td>\n",
       "      <td>53.99</td>\n",
       "      <td>547</td>\n",
       "      <td>4.6</td>\n",
       "      <td>1,686</td>\n",
       "      <td>75%</td>\n",
       "      <td>16%</td>\n",
       "      <td>5%</td>\n",
       "      <td>2%</td>\n",
       "      <td>2%</td>\n",
       "      <td>7 x 1.11 x 9.19 inches</td>\n",
       "      <td>1.47 pounds</td>\n",
       "      <td>English</td>\n",
       "      <td>O'Reilly Media; 2nd edition (November 14, 2017)</td>\n",
       "      <td>978-1491957660</td>\n",
       "      <td>/Python-Data-Analysis-Wrangling-IPython/dp/149...</td>\n",
       "      <td>https://www.amazon.com/Python-Data-Analysis-Wr...</td>\n",
       "    </tr>\n",
       "    <tr>\n",
       "      <th>4</th>\n",
       "      <td>Excel Data Analysis For Dummies (For Dummies (...</td>\n",
       "      <td>[ Paul McFedries]</td>\n",
       "      <td>24.49</td>\n",
       "      <td>24.49</td>\n",
       "      <td>368</td>\n",
       "      <td>3.9</td>\n",
       "      <td>12</td>\n",
       "      <td>52%</td>\n",
       "      <td>17%</td>\n",
       "      <td>10%</td>\n",
       "      <td>10%</td>\n",
       "      <td>10%</td>\n",
       "      <td>7.38 x 0.83 x 9.25 inches</td>\n",
       "      <td>1.3 pounds</td>\n",
       "      <td>English</td>\n",
       "      <td>For Dummies; 5th edition (February 3, 2022)</td>\n",
       "      <td>978-1119844426</td>\n",
       "      <td>/Excel-Data-Analysis-Dummies-Computer/dp/11198...</td>\n",
       "      <td>https://www.amazon.com/Excel-Data-Analysis-Dum...</td>\n",
       "    </tr>\n",
       "  </tbody>\n",
       "</table>\n",
       "</div>"
      ]
     },
     "execution_count": 139,
     "metadata": {},
     "output_type": "execute_result"
    }
   ],
   "execution_count": 139
  },
  {
   "metadata": {
    "ExecuteTime": {
     "end_time": "2025-09-17T15:10:55.165653Z",
     "start_time": "2025-09-17T15:10:55.130344Z"
    }
   },
   "cell_type": "code",
   "source": [
    "# Filtrar os livros de data science, statistics, data analysis, Python, deep learning, and machine learning que em mais de 50% das avaliações receberam 5 estrelas.\n",
    "stars = dataset['star5'] = dataset['star5'].str.replace('%', '').astype(float)\n",
    "stars = dataset[dataset['star5'] >= 30.0]\n",
    "\n",
    "# Verificando dados nulos e ajustando pela mediana\n",
    "print(stars['price'].isna().sum())\n",
    "print(stars['price'].shape)\n",
    "mediana = stars['price'].median()\n",
    "stars.loc[:, 'price'] = stars['price'].fillna(mediana)\n",
    "stars.head()\n",
    "print(stars.shape)\n",
    "print(stars['price'].isna().sum())"
   ],
   "id": "f5d3ca704977da29",
   "outputs": [
    {
     "name": "stdout",
     "output_type": "stream",
     "text": [
      "63\n",
      "(699,)\n",
      "(699, 19)\n",
      "0\n"
     ]
    }
   ],
   "execution_count": 140
  },
  {
   "metadata": {
    "ExecuteTime": {
     "end_time": "2025-09-17T15:23:23.109825Z",
     "start_time": "2025-09-17T15:23:23.097303Z"
    }
   },
   "cell_type": "code",
   "source": [
    "# Filtrar os livros que receberam 5 estrelas com páginas > 300.\n",
    "livros = stars.loc[:, 'pages'] = pd.to_numeric(stars['pages'], errors='coerce')\n",
    "livros = stars[(stars['pages'] >= 300) & (stars['price'] >= 20) & (stars['price'] <= 70)]\n",
    "print(livros.shape)\n",
    "\n"
   ],
   "id": "f76a4df559fc48a0",
   "outputs": [
    {
     "name": "stdout",
     "output_type": "stream",
     "text": [
      "(317, 19)\n"
     ]
    }
   ],
   "execution_count": 185
  },
  {
   "metadata": {
    "ExecuteTime": {
     "end_time": "2025-09-17T15:23:25.986970Z",
     "start_time": "2025-09-17T15:23:25.971523Z"
    }
   },
   "cell_type": "code",
   "source": [
    "# Calcular as medidas de centralidade da nota do primeiro período.\n",
    "precos = livros['price']\n",
    "media = np.mean(precos)\n",
    "mediana = np.median(precos)\n",
    "quartis = np.quantile(precos, [0, 0.25, 0.5, 0.75, 1])\n",
    "desvio_padrao = np.std(precos)\n",
    "variancia = np.var(precos)\n",
    "print(f\"Média: {media:.2f}\")\n",
    "print(f\"Médiana: {mediana:.2f}\")\n",
    "print(f\"Quartis: {quartis}\")\n",
    "print(f\"Desvio Padrão: {desvio_padrao:.2f}\")\n",
    "print(f\"Variância: {variancia:.2f}\")\n"
   ],
   "id": "a7881b2943ecdb92",
   "outputs": [
    {
     "name": "stdout",
     "output_type": "stream",
     "text": [
      "Média: 42.43\n",
      "Médiana: 42.00\n",
      "Quartis: [20.   34.95 42.   49.99 70.  ]\n",
      "Desvio Padrão: 11.63\n",
      "Variância: 135.19\n"
     ]
    }
   ],
   "execution_count": 186
  },
  {
   "metadata": {
    "ExecuteTime": {
     "end_time": "2025-09-17T15:23:28.746108Z",
     "start_time": "2025-09-17T15:23:28.536289Z"
    }
   },
   "cell_type": "code",
   "source": [
    "# Teste de Normalidade - Histograma\n",
    "plt.hist(precos, bins=20)\n",
    "plt.title('Livros de Ciência de Dados')\n",
    "plt.show()\n"
   ],
   "id": "cf5f0fb24b71c3f7",
   "outputs": [
    {
     "data": {
      "text/plain": [
       "<Figure size 640x480 with 1 Axes>"
      ],
      "image/png": "[encoded data removed]"
     },
     "metadata": {},
     "output_type": "display_data"
    }
   ],
   "execution_count": 187
  },
  {
   "metadata": {
    "ExecuteTime": {
     "end_time": "2025-09-17T15:23:33.241452Z",
     "start_time": "2025-09-17T15:23:33.055778Z"
    }
   },
   "cell_type": "code",
   "source": [
    "# Teste de Normalidade - Q-Q Plot\n",
    "fig, ax = plt.subplots()\n",
    "stats.probplot(precos, fit=True, plot=ax)\n",
    "plt.show()"
   ],
   "id": "f2de00b7592c076b",
   "outputs": [
    {
     "data": {
      "text/plain": [
       "<Figure size 640x480 with 1 Axes>"
      ],
      "image/png": "[encoded data removed]"
     },
     "metadata": {},
     "output_type": "display_data"
    }
   ],
   "execution_count": 188
  },
  {
   "metadata": {
    "ExecuteTime": {
     "end_time": "2025-09-17T15:23:36.655171Z",
     "start_time": "2025-09-17T15:23:36.644528Z"
    }
   },
   "cell_type": "code",
   "source": [
    "# Teste de Normalidade Shapiro-Wilker\n",
    "stats.shapiro(precos)"
   ],
   "id": "ff8b5606bd518a36",
   "outputs": [
    {
     "data": {
      "text/plain": [
       "ShapiroResult(statistic=np.float64(0.9841967277224164), pvalue=np.float64(0.0014779929397297485))"
      ]
     },
     "execution_count": 189,
     "metadata": {},
     "output_type": "execute_result"
    }
   ],
   "execution_count": 189
  },
  {
   "metadata": {
    "ExecuteTime": {
     "end_time": "2025-09-17T15:23:39.752027Z",
     "start_time": "2025-09-17T15:23:39.593460Z"
    }
   },
   "cell_type": "code",
   "source": [
    "# Apesar de, o Teste de Shapiro-Wilk, e Q-Q Plot, descartar que os dados estão distribuídos normalmente de livros com 300 páginas ou mais, que receberam 50% ou mais de avalições 5 estrelas, analisando o gráfico de histograma, há uma tendência a simetria, de os dados estarem em torno da média. Talvez isso se deva aos dados no extremos da amostra, mesmo aplicando um filtro no dataset, outro fator é que o tamanho da amostra ser pouco representativa.\n",
    "\n",
    "plt.hist(precos, bins=20)\n",
    "plt.show()"
   ],
   "id": "8d5f973f1223adb3",
   "outputs": [
    {
     "data": {
      "text/plain": [
       "<Figure size 640x480 with 1 Axes>"
      ],
      "image/png": "[encoded data removed]"
     },
     "metadata": {},
     "output_type": "display_data"
    }
   ],
   "execution_count": 190
  },
  {
   "metadata": {
    "ExecuteTime": {
     "end_time": "2025-09-17T15:26:27.419046Z",
     "start_time": "2025-09-17T15:26:27.411135Z"
    }
   },
   "cell_type": "code",
   "source": "# Como pode ser visto no Histograma, há uma tendência de uma maior quantidade de livros com páginas >= 300 e 20 >= preços <= 70 estarem junto a média,",
   "id": "884146ec00e7848",
   "outputs": [],
   "execution_count": 192
  },
  {
   "metadata": {
    "ExecuteTime": {
     "end_time": "2025-09-17T15:49:32.346667Z",
     "start_time": "2025-09-17T15:49:32.329101Z"
    }
   },
   "cell_type": "code",
   "source": [
    "# Considerando que os dados estão normalmente distribuídos, vamos achar a probabilidade de o preço de um livro ser maior que 30 dolares e menor ou igual 50 doláres.\n",
    "print(f\"{(norm.cdf(50, media, desvio_padrao) - norm.cdf(30, media, desvio_padrao)) * 100:.2f}%\")\n"
   ],
   "id": "c816e1e727bfc6d6",
   "outputs": [
    {
     "name": "stdout",
     "output_type": "stream",
     "text": [
      "60.00%\n"
     ]
    }
   ],
   "execution_count": 209
  },
  {
   "metadata": {
    "ExecuteTime": {
     "end_time": "2025-09-17T15:49:35.072313Z",
     "start_time": "2025-09-17T15:49:35.059538Z"
    }
   },
   "cell_type": "code",
   "source": "# Conclusão: 60% dos livros que têm avaliações 5 estrelas por mais da metade dos reviews, e com 300 páginas ou mais, têm preços entre 30 dólares e 50 dólares.",
   "id": "14fa6eebd5daebc1",
   "outputs": [],
   "execution_count": 210
  }
 ],
 "metadata": {
  "kernelspec": {
   "name": "python3",
   "language": "python",
   "display_name": "Python 3 (ipykernel)"
  }
 },
 "nbformat": 4,
 "nbformat_minor": 5
}
