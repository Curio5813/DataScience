{
 "cells": [
  {
   "cell_type": "code",
   "id": "initial_id",
   "metadata": {
    "collapsed": true,
    "ExecuteTime": {
     "end_time": "2025-09-15T16:59:52.347799Z",
     "start_time": "2025-09-15T16:59:52.343093Z"
    }
   },
   "source": "# Estudos sobre medidas de centralidade e normalidade de dados em distribuições contínuas.",
   "outputs": [],
   "execution_count": 1
  },
  {
   "metadata": {
    "ExecuteTime": {
     "end_time": "2025-09-15T17:05:54.813228Z",
     "start_time": "2025-09-15T17:05:54.240200Z"
    }
   },
   "cell_type": "code",
   "source": [
    "import numpy as np\n",
    "import pandas as pd\n",
    "from scipy import stats\n",
    "import matplotlib.pyplot as plt\n"
   ],
   "id": "b8e184a6e139e04b",
   "outputs": [],
   "execution_count": 4
  },
  {
   "metadata": {
    "ExecuteTime": {
     "end_time": "2025-09-15T17:11:02.256784Z",
     "start_time": "2025-09-15T17:11:02.163244Z"
    }
   },
   "cell_type": "code",
   "source": [
    "dataset = pd.read_csv(\"jobs_in_data.csv\", sep=\",\")\n",
    "print(dataset.shape)\n",
    "dataset.head()"
   ],
   "id": "a0f82d0f96687cca",
   "outputs": [
    {
     "name": "stdout",
     "output_type": "stream",
     "text": [
      "(9355, 12)\n"
     ]
    },
    {
     "data": {
      "text/plain": [
       "   work_year             job_title                    job_category  \\\n",
       "0       2023  Data DevOps Engineer                Data Engineering   \n",
       "1       2023        Data Architect  Data Architecture and Modeling   \n",
       "2       2023        Data Architect  Data Architecture and Modeling   \n",
       "3       2023        Data Scientist       Data Science and Research   \n",
       "4       2023        Data Scientist       Data Science and Research   \n",
       "\n",
       "  salary_currency  salary  salary_in_usd employee_residence experience_level  \\\n",
       "0             EUR   88000          95012            Germany        Mid-level   \n",
       "1             USD  186000         186000      United States           Senior   \n",
       "2             USD   81800          81800      United States           Senior   \n",
       "3             USD  212000         212000      United States           Senior   \n",
       "4             USD   93300          93300      United States           Senior   \n",
       "\n",
       "  employment_type work_setting company_location company_size  \n",
       "0       Full-time       Hybrid          Germany            L  \n",
       "1       Full-time    In-person    United States            M  \n",
       "2       Full-time    In-person    United States            M  \n",
       "3       Full-time    In-person    United States            M  \n",
       "4       Full-time    In-person    United States            M  "
      ],
      "text/html": [
       "<div>\n",
       "<style scoped>\n",
       "    .dataframe tbody tr th:only-of-type {\n",
       "        vertical-align: middle;\n",
       "    }\n",
       "\n",
       "    .dataframe tbody tr th {\n",
       "        vertical-align: top;\n",
       "    }\n",
       "\n",
       "    .dataframe thead th {\n",
       "        text-align: right;\n",
       "    }\n",
       "</style>\n",
       "<table border=\"1\" class=\"dataframe\">\n",
       "  <thead>\n",
       "    <tr style=\"text-align: right;\">\n",
       "      <th></th>\n",
       "      <th>work_year</th>\n",
       "      <th>job_title</th>\n",
       "      <th>job_category</th>\n",
       "      <th>salary_currency</th>\n",
       "      <th>salary</th>\n",
       "      <th>salary_in_usd</th>\n",
       "      <th>employee_residence</th>\n",
       "      <th>experience_level</th>\n",
       "      <th>employment_type</th>\n",
       "      <th>work_setting</th>\n",
       "      <th>company_location</th>\n",
       "      <th>company_size</th>\n",
       "    </tr>\n",
       "  </thead>\n",
       "  <tbody>\n",
       "    <tr>\n",
       "      <th>0</th>\n",
       "      <td>2023</td>\n",
       "      <td>Data DevOps Engineer</td>\n",
       "      <td>Data Engineering</td>\n",
       "      <td>EUR</td>\n",
       "      <td>88000</td>\n",
       "      <td>95012</td>\n",
       "      <td>Germany</td>\n",
       "      <td>Mid-level</td>\n",
       "      <td>Full-time</td>\n",
       "      <td>Hybrid</td>\n",
       "      <td>Germany</td>\n",
       "      <td>L</td>\n",
       "    </tr>\n",
       "    <tr>\n",
       "      <th>1</th>\n",
       "      <td>2023</td>\n",
       "      <td>Data Architect</td>\n",
       "      <td>Data Architecture and Modeling</td>\n",
       "      <td>USD</td>\n",
       "      <td>186000</td>\n",
       "      <td>186000</td>\n",
       "      <td>United States</td>\n",
       "      <td>Senior</td>\n",
       "      <td>Full-time</td>\n",
       "      <td>In-person</td>\n",
       "      <td>United States</td>\n",
       "      <td>M</td>\n",
       "    </tr>\n",
       "    <tr>\n",
       "      <th>2</th>\n",
       "      <td>2023</td>\n",
       "      <td>Data Architect</td>\n",
       "      <td>Data Architecture and Modeling</td>\n",
       "      <td>USD</td>\n",
       "      <td>81800</td>\n",
       "      <td>81800</td>\n",
       "      <td>United States</td>\n",
       "      <td>Senior</td>\n",
       "      <td>Full-time</td>\n",
       "      <td>In-person</td>\n",
       "      <td>United States</td>\n",
       "      <td>M</td>\n",
       "    </tr>\n",
       "    <tr>\n",
       "      <th>3</th>\n",
       "      <td>2023</td>\n",
       "      <td>Data Scientist</td>\n",
       "      <td>Data Science and Research</td>\n",
       "      <td>USD</td>\n",
       "      <td>212000</td>\n",
       "      <td>212000</td>\n",
       "      <td>United States</td>\n",
       "      <td>Senior</td>\n",
       "      <td>Full-time</td>\n",
       "      <td>In-person</td>\n",
       "      <td>United States</td>\n",
       "      <td>M</td>\n",
       "    </tr>\n",
       "    <tr>\n",
       "      <th>4</th>\n",
       "      <td>2023</td>\n",
       "      <td>Data Scientist</td>\n",
       "      <td>Data Science and Research</td>\n",
       "      <td>USD</td>\n",
       "      <td>93300</td>\n",
       "      <td>93300</td>\n",
       "      <td>United States</td>\n",
       "      <td>Senior</td>\n",
       "      <td>Full-time</td>\n",
       "      <td>In-person</td>\n",
       "      <td>United States</td>\n",
       "      <td>M</td>\n",
       "    </tr>\n",
       "  </tbody>\n",
       "</table>\n",
       "</div>"
      ]
     },
     "execution_count": 14,
     "metadata": {},
     "output_type": "execute_result"
    }
   ],
   "execution_count": 14
  },
  {
   "metadata": {
    "ExecuteTime": {
     "end_time": "2025-09-15T18:17:31.415683Z",
     "start_time": "2025-09-15T18:17:31.397959Z"
    }
   },
   "cell_type": "code",
   "source": [
    "data_scientist = dataset[dataset['job_title'] == 'Data Scientist']\n",
    "print(data_scientist.shape)\n",
    "print(data_scientist.head())"
   ],
   "id": "53dc75d46ae2883c",
   "outputs": [
    {
     "name": "stdout",
     "output_type": "stream",
     "text": [
      "(1989, 12)\n",
      "    work_year       job_title               job_category salary_currency  \\\n",
      "3        2023  Data Scientist  Data Science and Research             USD   \n",
      "4        2023  Data Scientist  Data Science and Research             USD   \n",
      "5        2023  Data Scientist  Data Science and Research             USD   \n",
      "6        2023  Data Scientist  Data Science and Research             USD   \n",
      "13       2023  Data Scientist  Data Science and Research             GBP   \n",
      "\n",
      "    salary  salary_in_usd employee_residence experience_level employment_type  \\\n",
      "3   212000         212000      United States           Senior       Full-time   \n",
      "4    93300          93300      United States           Senior       Full-time   \n",
      "5   130000         130000      United States           Senior       Full-time   \n",
      "6   100000         100000      United States           Senior       Full-time   \n",
      "13   35000          43064     United Kingdom        Mid-level       Full-time   \n",
      "\n",
      "   work_setting company_location company_size  \n",
      "3     In-person    United States            M  \n",
      "4     In-person    United States            M  \n",
      "5        Remote    United States            M  \n",
      "6        Remote    United States            M  \n",
      "13    In-person   United Kingdom            M  \n"
     ]
    }
   ],
   "execution_count": 52
  },
  {
   "metadata": {
    "ExecuteTime": {
     "end_time": "2025-09-15T18:17:40.029183Z",
     "start_time": "2025-09-15T18:17:40.012314Z"
    }
   },
   "cell_type": "code",
   "source": [
    "# Calculando as medidas de centralidade e de dispersão dos salários em euros dos Cientistas de Dados.\n",
    "salarios = data_scientist['salary_in_usd']\n",
    "media = np.mean(salarios)\n",
    "median = np.median(salarios)\n",
    "quartis = np.quantile(salarios, [0, 0.25, 0.5, 0.75, 1])\n",
    "desvio_padrao = np.std(salarios, ddof = 1)\n",
    "variancia = np.var(salarios, ddof = 1)\n",
    "# print(salarios)\n",
    "print(f\"Média: {media:.2f}\")\n",
    "print(f\"Mediana: {median:.2f}\")\n",
    "print(f\"Quartis: {quartis}\")\n",
    "print(f\"Desvio-Padrão: {desvio_padrao:.2f}\")\n",
    "print(f\"Variância: {variancia:.2f}\")\n"
   ],
   "id": "2b365ee9b955deac",
   "outputs": [
    {
     "name": "stdout",
     "output_type": "stream",
     "text": [
      "Média: 156681.02\n",
      "Mediana: 154800.00\n",
      "Quartis: [ 16000. 120000. 154800. 190000. 412000.]\n",
      "Desvio-Padrão: 59914.37\n",
      "Variância: 3589732027.19\n"
     ]
    }
   ],
   "execution_count": 53
  },
  {
   "metadata": {
    "ExecuteTime": {
     "end_time": "2025-09-15T18:18:01.447574Z",
     "start_time": "2025-09-15T18:18:01.175386Z"
    }
   },
   "cell_type": "code",
   "source": [
    "# Teste de Normalidade\n",
    "# Histograma\n",
    "plt.hist(salarios, bins = 20)\n",
    "plt.title(\"Cientista de Dados - Salários (Euros)\")\n",
    "plt.show()"
   ],
   "id": "6fd39fc87aea69",
   "outputs": [
    {
     "data": {
      "text/plain": [
       "<Figure size 640x480 with 1 Axes>"
      ],
      "image/png": "[encoded data removed]"
     },
     "metadata": {},
     "output_type": "display_data"
    }
   ],
   "execution_count": 56
  },
  {
   "metadata": {
    "ExecuteTime": {
     "end_time": "2025-09-15T18:18:07.287841Z",
     "start_time": "2025-09-15T18:18:07.079085Z"
    }
   },
   "cell_type": "code",
   "source": [
    "# Teste de Normalidade\n",
    "# Geração de gráfico para verificar se a distribuição é normal\n",
    "fig, ax = plt.subplots()\n",
    "stats.probplot(salarios, fit=True,   plot=ax)\n",
    "plt.show()"
   ],
   "id": "bd70998b9dc15434",
   "outputs": [
    {
     "data": {
      "text/plain": [
       "<Figure size 640x480 with 1 Axes>"
      ],
      "image/png": "[encoded data removed]"
     },
     "metadata": {},
     "output_type": "display_data"
    }
   ],
   "execution_count": 57
  },
  {
   "metadata": {
    "ExecuteTime": {
     "end_time": "2025-09-15T18:18:12.289531Z",
     "start_time": "2025-09-15T18:18:12.279665Z"
    }
   },
   "cell_type": "code",
   "source": [
    "# Teste de Normailidade\n",
    "# Execução do Teste de Shapiro-Wilk\n",
    "# Segundo argumento é o valor de p, não há como rejeitar a hipótese nula\n",
    "stats.shapiro(salarios)"
   ],
   "id": "1a0929a184a6d313",
   "outputs": [
    {
     "data": {
      "text/plain": [
       "ShapiroResult(statistic=np.float64(0.985642210047207), pvalue=np.float64(3.0766078944204203e-13))"
      ]
     },
     "execution_count": 58,
     "metadata": {},
     "output_type": "execute_result"
    }
   ],
   "execution_count": 58
  },
  {
   "metadata": {},
   "cell_type": "code",
   "outputs": [],
   "execution_count": null,
   "source": "# A constatação, pelo teste de Shapiro-Wilk, na análise dos dados num gráfico de historgrama e do Gráfico Q-Q plot, verifica que a distribuição de salário de homens e mulheres cientista de dados não estão normalmente distribuídos. O que se percebe uma discrepância nos pontos extremos da distribuição. Isso, se deve em parte, aos níveis de experiência profissional dos trabalhadores.",
   "id": "90de78583170c0b"
  },
  {
   "metadata": {},
   "cell_type": "code",
   "outputs": [],
   "execution_count": null,
   "source": "",
   "id": "215d67d717e0be5"
  }
 ],
 "metadata": {
  "kernelspec": {
   "display_name": "Python 3",
   "language": "python",
   "name": "python3"
  },
  "language_info": {
   "codemirror_mode": {
    "name": "ipython",
    "version": 2
   },
   "file_extension": ".py",
   "mimetype": "text/x-python",
   "name": "python",
   "nbconvert_exporter": "python",
   "pygments_lexer": "ipython2",
   "version": "2.7.6"
  }
 },
 "nbformat": 4,
 "nbformat_minor": 5
}
