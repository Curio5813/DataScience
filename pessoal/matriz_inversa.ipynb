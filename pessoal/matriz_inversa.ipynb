{
 "cells": [
  {
   "cell_type": "code",
   "id": "initial_id",
   "metadata": {
    "collapsed": true,
    "ExecuteTime": {
     "end_time": "2025-08-14T14:46:34.989642Z",
     "start_time": "2025-08-14T14:46:34.881042Z"
    }
   },
   "source": "import numpy as np",
   "outputs": [],
   "execution_count": 1
  },
  {
   "metadata": {
    "ExecuteTime": {
     "end_time": "2025-08-14T14:56:52.773091Z",
     "start_time": "2025-08-14T14:56:52.745014Z"
    }
   },
   "cell_type": "code",
   "source": [
    "x = np.array([[1, 2], [3, 4]])\n",
    "x_inv = np.linalg.inv(x)\n",
    "det_x = np.linalg.det(x)\n",
    "id = x @ x_inv\n",
    "print(\"Matriz Original\")\n",
    "print(x)\n",
    "print(\"Matriz Inversa\")\n",
    "print(x_inv)\n",
    "print(\"Determinante da Matriz Original\")\n",
    "print(det_x)\n",
    "print(\"Matriz Identidade, que é o resultado da multiplicação de uma Matriz por sua Inversa\\n\"\n",
    "      \"que só ocorre quando o determinante é diferente de zero, ou seja, tem uma ou mais soluções.\")\n",
    "print(id)"
   ],
   "id": "e68fe4a41d82d2a7",
   "outputs": [
    {
     "name": "stdout",
     "output_type": "stream",
     "text": [
      "Matriz Original\n",
      "[[1 2]\n",
      " [3 4]]\n",
      "Matriz Inversa\n",
      "[[-2.   1. ]\n",
      " [ 1.5 -0.5]]\n",
      "Determinante da Matriz Original\n",
      "-2.0000000000000004\n",
      "Matriz Identidade, que é o resultado da multiplicação de uma Matriz por sua Inversa\n",
      "que só ocorre quando o determinante é diferente de zero, ou seja, tem uma ou mais soluções.\n",
      "[[1.0000000e+00 0.0000000e+00]\n",
      " [8.8817842e-16 1.0000000e+00]]\n"
     ]
    }
   ],
   "execution_count": 9
  },
  {
   "metadata": {},
   "cell_type": "code",
   "outputs": [],
   "execution_count": null,
   "source": "",
   "id": "959016d0ff21c128"
  }
 ],
 "metadata": {
  "kernelspec": {
   "display_name": "Python 3",
   "language": "python",
   "name": "python3"
  },
  "language_info": {
   "codemirror_mode": {
    "name": "ipython",
    "version": 2
   },
   "file_extension": ".py",
   "mimetype": "text/x-python",
   "name": "python",
   "nbconvert_exporter": "python",
   "pygments_lexer": "ipython2",
   "version": "2.7.6"
  }
 },
 "nbformat": 4,
 "nbformat_minor": 5
}
