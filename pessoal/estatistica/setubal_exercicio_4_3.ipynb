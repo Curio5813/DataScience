{
 "cells": [
  {
   "metadata": {
    "ExecuteTime": {
     "end_time": "2025-10-03T16:12:15.411441Z",
     "start_time": "2025-10-03T16:12:13.915246Z"
    }
   },
   "cell_type": "code",
   "source": "from scipy import stats",
   "id": "9fd0e57d6544b8a4",
   "outputs": [],
   "execution_count": 1
  },
  {
   "cell_type": "code",
   "id": "initial_id",
   "metadata": {
    "collapsed": true,
    "ExecuteTime": {
     "end_time": "2025-10-03T16:17:40.729008Z",
     "start_time": "2025-10-03T16:17:40.715161Z"
    }
   },
   "source": [
    "# Numa população de milhares de bovinos há 20% contamina- dos com o vírus W . Escolhendo 6 bovinos ao acaso, qual a probabilidade de que:\n",
    "# 1. Nenhum esteja contaminado.\n",
    "# 2. Todos estejam contaminados, sabendo-se que pelo menos um deles está.\n",
    "# 3. Metade ou mais esteja contaminado.\n",
    "\n",
    "# Usamos a Distribuição Binominal, já que são dados discretos, eventos independentes, e sabemos a probabilidade do evento ocrrer, mas não temos a média desse evento.\n",
    "\n",
    "p = 0.20\n",
    "n = 6\n",
    "prob_nenhum = stats.binom.pmf(0, n, p)\n",
    "print(f\"Probabilidade de nenhum contaminado: {prob_nenhum * 100:.2f}%\")\n",
    "\n",
    "prob_todos = stats.binom.pmf(n, n, p)\n",
    "prob_mais_1 = 1 - stats.binom.pmf(0, n, p)\n",
    "prob_condicional = prob_todos / prob_mais_1\n",
    "print(f\"Probabilidade de todos contaminados dado que pelo menos 1 está: {prob_condicional * 100:.2f}%\")\n",
    "\n",
    "prob_metade_ou_mais = sum(stats.binom.pmf(k, n, p) for k in range(3, n + 1))\n",
    "print(f\"Probabilidade de metade ou mais contaminados: {prob_metade_ou_mais * 100:.2f}%\")\n",
    "\n"
   ],
   "outputs": [
    {
     "name": "stdout",
     "output_type": "stream",
     "text": [
      "Probabilidade de nenhum contaminado: 26.21%\n",
      "Probabilidade de todos contaminados dado que pelo menos 1 está: 0.01%\n",
      "Probabilidade de metade ou mais contaminados: 9.89%\n"
     ]
    }
   ],
   "execution_count": 6
  }
 ],
 "metadata": {
  "kernelspec": {
   "display_name": "Python 3",
   "language": "python",
   "name": "python3"
  },
  "language_info": {
   "codemirror_mode": {
    "name": "ipython",
    "version": 2
   },
   "file_extension": ".py",
   "mimetype": "text/x-python",
   "name": "python",
   "nbconvert_exporter": "python",
   "pygments_lexer": "ipython2",
   "version": "2.7.6"
  }
 },
 "nbformat": 4,
 "nbformat_minor": 5
}
