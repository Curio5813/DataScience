{
 "cells": [
  {
   "cell_type": "code",
   "id": "initial_id",
   "metadata": {
    "collapsed": true,
    "ExecuteTime": {
     "end_time": "2025-10-13T13:09:26.634241Z",
     "start_time": "2025-10-13T13:09:25.115093Z"
    }
   },
   "source": [
    "from scipy import stats\n",
    "from math import sqrt"
   ],
   "outputs": [],
   "execution_count": 1
  },
  {
   "metadata": {
    "ExecuteTime": {
     "end_time": "2025-10-10T14:56:27.940703Z",
     "start_time": "2025-10-10T14:56:27.927851Z"
    }
   },
   "cell_type": "code",
   "source": "# Nos bebés, a idade (em meses) em que rompe o primeiro dente é uma v.a. normal de média 7 e variância igual a 4.",
   "id": "6979505d3db192a8",
   "outputs": [],
   "execution_count": 4
  },
  {
   "metadata": {
    "ExecuteTime": {
     "end_time": "2025-10-10T15:18:34.008128Z",
     "start_time": "2025-10-10T15:18:33.986731Z"
    }
   },
   "cell_type": "code",
   "source": [
    "# 1. Qual a probabilidade de que um bebé escolhido ao acaso tenha o primeiro dente antes dos 7 meses?\n",
    "\n",
    "media = 7\n",
    "desvio_padrao = sqrt(4)\n",
    "\n",
    "prob = stats.norm.cdf(7, media, desvio_padrao)\n",
    "\n",
    "print(f\"A Probabilidade é de {prob * 100:.2f}%\")"
   ],
   "id": "650bb232660f982e",
   "outputs": [
    {
     "name": "stdout",
     "output_type": "stream",
     "text": [
      "A Probabilidade é de 50.00%\n"
     ]
    }
   ],
   "execution_count": 31
  },
  {
   "metadata": {
    "ExecuteTime": {
     "end_time": "2025-10-10T15:18:24.459515Z",
     "start_time": "2025-10-10T15:18:24.435011Z"
    }
   },
   "cell_type": "code",
   "source": [
    "# 2. Qual a probabilidade de que em dois bebés, um tenha o primeiro dente depois dos 6 meses, e outro depois dos 8 meses?\n",
    "\n",
    "k = 1\n",
    "n = 2\n",
    "p = stats.norm.sf(6, media, desvio_padrao) * stats.norm.sf(8, media, desvio_padrao)\n",
    "\n",
    "prob = stats.binom.pmf(k, n, p)\n",
    "\n",
    "print(f\"A Probabilidade é de {prob * 100:.2f}%\")"
   ],
   "id": "1c29b1a448a92e3d",
   "outputs": [
    {
     "name": "stdout",
     "output_type": "stream",
     "text": [
      "A Probabilidade é de 33.57%\n"
     ]
    }
   ],
   "execution_count": 29
  },
  {
   "metadata": {
    "ExecuteTime": {
     "end_time": "2025-10-10T15:18:29.725277Z",
     "start_time": "2025-10-10T15:18:29.698193Z"
    }
   },
   "cell_type": "code",
   "source": [
    "# 3. Qual a probabilidade de que numa amostra de 10 bebés, 8 deles tenham o primeiro dente não antes dos 7 meses?\n",
    "\n",
    "k = 8\n",
    "n = 10\n",
    "\n",
    "p = stats.norm.sf(7, media, desvio_padrao)\n",
    "prob_total = stats.binom.pmf(k, n, p)\n",
    "\n",
    "print(f\"A Probabilidade é de: {prob_total * 100:.2f}%\")"
   ],
   "id": "491b50c3a35a41e6",
   "outputs": [
    {
     "name": "stdout",
     "output_type": "stream",
     "text": [
      "A Probabilidade é de: 4.39%\n"
     ]
    }
   ],
   "execution_count": 30
  }
 ],
 "metadata": {
  "kernelspec": {
   "display_name": "Python 3",
   "language": "python",
   "name": "python3"
  },
  "language_info": {
   "codemirror_mode": {
    "name": "ipython",
    "version": 2
   },
   "file_extension": ".py",
   "mimetype": "text/x-python",
   "name": "python",
   "nbconvert_exporter": "python",
   "pygments_lexer": "ipython2",
   "version": "2.7.6"
  }
 },
 "nbformat": 4,
 "nbformat_minor": 5
}
