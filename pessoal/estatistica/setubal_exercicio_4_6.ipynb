{
 "cells": [
  {
   "cell_type": "code",
   "id": "initial_id",
   "metadata": {
    "collapsed": true,
    "ExecuteTime": {
     "end_time": "2025-10-09T14:52:48.896829Z",
     "start_time": "2025-10-09T14:52:47.465346Z"
    }
   },
   "source": "from scipy import stats",
   "outputs": [],
   "execution_count": 1
  },
  {
   "metadata": {},
   "cell_type": "code",
   "outputs": [],
   "execution_count": null,
   "source": "# Um indivíduo que pratica tiro ao alvo, acerta na “mouche” em média, dois em cada três tiros. Supondo que faz dez tiros, qual a probabilidade de:",
   "id": "3ba06469b7bbe02"
  },
  {
   "metadata": {
    "ExecuteTime": {
     "end_time": "2025-10-09T15:01:02.134509Z",
     "start_time": "2025-10-09T15:01:02.126477Z"
    }
   },
   "cell_type": "code",
   "source": [
    "# 1. Acertar na “mouche” exactamente 6 vezes.\n",
    "\n",
    "p = 2/3\n",
    "k = 6\n",
    "n = 10\n",
    "prob = stats.binom.pmf(k, n, p)\n",
    "print(f\"Probabilidade: {prob * 100:.2f}%\")"
   ],
   "id": "de18a6615c670e44",
   "outputs": [
    {
     "name": "stdout",
     "output_type": "stream",
     "text": [
      "Probabilidade: 22.76%\n"
     ]
    }
   ],
   "execution_count": 8
  },
  {
   "metadata": {
    "ExecuteTime": {
     "end_time": "2025-10-09T15:03:18.189787Z",
     "start_time": "2025-10-09T15:03:18.170016Z"
    }
   },
   "cell_type": "code",
   "source": [
    "# 2. Acertar na “mouche” pelo menos 1 vez.\n",
    "\n",
    "p = 2/3\n",
    "k = 0\n",
    "n = 10\n",
    "prob = 1 - stats.binom.pmf(k, n, p)\n",
    "print(f\"Probabilidade: {prob * 100:.5f}%\")"
   ],
   "id": "198407d7b16c7967",
   "outputs": [
    {
     "name": "stdout",
     "output_type": "stream",
     "text": [
      "Probabilidade: 99.99831%\n"
     ]
    }
   ],
   "execution_count": 12
  },
  {
   "metadata": {
    "ExecuteTime": {
     "end_time": "2025-10-09T15:06:34.872180Z",
     "start_time": "2025-10-09T15:06:34.858790Z"
    }
   },
   "cell_type": "code",
   "source": [
    "# 3. Acertar na “mouche” quanto muito 2 vezes.\n",
    "\n",
    "k = 2\n",
    "prob = stats.binom.cdf(k, n, p)\n",
    "print(f\"Probabilidade: {prob * 100:.3f}%\") # 0, 1, 2 vezes"
   ],
   "id": "a7091fc94c9c155f",
   "outputs": [
    {
     "name": "stdout",
     "output_type": "stream",
     "text": [
      "Probabilidade: 0.340%\n"
     ]
    }
   ],
   "execution_count": 15
  }
 ],
 "metadata": {
  "kernelspec": {
   "display_name": "Python 3",
   "language": "python",
   "name": "python3"
  },
  "language_info": {
   "codemirror_mode": {
    "name": "ipython",
    "version": 2
   },
   "file_extension": ".py",
   "mimetype": "text/x-python",
   "name": "python",
   "nbconvert_exporter": "python",
   "pygments_lexer": "ipython2",
   "version": "2.7.6"
  }
 },
 "nbformat": 4,
 "nbformat_minor": 5
}
