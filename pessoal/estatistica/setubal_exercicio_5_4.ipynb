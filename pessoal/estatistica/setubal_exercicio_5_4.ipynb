{
 "cells": [
  {
   "metadata": {
    "ExecuteTime": {
     "end_time": "2025-10-06T16:14:19.356996Z",
     "start_time": "2025-10-06T16:14:17.795843Z"
    }
   },
   "cell_type": "code",
   "source": "from scipy import stats",
   "id": "4801c0f5690e7074",
   "outputs": [],
   "execution_count": 1
  },
  {
   "cell_type": "code",
   "id": "initial_id",
   "metadata": {
    "collapsed": true,
    "ExecuteTime": {
     "end_time": "2025-10-06T16:14:21.490638Z",
     "start_time": "2025-10-06T16:14:21.481305Z"
    }
   },
   "source": "# Uma máquina para empacotamento automático de açúcar produz pacotes cujo peso liquido é uma v.a. com distribuição normal com média 8 g e desvio padrão 2 g.\n",
   "outputs": [],
   "execution_count": 2
  },
  {
   "metadata": {
    "ExecuteTime": {
     "end_time": "2025-10-06T16:17:52.992158Z",
     "start_time": "2025-10-06T16:17:52.982728Z"
    }
   },
   "cell_type": "code",
   "source": [
    "# O problema já diz que a distribuição da variável aleatória está normalmente distribuída em torno da média. Assim, não cabe a verificação se um dataset está ou não normalmente distribuído, através do Teste de Shapiro-Wilk, onde p > 0.05, indica que estão normalmente distribuídos, aceitando-se assim hipótese nula, ou para garndes amostras o Teste de Kolmogorov-Smirnov, e para amostra <= 30 elementos o Teste T-Student, com os mesmo valores para p. Em algumas situações, o p pode ser > 0.01, quando o rigor é atenuado pelo excesso de dados de um dataset.\n",
    "\n",
    "# 1. Qual a probabilidade de um pacote escolhido ao acaso ter um peso superior a 8.5 g?\n",
    "\n",
    "media = 8\n",
    "desvio_padrao = 2\n",
    "\n",
    "prob = stats.norm.sf(8.5, media, desvio_padrao)\n",
    "print(f\"Probabilidade de um pacote escolhido ao acaso ter peso superio a 8.5 g: {prob * 100:.2f}%\")"
   ],
   "id": "53402dc17c8ddbf2",
   "outputs": [
    {
     "name": "stdout",
     "output_type": "stream",
     "text": [
      "Probabilidade de um pacote escolhido ao acaso ter peso superio a 8.5 g: 40.13%\n"
     ]
    }
   ],
   "execution_count": 6
  },
  {
   "metadata": {
    "ExecuteTime": {
     "end_time": "2025-10-06T16:21:47.742214Z",
     "start_time": "2025-10-06T16:21:47.715732Z"
    }
   },
   "cell_type": "code",
   "source": [
    "# 2. Qual a probabilidade de um pacote escolhido ao acaso ter um peso superior a 10 g ou inferior a 6 g?\n",
    "\n",
    "prob_maior_q = stats.norm.sf(10, media, desvio_padrao)\n",
    "prob_menor_q = stats.norm.cdf(6, media, desvio_padrao)\n",
    "prob = prob_maior_q + prob_menor_q\n",
    "\n",
    "print(f\"Probabilidade de um pacote escolhido ao acaso ter peso superior a 10 g e menor que 6 g: {prob * 100:.2f}%\")\n"
   ],
   "id": "50c567ec8a439fed",
   "outputs": [
    {
     "name": "stdout",
     "output_type": "stream",
     "text": [
      "Probabilidade de um pacote escolhido ao acaso ter peso superior a 10 g e menor que 6 g: 31.73%\n"
     ]
    }
   ],
   "execution_count": 7
  },
  {
   "metadata": {
    "ExecuteTime": {
     "end_time": "2025-10-06T16:30:10.596301Z",
     "start_time": "2025-10-06T16:30:10.564784Z"
    }
   },
   "cell_type": "code",
   "source": [
    "# 3. Qual deveria ser a média do peso liquido para que 99% dos pacotes contivessem pelo menos 9 g?\n",
    "\n",
    "peso_minimo = 9\n",
    "percentil = 0.01 # 99% dos pacotes serem de pelo menos 9 g.\n",
    "desvio_padrao = 2\n",
    "\n",
    "z = stats.norm.ppf(percentil) # O valor de z na tabela.\n",
    "\n",
    "print(f\"O valor de z na tabela: {z}\")\n",
    "\n",
    "\n",
    "media_necessaria = peso_minimo - z * desvio_padrao\n",
    "print(f\"Média necessária: {media_necessaria:.2f} g\")\n"
   ],
   "id": "7d6bff1e1fe62371",
   "outputs": [
    {
     "name": "stdout",
     "output_type": "stream",
     "text": [
      "O valor de z na tabela: -2.3263478740408408\n",
      "Média necessária: 13.65 g\n"
     ]
    }
   ],
   "execution_count": 11
  }
 ],
 "metadata": {
  "kernelspec": {
   "display_name": "Python 3",
   "language": "python",
   "name": "python3"
  },
  "language_info": {
   "codemirror_mode": {
    "name": "ipython",
    "version": 2
   },
   "file_extension": ".py",
   "mimetype": "text/x-python",
   "name": "python",
   "nbconvert_exporter": "python",
   "pygments_lexer": "ipython2",
   "version": "2.7.6"
  }
 },
 "nbformat": 4,
 "nbformat_minor": 5
}
