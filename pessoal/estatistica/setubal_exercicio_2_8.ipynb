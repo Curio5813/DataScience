{
 "cells": [
  {
   "metadata": {
    "ExecuteTime": {
     "end_time": "2025-10-01T17:05:00.939508Z",
     "start_time": "2025-10-01T17:05:00.930099Z"
    }
   },
   "cell_type": "code",
   "source": "from itertools import combinations",
   "id": "f139bbb41fa2a1f9",
   "outputs": [],
   "execution_count": 23
  },
  {
   "cell_type": "code",
   "id": "initial_id",
   "metadata": {
    "collapsed": true,
    "ExecuteTime": {
     "end_time": "2025-10-01T17:34:21.347761Z",
     "start_time": "2025-10-01T17:34:21.319192Z"
    }
   },
   "source": [
    "# Exercício 2.8 Três alunos e três alunas vão realizar um trabalho de grupo para a disciplina de Estatística. Como têm de existir 2 responsáveis pelo grupo, resolveram efectuar essa escolha de forma aleatória. Qual a probabilidade de existir não menos do que uma aluna nessa escolha?\n",
    "\n",
    "\n",
    "escolha_aluna = list(combinations([1, 2, 3], 2)) # Numero de escolhas de alunas.\n",
    "escolha_membros = list(combinations([1, 2, 3, 4, 5, 6], 2)) # Numero de escolhas dos membros do grupo.\n",
    "prob_aluna = len(escolha_aluna) / len(escolha_membros) # Probabilidade de só ter alunas como responsáveis, que é igual a probabilidade de não ter nenhuma aluna como responsável do grupo.\n",
    "\n",
    "print(f\"A probabilidade de não ter alunas como reponsáveis do grupo {prob_aluna * 100:.2f}%\")\n",
    "\n",
    "prob = 1 - prob_aluna # Probabilidade de ter pelo menos uma aluna como responsável do grupo. Que é a diferença da probabilidade de não ter alunas no grupo responsável por 1, o total das somas de probabilidade.\n",
    "\n",
    "print(f\"A probabilidade de ter pelos menos uma aluna como um dos reponsável do grupo é de {prob * 100:.2f}%\")\n",
    "\n"
   ],
   "outputs": [
    {
     "name": "stdout",
     "output_type": "stream",
     "text": [
      "A probabilidade de não ter alunas como reponsáveis do grupo 20.00%\n",
      "A probabilidade de ter pelos menos uma aluna como um dos reponsável do grupo é de 80.00%\n"
     ]
    }
   ],
   "execution_count": 37
  }
 ],
 "metadata": {
  "kernelspec": {
   "display_name": "Python 3",
   "language": "python",
   "name": "python3"
  },
  "language_info": {
   "codemirror_mode": {
    "name": "ipython",
    "version": 2
   },
   "file_extension": ".py",
   "mimetype": "text/x-python",
   "name": "python",
   "nbconvert_exporter": "python",
   "pygments_lexer": "ipython2",
   "version": "2.7.6"
  }
 },
 "nbformat": 4,
 "nbformat_minor": 5
}
