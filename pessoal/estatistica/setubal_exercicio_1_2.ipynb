{
 "cells": [
  {
   "cell_type": "code",
   "execution_count": null,
   "id": "initial_id",
   "metadata": {
    "collapsed": true
   },
   "outputs": [],
   "source": [
    "# Exercício 1.2 Uma cidade de 200000 habitantes tem à sua disposição dois jornais diários: ”O Aurora” e o ”O Conhecedor”. Um inquérito revelou os seguintes dados:\n",
    "# ◦ 50000 pessoas lêem diariamente ”O Aurora”;\n",
    "# ◦ 40000 pessoas lêem diariamente ”O Conhecedor”;\n",
    "# ◦ 5000 pessoas lêem diariamente os dois jornais.\n",
    "\n",
    "# Qual a probabilidade de ao escolhermos ao acaso um habitante desta cidade, este seja leitor:\n",
    "# 1. De pelo menos um dos jornais.\n",
    "# 2. De nenhum desses jornais.\n",
    "# 3. Exclusivamente do jornal ”O Aurora”.\n"
   ]
  },
  {
   "metadata": {
    "ExecuteTime": {
     "end_time": "2025-10-01T16:11:18.157239Z",
     "start_time": "2025-10-01T16:11:18.139464Z"
    }
   },
   "cell_type": "code",
   "source": [
    "# 1. De pelo menos um dos jornais;\n",
    "\n",
    "populacao = 200_000\n",
    "aurora = 50_000\n",
    "conhecedor = 40_000\n",
    "intersacao = 5_000\n",
    "total = aurora + conhecedor - intersacao\n",
    "\n",
    "prob = total/populacao\n",
    "\n",
    "print(f\"A probabilidade de uma pessoa escolhida ao acaso ler pelo menos um dos jornais é de {prob * 100:.2f}%\")\n"
   ],
   "id": "ccfa3f5774f8e022",
   "outputs": [
    {
     "name": "stdout",
     "output_type": "stream",
     "text": [
      "A probabilidade de uma pessoa escolhida ao acaso ler pelo menos um dos jornais é de 42.50%\n"
     ]
    }
   ],
   "execution_count": 7
  },
  {
   "metadata": {
    "ExecuteTime": {
     "end_time": "2025-10-01T16:13:07.748741Z",
     "start_time": "2025-10-01T16:13:07.733607Z"
    }
   },
   "cell_type": "code",
   "source": [
    "# 2. De nenhum desses jornais;\n",
    "\n",
    "prob = (populacao - total) / populacao\n",
    "\n",
    "print(f\"A probabilidade de uma pessoa escolhida ao acaso não ler nenhum dos jornais é de {prob * 100:.2f}%\")\n"
   ],
   "id": "42ab1dad6c0c2417",
   "outputs": [
    {
     "name": "stdout",
     "output_type": "stream",
     "text": [
      "A probabilidade de uma pessoa escolhida ao acaso não ler nenhum dos jornais é de 57.50%\n"
     ]
    }
   ],
   "execution_count": 8
  },
  {
   "metadata": {
    "ExecuteTime": {
     "end_time": "2025-10-01T16:15:09.751415Z",
     "start_time": "2025-10-01T16:15:09.744469Z"
    }
   },
   "cell_type": "code",
   "source": [
    "# 3. Exclusivamente do jornal ”O Aurora”;\n",
    "\n",
    "total = aurora - intersacao\n",
    "prob = total/populacao\n",
    "\n",
    "print(f\"A probabilidade de uma pessoa escolhida ao acaso ler excluisvamente o jornal 'O Aurora' é de {prob * 100:.2f}%\")\n",
    "\n"
   ],
   "id": "4f0ff560fea04abb",
   "outputs": [
    {
     "name": "stdout",
     "output_type": "stream",
     "text": [
      "A probabilidade de uma pessoa escolhida ao acaso ler excluisvamente o jornal 'O Aurora' é de 22.50%\n"
     ]
    }
   ],
   "execution_count": 10
  }
 ],
 "metadata": {
  "kernelspec": {
   "display_name": "Python 3",
   "language": "python",
   "name": "python3"
  },
  "language_info": {
   "codemirror_mode": {
    "name": "ipython",
    "version": 2
   },
   "file_extension": ".py",
   "mimetype": "text/x-python",
   "name": "python",
   "nbconvert_exporter": "python",
   "pygments_lexer": "ipython2",
   "version": "2.7.6"
  }
 },
 "nbformat": 4,
 "nbformat_minor": 5
}
