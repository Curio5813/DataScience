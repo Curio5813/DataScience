{
 "cells": [
  {
   "metadata": {
    "ExecuteTime": {
     "end_time": "2025-10-06T16:54:33.753402Z",
     "start_time": "2025-10-06T16:54:33.747111Z"
    }
   },
   "cell_type": "code",
   "source": "from scipy import stats",
   "id": "407b818ec072d3a6",
   "outputs": [],
   "execution_count": 24
  },
  {
   "cell_type": "code",
   "id": "initial_id",
   "metadata": {
    "collapsed": true,
    "ExecuteTime": {
     "end_time": "2025-10-06T16:54:31.555026Z",
     "start_time": "2025-10-06T16:54:31.548295Z"
    }
   },
   "source": [
    "# O número diário de visitantes de uma feira (em milhares de pessoas) segue uma distribuição Poisson com média igual a 3.\n",
    "\n",
    "# São eventos com dados discretos, independentes, e que acontece num dado intervalo, sabendo-se a média desse intervalo.\n",
    "\n",
    "# 1. Determine o número esperado de visitantes na feira.\n",
    "\n",
    "media = 3 # milhares\n",
    "\n",
    "esperado = 3 * 1000\n",
    "\n",
    "print(f\"O numero de visitantes esperado: {esperado}\")"
   ],
   "outputs": [
    {
     "name": "stdout",
     "output_type": "stream",
     "text": [
      "O numero de visitantes esperado: 3000\n"
     ]
    }
   ],
   "execution_count": 23
  },
  {
   "metadata": {
    "ExecuteTime": {
     "end_time": "2025-10-06T16:54:28.749006Z",
     "start_time": "2025-10-06T16:54:28.728229Z"
    }
   },
   "cell_type": "code",
   "source": [
    "# 2. Determine a probabilidade do número de visitantes não ser inferior a 4000.\n",
    "\n",
    "visitantes = stats.poisson(media)\n",
    "prob = visitantes.sf(3)\n",
    "\n",
    "print(f\"Probabilidade de o numero de visitantes não ser inferior à 4000: {prob * 100:.2f}%\")"
   ],
   "id": "38c73a2dc87ce493",
   "outputs": [
    {
     "name": "stdout",
     "output_type": "stream",
     "text": [
      "Probabilidade de o numero de visitantes não ser inferior à 4000: 35.28%\n"
     ]
    }
   ],
   "execution_count": 22
  }
 ],
 "metadata": {
  "kernelspec": {
   "display_name": "Python 3",
   "language": "python",
   "name": "python3"
  },
  "language_info": {
   "codemirror_mode": {
    "name": "ipython",
    "version": 2
   },
   "file_extension": ".py",
   "mimetype": "text/x-python",
   "name": "python",
   "nbconvert_exporter": "python",
   "pygments_lexer": "ipython2",
   "version": "2.7.6"
  }
 },
 "nbformat": 4,
 "nbformat_minor": 5
}
