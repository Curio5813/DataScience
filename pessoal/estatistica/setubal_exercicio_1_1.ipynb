{
 "cells": [
  {
   "cell_type": "code",
   "execution_count": null,
   "id": "initial_id",
   "metadata": {
    "collapsed": true
   },
   "outputs": [],
   "source": [
    "#  Exercício 1.1 - Lançam-se dois dados, um branco e outro vermelho e repre- senta-se o resultado por um par ordenado (B, V ). Qual a probabilidade da soma B + V ser:\n",
    "#  1. Par.\n",
    "#  2. Divisível por três.\n",
    "#  3. Par ou divisível por 3."
   ]
  },
  {
   "metadata": {
    "ExecuteTime": {
     "end_time": "2025-10-01T15:19:44.423240Z",
     "start_time": "2025-10-01T15:19:42.828571Z"
    }
   },
   "cell_type": "code",
   "source": [
    "from fontTools.feaLib.builder import addOpenTypeFeaturesFromString\n",
    "from scipy import stats\n"
   ],
   "id": "be5d0da0e01e0005",
   "outputs": [],
   "execution_count": 1
  },
  {
   "metadata": {
    "ExecuteTime": {
     "end_time": "2025-10-01T15:58:13.721308Z",
     "start_time": "2025-10-01T15:58:13.702405Z"
    }
   },
   "cell_type": "code",
   "source": [
    "# 1. Par;\n",
    "\n",
    "p_b_par = 3/6 # numeros pares;\n",
    "p_v_par = 3/6 # numeros pares;\n",
    "p_b_impar = 3/6 # numeros ímpares;\n",
    "p_v_impar = 3/6 # numeros ímpares;\n",
    "\n",
    "pro_par = p_b_par * p_v_par # a probabilidade de nos dois dados darem par;\n",
    "pro_impar = p_b_impar * p_v_impar # a probabilidade de nos dois dados darem impar;\n",
    "prob_evento = pro_par + pro_impar\n",
    "\n",
    "print(f\"A probabilidade total, visto que são eventos dependentes é de {prob_evento * 100:.2f}%\")\n",
    "\n"
   ],
   "id": "36896fe17f94ce22",
   "outputs": [
    {
     "name": "stdout",
     "output_type": "stream",
     "text": [
      "A probabilidade total, visto que são eventos dependentes é de 50.00%\n"
     ]
    }
   ],
   "execution_count": 26
  },
  {
   "metadata": {
    "ExecuteTime": {
     "end_time": "2025-10-01T15:58:17.309572Z",
     "start_time": "2025-10-01T15:58:17.296089Z"
    }
   },
   "cell_type": "code",
   "source": [
    "# 2. Divisível por 3;\n",
    "\n",
    "dado_branco, dado_vermelho, soma_prob = [], [], 0\n",
    "for i in range(1, 6 + 1):\n",
    "    dado_branco.append(i)\n",
    "    dado_vermelho.append(i)\n",
    "\n",
    "for i in range(0, len(dado_branco)):\n",
    "    for j in range(0, len(dado_vermelho)):\n",
    "        if (dado_branco[i] + dado_vermelho[j]) % 3 == 0:\n",
    "            soma_prob += 1/6 * 1/6 # Soma-se as probabilidades do evento ocorrer.\n",
    "\n",
    "print(f\"A probabilidade de sair um número divisível por 3 é de {soma_prob * 100:.2f}%\")\n"
   ],
   "id": "cd291f5560841500",
   "outputs": [
    {
     "name": "stdout",
     "output_type": "stream",
     "text": [
      "A probabilidade de sair um número divisível por 3 é de 33.33%\n"
     ]
    }
   ],
   "execution_count": 27
  },
  {
   "metadata": {
    "ExecuteTime": {
     "end_time": "2025-10-01T15:58:43.256217Z",
     "start_time": "2025-10-01T15:58:43.249735Z"
    }
   },
   "cell_type": "code",
   "source": [
    "# 3. Par ou divisível por 3;\n",
    "\n",
    "# Soma-se ambas as probabilidades já econtradas, pois ambos são eventos excludentes, ou a soma é par ou divísvel por 3, ou outra evento qualquer, mas não pode ser par e divisível por 3 ao mesmo tempo.\n",
    "\n",
    "prob = prob_evento + soma_prob\n",
    "print(f\"A probabilidade de ser par ou divisível por 3 é {prob * 100:.2f}%\")"
   ],
   "id": "258fea4b60f06cf1",
   "outputs": [
    {
     "name": "stdout",
     "output_type": "stream",
     "text": [
      "A probabilidade de ser par ou divisível por 3 é 83.33%\n"
     ]
    }
   ],
   "execution_count": 29
  }
 ],
 "metadata": {
  "kernelspec": {
   "display_name": "Python 3",
   "language": "python",
   "name": "python3"
  },
  "language_info": {
   "codemirror_mode": {
    "name": "ipython",
    "version": 2
   },
   "file_extension": ".py",
   "mimetype": "text/x-python",
   "name": "python",
   "nbconvert_exporter": "python",
   "pygments_lexer": "ipython2",
   "version": "2.7.6"
  }
 },
 "nbformat": 4,
 "nbformat_minor": 5
}
