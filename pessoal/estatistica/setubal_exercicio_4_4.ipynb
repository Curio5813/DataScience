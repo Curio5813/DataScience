{
 "cells": [
  {
   "metadata": {
    "ExecuteTime": {
     "end_time": "2025-10-03T16:24:22.598895Z",
     "start_time": "2025-10-03T16:24:22.583100Z"
    }
   },
   "cell_type": "code",
   "source": "from scipy import stats",
   "id": "a1994198f2d3bea9",
   "outputs": [],
   "execution_count": 2
  },
  {
   "cell_type": "code",
   "id": "initial_id",
   "metadata": {
    "collapsed": true,
    "ExecuteTime": {
     "end_time": "2025-10-03T16:43:11.586583Z",
     "start_time": "2025-10-03T16:43:11.551666Z"
    }
   },
   "source": [
    "# Qual a probabilidade de tirar, em 10 lançamentos de um dado numerado de 1 a 6:\n",
    "# 1. Exactamente três resultados ”face 5”?\n",
    "# 2. Pelo menos três resultados ”face 5”?\n",
    "# 3. Quanto muito três resultados ”face 5”?\n",
    "\n",
    "p = 1/6\n",
    "n = 10\n",
    "\n",
    "prob_extamente = stats.binom.pmf(3, n, p)\n",
    "print(f\"Probabilidade de saírem exatamente 3 resultados face 5: {prob_extamente * 100:.2f}%\")\n",
    "\n",
    "prob = 1 - stats.binom.cdf(2, n, p)\n",
    "print(f\"Probabilidade de saírem pelo menos 3 resultados face 5: {prob * 100:.2f}%\") # 3 ou mais\n",
    "\n",
    "prob = stats.binom.cdf(3, n, p)\n",
    "print(f\"Probabilidade de saírem qaunto muito 3 resultados face 5: {prob * 100:.2f}%\") # 0, 1, 2 ou 3"
   ],
   "outputs": [
    {
     "name": "stdout",
     "output_type": "stream",
     "text": [
      "Probabilidade de saírem exatamente 3 resultados face 5: 15.50%\n",
      "Probabilidade de saírem pelo menos 3 resultados face 5: 22.48%\n",
      "Probabilidade de saírem qaunto muito 3 resultados face 5: 93.03%\n"
     ]
    }
   ],
   "execution_count": 12
  }
 ],
 "metadata": {
  "kernelspec": {
   "display_name": "Python 3",
   "language": "python",
   "name": "python3"
  },
  "language_info": {
   "codemirror_mode": {
    "name": "ipython",
    "version": 2
   },
   "file_extension": ".py",
   "mimetype": "text/x-python",
   "name": "python",
   "nbconvert_exporter": "python",
   "pygments_lexer": "ipython2",
   "version": "2.7.6"
  }
 },
 "nbformat": 4,
 "nbformat_minor": 5
}
